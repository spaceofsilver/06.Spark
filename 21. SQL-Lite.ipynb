{
 "cells": [
  {
   "cell_type": "markdown",
   "metadata": {},
   "source": [
    "Jan 12 2021 (Tue)"
   ]
  },
  {
   "cell_type": "code",
   "execution_count": 1,
   "metadata": {},
   "outputs": [],
   "source": [
    "import sqlite3"
   ]
  },
  {
   "cell_type": "code",
   "execution_count": 11,
   "metadata": {},
   "outputs": [],
   "source": [
    "sql = 'create table if not exists ktest(pname varchar(20),ppname varchar(20))'\n",
    "#데이터베이스가 없으면 생성후,접속 있으면 접속\n",
    "db = sqlite3.connect(r'C:\\Users\\master4\\Documents\\eunseo\\my.db')\n",
    "# r은 제어코드\n",
    "db.execute( sql )\n",
    "db.close()"
   ]
  },
  {
   "cell_type": "code",
   "execution_count": 13,
   "metadata": {},
   "outputs": [],
   "source": [
    "sql = \"insert into ktest values(?,?)\"\n",
    "db = sqlite3.connect(r'C:\\Users\\master4\\Documents\\eunseo\\my.db')\n",
    "db.execute( sql, ('kbb','vbb') )\n",
    "db.commit()# insert, delete, update\n",
    "db.close()"
   ]
  },
  {
   "cell_type": "markdown",
   "metadata": {},
   "source": [
    "# sqllite 전용 툴\n",
    "- https://sqlitebrowser.org/dl/\n",
    "- sqllite는 별도의 다운로드 없이 python 내에서 실행가능하다\n",
    "- 그렇기 때문에 ip주소, 비밀번호 등을 입력하지 않고 위의 sql구문을 통해 접근이 가능"
   ]
  },
  {
   "cell_type": "markdown",
   "metadata": {},
   "source": [
    "## 웹서버 하나 실행해서 해보겠다\n",
    "- 아파치 톰캣\n",
    "    - https://tomcat.apache.org/download-90.cgi\n",
    "    - server : 8090\n",
    "    - 포트번호: 8080\n",
    "        - http://localhost:8080/\n",
    "        - 웹서버가 동작중인 것을 알 수 있다\n",
    "- root 경로\n",
    "    - C:\\Program Files\\Apache Software Foundation\\Tomcat 9.0\\webapps\\ROOT\n",
    "    - root경로에 html만들기\n",
    "        - ~/@@.html\n",
    "        - @@.html이 뜨는 것을 볼 수 있음\n",
    "- log값 보기\n",
    "    - C:\\Program Files\\Apache Software Foundation\\Tomcat 9.0\\logs\n",
    "- ip \n",
    "    - 172.18.55.225\n",
    "- ip주소:/8080/ -> log확인\n",
    "    - **172.18.55.225** - - [12/Jan/2021:13:13:07 +0900] \"GET /a.html HTTP/1.1\" 200 50\n",
    "    - **172.18.55.225** - - [12/Jan/2021:13:13:07 +0900] \"GET /favicon.ico HTTP/1.1\" 200 21630"
   ]
  }
 ],
 "metadata": {
  "kernelspec": {
   "display_name": "Python 3",
   "language": "python",
   "name": "python3"
  },
  "language_info": {
   "codemirror_mode": {
    "name": "ipython",
    "version": 3
   },
   "file_extension": ".py",
   "mimetype": "text/x-python",
   "name": "python",
   "nbconvert_exporter": "python",
   "pygments_lexer": "ipython3",
   "version": "3.7.6"
  }
 },
 "nbformat": 4,
 "nbformat_minor": 4
}
