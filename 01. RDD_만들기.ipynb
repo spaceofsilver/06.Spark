{
 "cells": [
  {
   "cell_type": "markdown",
   "metadata": {},
   "source": [
    "## Spark"
   ]
  },
  {
   "cell_type": "markdown",
   "metadata": {},
   "source": [
    "- pyspark 실행 오류 해결\n",
    "- https://qastack.kr/programming/58700384/how-to-fix-typeerror-an-integer-is-required-got-type-bytes-error-when-tryin\n",
    "    - **anaconda python version을 3.7**로 downgrade해주기"
   ]
  },
  {
   "cell_type": "code",
   "execution_count": 1,
   "metadata": {},
   "outputs": [],
   "source": [
    "from pyspark import SparkContext"
   ]
  },
  {
   "cell_type": "code",
   "execution_count": 2,
   "metadata": {},
   "outputs": [],
   "source": [
    "my = [10,20,30,40]"
   ]
  },
  {
   "cell_type": "code",
   "execution_count": 3,
   "metadata": {},
   "outputs": [],
   "source": [
    "sc = SparkContext('local') # 한 번만 실행"
   ]
  },
  {
   "cell_type": "code",
   "execution_count": null,
   "metadata": {},
   "outputs": [],
   "source": [
    "# 분산노드쪽에 워커노드가 뜬다\n",
    "# 분사논드 쪾에 메모리가 로딩이 된다.\n",
    "# 스팍컨텍스트는 드라이버 매니저라고 보면 된다\n",
    "# 분산해서 메모리를 올린다\n",
    "\n",
    "# 따라서 드라이버 클래스 \n",
    "# 로컬이라고 준 이유는 우리가 아직 스팍 클러스트럴 구성하지 않았기 때문\n",
    "# 분산 클러스터를 구성했다면 아이피 주소를 줘야함.\n"
   ]
  },
  {
   "cell_type": "code",
   "execution_count": 9,
   "metadata": {},
   "outputs": [],
   "source": [
    "rdd = sc.textFile( '../data/aa.txt' ) # rdd객체를 반환\n",
    "\n",
    "# 보통 하둡에서 파일을 읽어옴 -> linux에서 실행해볼 것\n",
    "# 우선 local에서 해볼거다.\n",
    "\n",
    "# 주의: sparkcontext는 하나만 띄워야 한다. 두 번 실행하면 오류남"
   ]
  },
  {
   "cell_type": "code",
   "execution_count": 10,
   "metadata": {},
   "outputs": [],
   "source": [
    "my = [10,20,30] # 하나의 메모리에 올리는 것."
   ]
  },
  {
   "cell_type": "code",
   "execution_count": 11,
   "metadata": {},
   "outputs": [
    {
     "data": {
      "text/plain": [
       "../data/aa.txt MapPartitionsRDD[3] at textFile at NativeMethodAccessorImpl.java:0"
      ]
     },
     "execution_count": 11,
     "metadata": {},
     "output_type": "execute_result"
    }
   ],
   "source": [
    "rdd # RDD객체란?\n",
    "\n",
    "# 큰 사이즈의 데이터를 메모리에 읽으면 분산 클러스터에 분산해서 올린다.\n",
    "# 이때 사용되는 \"분산 리스트\" = RDD\n",
    "# sparkcontext는 분산클러스터에 분산해서 데이터를 읽음\n",
    "# 메모리에 다 못 읽으면 하드디스크를 메모리처럼 사용함\n",
    "\n",
    "# 분산되어 있기 때문에 변경 불가능한 객체 모음"
   ]
  },
  {
   "cell_type": "markdown",
   "metadata": {},
   "source": [
    "# RDD( 분산 리스트 )\n",
    "## rdd객체의 멤버함수 \n",
    "- transformation관련 함수\n",
    "- action관련 함수"
   ]
  },
  {
   "cell_type": "markdown",
   "metadata": {},
   "source": [
    "## 1. Action 관련 함수"
   ]
  },
  {
   "cell_type": "code",
   "execution_count": 12,
   "metadata": {},
   "outputs": [
    {
     "data": {
      "text/plain": [
       "['welcome to spark world']"
      ]
     },
     "execution_count": 12,
     "metadata": {},
     "output_type": "execute_result"
    }
   ],
   "source": [
    "rdd.collect()   # master의 메모리로 통합 -> 하나의 \"리스트\"로 반환\n",
    "                # **주의**: collect()는 함수로 사용하면 안 됨. 메모리 부족으로 메모리가 죽어버릴 수 있음\n",
    "                # 따라서 데이터가 충분히 필터링이 되어 있어야 함."
   ]
  },
  {
   "cell_type": "code",
   "execution_count": 16,
   "metadata": {},
   "outputs": [],
   "source": [
    "my   = [10,20,30,40,50]   # 리스트\n",
    "nRdd = sc.parallelize(my) # 분산 리스트(RDD)로 변환 ( 분산해서 분산클러스터에 적재 )"
   ]
  },
  {
   "cell_type": "code",
   "execution_count": 17,
   "metadata": {},
   "outputs": [
    {
     "data": {
      "text/plain": [
       "[10, 20, 30, 40, 50]"
      ]
     },
     "execution_count": 17,
     "metadata": {},
     "output_type": "execute_result"
    }
   ],
   "source": [
    "nRdd.collect()"
   ]
  },
  {
   "cell_type": "code",
   "execution_count": 18,
   "metadata": {},
   "outputs": [],
   "source": [
    "sc.stop() # SparkContext 중지( shutdown )"
   ]
  },
  {
   "cell_type": "markdown",
   "metadata": {},
   "source": [
    "## 2. Transformation 관련 함수"
   ]
  },
  {
   "cell_type": "code",
   "execution_count": null,
   "metadata": {},
   "outputs": [],
   "source": []
  },
  {
   "cell_type": "code",
   "execution_count": null,
   "metadata": {},
   "outputs": [],
   "source": []
  },
  {
   "cell_type": "code",
   "execution_count": null,
   "metadata": {},
   "outputs": [],
   "source": []
  },
  {
   "cell_type": "code",
   "execution_count": null,
   "metadata": {},
   "outputs": [],
   "source": []
  },
  {
   "cell_type": "code",
   "execution_count": null,
   "metadata": {},
   "outputs": [],
   "source": []
  }
 ],
 "metadata": {
  "kernelspec": {
   "display_name": "Python 3",
   "language": "python",
   "name": "python3"
  },
  "language_info": {
   "codemirror_mode": {
    "name": "ipython",
    "version": 3
   },
   "file_extension": ".py",
   "mimetype": "text/x-python",
   "name": "python",
   "nbconvert_exporter": "python",
   "pygments_lexer": "ipython3",
   "version": "3.7.6"
  }
 },
 "nbformat": 4,
 "nbformat_minor": 4
}
