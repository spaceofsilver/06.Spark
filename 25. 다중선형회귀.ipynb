{
 "cells": [
  {
   "cell_type": "markdown",
   "metadata": {},
   "source": [
    "Jan 13 ,Wen, 2021 "
   ]
  },
  {
   "cell_type": "code",
   "execution_count": 1,
   "metadata": {},
   "outputs": [],
   "source": [
    "from pyspark.sql import  SQLContext \n",
    "from pyspark import SparkContext\n",
    "from pyspark.ml.regression import LinearRegression\n",
    "from pyspark.ml.feature import VectorAssembler\n",
    "import matplotlib.pyplot as plt\n",
    "import matplotlib\n",
    "import pandas as pd\n",
    "matplotlib.rcParams['font.family'] = 'Malgun Gothic'\n",
    "matplotlib.rcParams['axes.unicode_minus'] = False"
   ]
  },
  {
   "cell_type": "code",
   "execution_count": 2,
   "metadata": {},
   "outputs": [],
   "source": [
    "sc = SparkContext('local')\n",
    "sqlctx = SQLContext(sc)"
   ]
  },
  {
   "cell_type": "code",
   "execution_count": 4,
   "metadata": {},
   "outputs": [
    {
     "name": "stdout",
     "output_type": "stream",
     "text": [
      "+----+------+------+----------+------+---------+----------+\n",
      "|year|height|weight|     grade|gender|gradecode|gendercode|\n",
      "+----+------+------+----------+------+---------+----------+\n",
      "|2017| 152.5|  47.9|elementary|   man|        2|         1|\n",
      "|2017| 153.2|  46.6|elementary| woman|        2|         0|\n",
      "|2017| 170.6|  63.8|    middle|   man|        0|         1|\n",
      "|2017| 160.4|  54.2|    middle| woman|        0|         0|\n",
      "|2017| 173.9|  72.3|      high|   man|        1|         1|\n",
      "|2017| 160.9|  57.7|      high| woman|        1|         0|\n",
      "+----+------+------+----------+------+---------+----------+\n",
      "\n"
     ]
    }
   ],
   "source": [
    "df = sqlctx.read.csv('../data/data1/weight.csv', header=True, inferSchema=True)\n",
    "df.show()"
   ]
  },
  {
   "cell_type": "markdown",
   "metadata": {},
   "source": [
    "# 다중 선형 회귀\n",
    "### 특성 데이터\n",
    "- height, gradecode, gendercode\n",
    "\n",
    "### 라벨 \n",
    "- weight"
   ]
  },
  {
   "cell_type": "code",
   "execution_count": 13,
   "metadata": {},
   "outputs": [
    {
     "name": "stdout",
     "output_type": "stream",
     "text": [
      "+----+------+------+----------+------+---------+----------+---------------+\n",
      "|year|height|weight|     grade|gender|gradecode|gendercode|       features|\n",
      "+----+------+------+----------+------+---------+----------+---------------+\n",
      "|2017| 152.5|  47.9|elementary|   man|        2|         1|[152.5,2.0,1.0]|\n",
      "|2017| 153.2|  46.6|elementary| woman|        2|         0|[153.2,2.0,0.0]|\n",
      "|2017| 170.6|  63.8|    middle|   man|        0|         1|[170.6,0.0,1.0]|\n",
      "|2017| 160.4|  54.2|    middle| woman|        0|         0|[160.4,0.0,0.0]|\n",
      "|2017| 173.9|  72.3|      high|   man|        1|         1|[173.9,1.0,1.0]|\n",
      "|2017| 160.9|  57.7|      high| woman|        1|         0|[160.9,1.0,0.0]|\n",
      "+----+------+------+----------+------+---------+----------+---------------+\n",
      "\n"
     ]
    }
   ],
   "source": [
    "f = VectorAssembler( inputCols=[ 'height','gradecode','gendercode' ], outputCol='features' ) \n",
    "v_df = f.transform( df )\n",
    "v_df.show() "
   ]
  },
  {
   "cell_type": "code",
   "execution_count": 14,
   "metadata": {},
   "outputs": [
    {
     "name": "stdout",
     "output_type": "stream",
     "text": [
      "+------+---------------+\n",
      "|weight|       features|\n",
      "+------+---------------+\n",
      "|  47.9|[152.5,2.0,1.0]|\n",
      "|  46.6|[153.2,2.0,0.0]|\n",
      "|  63.8|[170.6,0.0,1.0]|\n",
      "|  54.2|[160.4,0.0,0.0]|\n",
      "|  72.3|[173.9,1.0,1.0]|\n",
      "|  57.7|[160.9,1.0,0.0]|\n",
      "+------+---------------+\n",
      "\n"
     ]
    }
   ],
   "source": [
    "v_df = v_df.select( 'weight', 'features' )\n",
    "v_df.show()"
   ]
  },
  {
   "cell_type": "code",
   "execution_count": 19,
   "metadata": {},
   "outputs": [],
   "source": [
    "lr = LinearRegression(   featuresCol='features',\n",
    "                         labelCol='weight',\n",
    "                         maxIter=100,     # 학습 횟수\n",
    "                         regParam = 0.01, # running mate(학습률)\n",
    "                     )\n",
    "lr_model = lr.fit( v_df ) # 학습을 시작"
   ]
  },
  {
   "cell_type": "markdown",
   "metadata": {},
   "source": [
    "# 예측 모델"
   ]
  },
  {
   "cell_type": "code",
   "execution_count": 25,
   "metadata": {},
   "outputs": [
    {
     "data": {
      "text/plain": [
       "DenseVector([1.2441, 1.992, -0.8302])"
      ]
     },
     "execution_count": 25,
     "metadata": {},
     "output_type": "execute_result"
    }
   ],
   "source": [
    "lr_model.coefficients"
   ]
  },
  {
   "cell_type": "code",
   "execution_count": 27,
   "metadata": {},
   "outputs": [],
   "source": [
    "w1 = lr_model.coefficients[0]\n",
    "w2 = lr_model.coefficients[1]\n",
    "w3 = lr_model.coefficients[2]"
   ]
  },
  {
   "cell_type": "code",
   "execution_count": 28,
   "metadata": {},
   "outputs": [],
   "source": [
    "b = lr_model.intercept"
   ]
  },
  {
   "cell_type": "code",
   "execution_count": 32,
   "metadata": {},
   "outputs": [
    {
     "name": "stdout",
     "output_type": "stream",
     "text": [
      "-145.94155709709023\n"
     ]
    }
   ],
   "source": [
    "x1 = 0\n",
    "x2 = 0\n",
    "x3 = 0\n",
    "\n",
    "y = w1*x1 +  w2*x2 + w3*x3 + b\n",
    "print(y)"
   ]
  },
  {
   "cell_type": "markdown",
   "metadata": {},
   "source": [
    "## 키가 170이고 gradecode가 2(초등학생) gendercode가 남자(1)일때 몸무게"
   ]
  },
  {
   "cell_type": "code",
   "execution_count": 36,
   "metadata": {},
   "outputs": [
    {
     "name": "stdout",
     "output_type": "stream",
     "text": [
      "예상 몸무게는: 68.72\n"
     ]
    }
   ],
   "source": [
    "x1 = 170\n",
    "x2 = 2\n",
    "x3 = 1\n",
    "\n",
    "y = w1*x1 +  w2*x2 + w3*x3 + b\n",
    "print('예상 몸무게는:', y.round(2))"
   ]
  }
 ],
 "metadata": {
  "kernelspec": {
   "display_name": "Python 3",
   "language": "python",
   "name": "python3"
  },
  "language_info": {
   "codemirror_mode": {
    "name": "ipython",
    "version": 3
   },
   "file_extension": ".py",
   "mimetype": "text/x-python",
   "name": "python",
   "nbconvert_exporter": "python",
   "pygments_lexer": "ipython3",
   "version": "3.7.6"
  }
 },
 "nbformat": 4,
 "nbformat_minor": 4
}
