{
 "cells": [
  {
   "cell_type": "markdown",
   "metadata": {},
   "source": [
    "Jan 11, 2021"
   ]
  },
  {
   "cell_type": "code",
   "execution_count": 1,
   "metadata": {},
   "outputs": [],
   "source": [
    "from pyspark import SparkContext\n",
    "from pyspark.sql import SQLContext, Row\n",
    "import pandas as pd\n",
    "import numpy as np\n",
    "\n",
    "from pyspark.sql.functions import when, udf, col, regexp_replace\n",
    "from pyspark.sql.types import DoubleType,IntegerType, StringType\n",
    "\n",
    "# 스파크 통계\n",
    "import pyspark.sql.functions as F"
   ]
  },
  {
   "cell_type": "code",
   "execution_count": 2,
   "metadata": {},
   "outputs": [],
   "source": [
    "sc = SparkContext( 'local' ) \n",
    "sqlCtx = SQLContext( sc )"
   ]
  },
  {
   "cell_type": "markdown",
   "metadata": {},
   "source": [
    "# Join\n",
    "- 데이터 프레임의 멤버함수\n",
    "- **결합**함수\n",
    "- 인자\n",
    "    - on = **['기준 컬럼']**\n",
    "        - ! 각 데이터 프레임에 공통 컬럼이 있어야함\n",
    "    - how = 'inner' or 'outer' or 'left' or 'right' ...\n",
    "        - default 값 : inner"
   ]
  },
  {
   "cell_type": "markdown",
   "metadata": {},
   "source": [
    "# 예제1"
   ]
  },
  {
   "cell_type": "code",
   "execution_count": 3,
   "metadata": {},
   "outputs": [],
   "source": [
    "emp =[('홍길동',1),('이순신',2),\n",
    "      ('임꺽정',3),('김철수',3),('김철수1',5)]\n",
    "dept = [('개발',1), ('연구',2),\n",
    "        ('영업',3),('기획',4) ]\n",
    "\n",
    "empA=sqlCtx.createDataFrame( emp, ['name','deptid'] )\n",
    "deptB=sqlCtx.createDataFrame( dept,['deptname','deptid'] )"
   ]
  },
  {
   "cell_type": "code",
   "execution_count": 4,
   "metadata": {},
   "outputs": [
    {
     "name": "stdout",
     "output_type": "stream",
     "text": [
      "+-------+------+\n",
      "|   name|deptid|\n",
      "+-------+------+\n",
      "| 홍길동|     1|\n",
      "| 이순신|     2|\n",
      "| 임꺽정|     3|\n",
      "| 김철수|     3|\n",
      "|김철수1|     5|\n",
      "+-------+------+\n",
      "\n"
     ]
    }
   ],
   "source": [
    "empA.show()"
   ]
  },
  {
   "cell_type": "code",
   "execution_count": 5,
   "metadata": {},
   "outputs": [
    {
     "name": "stdout",
     "output_type": "stream",
     "text": [
      "+--------+------+\n",
      "|deptname|deptid|\n",
      "+--------+------+\n",
      "|    개발|     1|\n",
      "|    연구|     2|\n",
      "|    영업|     3|\n",
      "|    기획|     4|\n",
      "+--------+------+\n",
      "\n"
     ]
    }
   ],
   "source": [
    "deptB.show()"
   ]
  },
  {
   "cell_type": "code",
   "execution_count": 16,
   "metadata": {},
   "outputs": [
    {
     "name": "stdout",
     "output_type": "stream",
     "text": [
      "+------+------+--------+\n",
      "|deptid|  name|deptname|\n",
      "+------+------+--------+\n",
      "|     1|홍길동|    개발|\n",
      "|     3|임꺽정|    영업|\n",
      "|     3|김철수|    영업|\n",
      "|     2|이순신|    연구|\n",
      "+------+------+--------+\n",
      "\n"
     ]
    }
   ],
   "source": [
    "# inner join\n",
    "# null이 있는건 **제거**한다는 의미\n",
    "empA.join( deptB, on=['deptid'] ).show() # default값은 inner"
   ]
  },
  {
   "cell_type": "code",
   "execution_count": 17,
   "metadata": {},
   "outputs": [
    {
     "name": "stdout",
     "output_type": "stream",
     "text": [
      "+------+-------+--------+\n",
      "|deptid|   name|deptname|\n",
      "+------+-------+--------+\n",
      "|     5|김철수1|    null|\n",
      "|     1| 홍길동|    개발|\n",
      "|     3| 임꺽정|    영업|\n",
      "|     3| 김철수|    영업|\n",
      "|     2| 이순신|    연구|\n",
      "+------+-------+--------+\n",
      "\n"
     ]
    }
   ],
   "source": [
    "# left join : 왼쪽이 다 나와야한다.\n",
    "empA.join( deptB, on=['deptid'], how='left' ).show()"
   ]
  },
  {
   "cell_type": "code",
   "execution_count": 18,
   "metadata": {},
   "outputs": [
    {
     "name": "stdout",
     "output_type": "stream",
     "text": [
      "+------+------+--------+\n",
      "|deptid|  name|deptname|\n",
      "+------+------+--------+\n",
      "|     1|홍길동|    개발|\n",
      "|     3|임꺽정|    영업|\n",
      "|     3|김철수|    영업|\n",
      "|     2|이순신|    연구|\n",
      "|     4|  null|    기획|\n",
      "+------+------+--------+\n",
      "\n"
     ]
    }
   ],
   "source": [
    "# right join :  오른쪽이 다 나와야한다.\n",
    "empA.join( deptB, on=['deptid'], how='right' ).show()"
   ]
  },
  {
   "cell_type": "code",
   "execution_count": 21,
   "metadata": {},
   "outputs": [
    {
     "name": "stdout",
     "output_type": "stream",
     "text": [
      "+------+-------+--------+\n",
      "|deptid|   name|deptname|\n",
      "+------+-------+--------+\n",
      "|     5|김철수1|    null|\n",
      "|     1| 홍길동|    개발|\n",
      "|     3| 임꺽정|    영업|\n",
      "|     3| 김철수|    영업|\n",
      "|     2| 이순신|    연구|\n",
      "|     4|   null|    기획|\n",
      "+------+-------+--------+\n",
      "\n"
     ]
    }
   ],
   "source": [
    "# full join : 두쪽 다 나와야한다\n",
    "empA.join( deptB, on=['deptid'], how='full' ).show()"
   ]
  },
  {
   "cell_type": "markdown",
   "metadata": {},
   "source": [
    "# 예제2"
   ]
  },
  {
   "cell_type": "code",
   "execution_count": 22,
   "metadata": {},
   "outputs": [
    {
     "name": "stdout",
     "output_type": "stream",
     "text": [
      "+----+---+\n",
      "|name| id|\n",
      "+----+---+\n",
      "|   A|  1|\n",
      "|   B|  2|\n",
      "|   C|  3|\n",
      "|   D|  4|\n",
      "+----+---+\n",
      "\n",
      "+----+----+\n",
      "|name|myid|\n",
      "+----+----+\n",
      "|   E|   1|\n",
      "|   A|   2|\n",
      "|   C|   3|\n",
      "|   F|   4|\n",
      "+----+----+\n",
      "\n"
     ]
    }
   ],
   "source": [
    "testA = [('A',1),('B',2),('C',3),('D',4)]\n",
    "testB = [('E',1),('A',2),('C',3),('F',4)]\n",
    "testAA = sqlCtx.createDataFrame( testA, ['name','id'] )\n",
    "testBB = sqlCtx.createDataFrame( testB,['name', 'myid'] )\n",
    "testAA.show()\n",
    "testBB.show()"
   ]
  },
  {
   "cell_type": "code",
   "execution_count": 29,
   "metadata": {},
   "outputs": [
    {
     "name": "stdout",
     "output_type": "stream",
     "text": [
      "+----+---+----+\n",
      "|name| id|myid|\n",
      "+----+---+----+\n",
      "|   C|  3|   3|\n",
      "|   A|  1|   2|\n",
      "+----+---+----+\n",
      "\n"
     ]
    }
   ],
   "source": [
    "# inner join : a,c만 나옴\n",
    "testAA.join( testBB, on=['name'] ).show()"
   ]
  },
  {
   "cell_type": "code",
   "execution_count": 31,
   "metadata": {},
   "outputs": [
    {
     "name": "stdout",
     "output_type": "stream",
     "text": [
      "+----+----+----+\n",
      "|name|  id|myid|\n",
      "+----+----+----+\n",
      "|   F|null|   4|\n",
      "|   E|null|   1|\n",
      "|   B|   2|null|\n",
      "|   D|   4|null|\n",
      "|   C|   3|   3|\n",
      "|   A|   1|   2|\n",
      "+----+----+----+\n",
      "\n"
     ]
    }
   ],
   "source": [
    "# left join : testAA가 다 나와야한다\n",
    "testAA.join( testBB, on=['name'], how='full' ).show()"
   ]
  },
  {
   "cell_type": "code",
   "execution_count": 32,
   "metadata": {},
   "outputs": [
    {
     "name": "stdout",
     "output_type": "stream",
     "text": [
      "+----+----+----+\n",
      "|name|  id|myid|\n",
      "+----+----+----+\n",
      "|   F|null|   4|\n",
      "|   E|null|   1|\n",
      "|   C|   3|   3|\n",
      "|   A|   1|   2|\n",
      "+----+----+----+\n",
      "\n"
     ]
    }
   ],
   "source": [
    "# right join\n",
    "testAA.join( testBB, on=['name'], how='right' ).show()"
   ]
  },
  {
   "cell_type": "code",
   "execution_count": 36,
   "metadata": {
    "scrolled": true
   },
   "outputs": [
    {
     "name": "stdout",
     "output_type": "stream",
     "text": [
      "+----+----+----+\n",
      "|name|  id|myid|\n",
      "+----+----+----+\n",
      "|   F|null|   4|\n",
      "|   E|null|   1|\n",
      "|   B|   2|null|\n",
      "|   D|   4|null|\n",
      "|   C|   3|   3|\n",
      "|   A|   1|   2|\n",
      "+----+----+----+\n",
      "\n"
     ]
    }
   ],
   "source": [
    "# full join\n",
    "dd = testAA.join( testBB, on=['name'], how='full' )\n",
    "dd.show()"
   ]
  },
  {
   "cell_type": "markdown",
   "metadata": {},
   "source": [
    "# Null 처리"
   ]
  },
  {
   "cell_type": "markdown",
   "metadata": {},
   "source": [
    "## (1) null 제거\n",
    "- dropna()\n",
    "    - **subset = ['drop을 수행할 컬럼']**"
   ]
  },
  {
   "cell_type": "code",
   "execution_count": 39,
   "metadata": {},
   "outputs": [
    {
     "name": "stdout",
     "output_type": "stream",
     "text": [
      "+----+---+----+\n",
      "|name| id|myid|\n",
      "+----+---+----+\n",
      "|   C|  3|   3|\n",
      "|   A|  1|   2|\n",
      "+----+---+----+\n",
      "\n"
     ]
    }
   ],
   "source": [
    "dd.dropna().show()  # inner join과 같은 결과"
   ]
  },
  {
   "cell_type": "code",
   "execution_count": 38,
   "metadata": {},
   "outputs": [
    {
     "name": "stdout",
     "output_type": "stream",
     "text": [
      "+----+---+----+\n",
      "|name| id|myid|\n",
      "+----+---+----+\n",
      "|   B|  2|null|\n",
      "|   D|  4|null|\n",
      "|   C|  3|   3|\n",
      "|   A|  1|   2|\n",
      "+----+---+----+\n",
      "\n"
     ]
    }
   ],
   "source": [
    "dd.dropna( subset=['id'] ).show() "
   ]
  },
  {
   "cell_type": "markdown",
   "metadata": {},
   "source": [
    "## (2) null 채우기\n",
    "- fillna( **{  }** )\n",
    "    - **컬럼명**과 **null**을 대체할 값"
   ]
  },
  {
   "cell_type": "code",
   "execution_count": 42,
   "metadata": {},
   "outputs": [
    {
     "name": "stdout",
     "output_type": "stream",
     "text": [
      "+----+---+----+\n",
      "|name| id|myid|\n",
      "+----+---+----+\n",
      "|   F|100|   4|\n",
      "|   E|100|   1|\n",
      "|   B|  2| 200|\n",
      "|   D|  4| 200|\n",
      "|   C|  3|   3|\n",
      "|   A|  1|   2|\n",
      "+----+---+----+\n",
      "\n"
     ]
    }
   ],
   "source": [
    "dd.fillna( {'id':100, 'myid':200 } ).show()"
   ]
  },
  {
   "cell_type": "markdown",
   "metadata": {},
   "source": [
    "# Union\n",
    "- 특정 컬럼기준으로 결합 X\n",
    "- **행단위로 합침**"
   ]
  },
  {
   "cell_type": "code",
   "execution_count": 43,
   "metadata": {},
   "outputs": [
    {
     "name": "stdout",
     "output_type": "stream",
     "text": [
      "+----+---+\n",
      "|name| id|\n",
      "+----+---+\n",
      "|   A|  1|\n",
      "|   B|  2|\n",
      "|   C|  3|\n",
      "|   D|  4|\n",
      "|   E|  1|\n",
      "|   A|  2|\n",
      "|   C|  3|\n",
      "|   F|  4|\n",
      "+----+---+\n",
      "\n"
     ]
    }
   ],
   "source": [
    "testAA.unionAll( testBB ).show()"
   ]
  }
 ],
 "metadata": {
  "kernelspec": {
   "display_name": "Python 3",
   "language": "python",
   "name": "python3"
  },
  "language_info": {
   "codemirror_mode": {
    "name": "ipython",
    "version": 3
   },
   "file_extension": ".py",
   "mimetype": "text/x-python",
   "name": "python",
   "nbconvert_exporter": "python",
   "pygments_lexer": "ipython3",
   "version": "3.7.6"
  }
 },
 "nbformat": 4,
 "nbformat_minor": 4
}
