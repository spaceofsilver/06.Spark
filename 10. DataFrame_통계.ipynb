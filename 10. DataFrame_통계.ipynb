{
 "cells": [
  {
   "cell_type": "code",
   "execution_count": 1,
   "metadata": {},
   "outputs": [],
   "source": [
    "from pyspark import SparkContext\n",
    "from pyspark.sql import SQLContext, Row\n",
    "import pandas as pd\n",
    "import numpy as np\n",
    "\n",
    "# 반환값이 컬럼객체다\n",
    "from pyspark.sql.functions import when, udf, col, regexp_replace\n",
    "from pyspark.sql.types import DoubleType,IntegerType, StringType"
   ]
  },
  {
   "cell_type": "code",
   "execution_count": 2,
   "metadata": {},
   "outputs": [],
   "source": [
    "sc = SparkContext( 'local' ) # spark://ip:7070 -> 분산 클러스터 이용가능 \n",
    "sqlCtx = SQLContext( sc )"
   ]
  },
  {
   "cell_type": "code",
   "execution_count": 5,
   "metadata": {},
   "outputs": [],
   "source": [
    "df = sqlCtx.read.csv( path   = '../data/crime_in_Seoul.csv',\n",
    "                      header = False,\n",
    "                      encoding = 'euc-kr',\n",
    "                      inferSchema = True # shcema 자동 추정,\n",
    "                    )"
   ]
  },
  {
   "cell_type": "code",
   "execution_count": null,
   "metadata": {},
   "outputs": [],
   "source": [
    "df = sqlCtx.read.csv( path   = '../data/crime_in_Seoul.csv')"
   ]
  },
  {
   "cell_type": "code",
   "execution_count": null,
   "metadata": {},
   "outputs": [],
   "source": [
    "df"
   ]
  },
  {
   "cell_type": "markdown",
   "metadata": {},
   "source": [
    "##  (1) 컬럼명 변경\n",
    "- withColumnsRenamed( '기존 컬럼명', '새로운 컬럼명' )"
   ]
  },
  {
   "cell_type": "code",
   "execution_count": 15,
   "metadata": {},
   "outputs": [],
   "source": [
    "df = df.withColumnRenamed( '_c0','year').\\\n",
    "        withColumnRenamed( '_c1','boys').\\\n",
    "        withColumnRenamed( '_c2','girls')"
   ]
  },
  {
   "cell_type": "code",
   "execution_count": 17,
   "metadata": {},
   "outputs": [
    {
     "data": {
      "text/plain": [
       "[Row(year=1880, boys=90993.0, girls=110491.0),\n",
       " Row(year=1881, boys=91954.0, girls=100745.0),\n",
       " Row(year=1882, boys=107850.0, girls=113688.0),\n",
       " Row(year=1883, boys=112321.0, girls=104629.0),\n",
       " Row(year=1884, boys=129022.0, girls=114445.0)]"
      ]
     },
     "execution_count": 17,
     "metadata": {},
     "output_type": "execute_result"
    }
   ],
   "source": [
    "df.head(5) # 결과값은 row"
   ]
  },
  {
   "cell_type": "code",
   "execution_count": 18,
   "metadata": {},
   "outputs": [
    {
     "name": "stdout",
     "output_type": "stream",
     "text": [
      "+----+--------+--------+\n",
      "|year|    boys|   girls|\n",
      "+----+--------+--------+\n",
      "|1880| 90993.0|110491.0|\n",
      "|1881| 91954.0|100745.0|\n",
      "|1882|107850.0|113688.0|\n",
      "|1883|112321.0|104629.0|\n",
      "|1884|129022.0|114445.0|\n",
      "+----+--------+--------+\n",
      "only showing top 5 rows\n",
      "\n"
     ]
    }
   ],
   "source": [
    "df.show(5) # 결과값은 DataFrame"
   ]
  },
  {
   "cell_type": "code",
   "execution_count": 19,
   "metadata": {},
   "outputs": [
    {
     "name": "stdout",
     "output_type": "stream",
     "text": [
      "root\n",
      " |-- year: integer (nullable = true)\n",
      " |-- boys: double (nullable = true)\n",
      " |-- girls: double (nullable = true)\n",
      "\n"
     ]
    }
   ],
   "source": [
    "df.printSchema()"
   ]
  },
  {
   "cell_type": "markdown",
   "metadata": {},
   "source": [
    "## (2) 연습문제\n",
    "1. 2000년도 이후 데이터를 구하시요\n",
    "2. 1995~2000 년도 데이터를 구하시요\n",
    "3.  남아출생이 가장많은 top5를 \n",
    "구하시요(년도,남아수 출력)\n",
    "4. 남아율(%)컬럼을 추가하고 각년도별\n",
    "남아수가 차지하는 비율을 보여주시요\n",
    "5. 2000년도 이후 데이터를 바차트로 보여주시요"
   ]
  },
  {
   "cell_type": "code",
   "execution_count": 22,
   "metadata": {},
   "outputs": [
    {
     "name": "stdout",
     "output_type": "stream",
     "text": [
      "+----+---------+---------+\n",
      "|year|     boys|    girls|\n",
      "+----+---------+---------+\n",
      "|2000|1814601.0|1962406.0|\n",
      "|2001|1799049.0|1941251.0|\n",
      "|2002|1795206.0|1939815.0|\n",
      "|2003|1825359.0|1973434.0|\n",
      "|2004|1834145.0|1982794.0|\n",
      "|2005|1845379.0|1994841.0|\n",
      "|2006|1898463.0|2052377.0|\n",
      "|2007|1919408.0|2072139.0|\n",
      "|2008|1887234.0|2036289.0|\n",
      "|2009|1832925.0|1979303.0|\n",
      "|2010|1772738.0|1913851.0|\n",
      "|2011|1753500.0|1893230.0|\n",
      "+----+---------+---------+\n",
      "\n"
     ]
    }
   ],
   "source": [
    "# 1. 2000년도 이후 데이터를 구하시요\n",
    "df.where(\" `year` >= 2000 \" ).show()"
   ]
  },
  {
   "cell_type": "code",
   "execution_count": 23,
   "metadata": {},
   "outputs": [
    {
     "name": "stdout",
     "output_type": "stream",
     "text": [
      "+----+---------+---------+\n",
      "|year|     boys|    girls|\n",
      "+----+---------+---------+\n",
      "|1995|1757927.0|1902832.0|\n",
      "|1996|1752249.0|1893378.0|\n",
      "|1997|1739806.0|1884122.0|\n",
      "|1998|1765915.0|1910250.0|\n",
      "|1999|1772632.0|1918809.0|\n",
      "|2000|1814601.0|1962406.0|\n",
      "+----+---------+---------+\n",
      "\n"
     ]
    }
   ],
   "source": [
    "# 2. 1995~2000 년도 데이터를 구하시요\n",
    "df.where(\" `year` between 1995 and 2000\" ).show()"
   ]
  },
  {
   "cell_type": "code",
   "execution_count": 26,
   "metadata": {},
   "outputs": [
    {
     "name": "stdout",
     "output_type": "stream",
     "text": [
      "+----+---------+\n",
      "|year|     boys|\n",
      "+----+---------+\n",
      "|1957|2044160.0|\n",
      "|1959|2023044.0|\n",
      "|1960|2022093.0|\n",
      "|1961|2017316.0|\n",
      "|1958|2010884.0|\n",
      "+----+---------+\n",
      "only showing top 5 rows\n",
      "\n"
     ]
    }
   ],
   "source": [
    "# 3. 남아출생이 가장많은 top5를 구하시요(년도,남아수 출력)\n",
    "df.orderBy('boys', ascending=0).select('year','boys').show(5)"
   ]
  },
  {
   "cell_type": "code",
   "execution_count": 45,
   "metadata": {},
   "outputs": [
    {
     "name": "stdout",
     "output_type": "stream",
     "text": [
      "+----+--------+--------+-------------------+\n",
      "|year|    boys|   girls|          남아율(%)|\n",
      "+----+--------+--------+-------------------+\n",
      "|1880| 90993.0|110491.0| 0.4516140239423478|\n",
      "|1881| 91954.0|100745.0|0.47718981416613476|\n",
      "|1882|107850.0|113688.0| 0.4868239308831893|\n",
      "|1883|112321.0|104629.0| 0.5177275870016133|\n",
      "|1884|129022.0|114445.0| 0.5299362952679418|\n",
      "|1885|133055.0|107800.0| 0.5524278092628345|\n",
      "|1886|144535.0|110784.0| 0.5660957468891857|\n",
      "|1887|145982.0|101414.0| 0.5900742130026354|\n",
      "|1888|178627.0|120853.0| 0.5964571924669427|\n",
      "|1889|178366.0|110584.0|  0.617290188613947|\n",
      "|1890|190377.0|111025.0| 0.6316381444051467|\n",
      "|1891|185482.0|101196.0| 0.6470046533044043|\n",
      "|1892|212346.0|122037.0| 0.6350382645050735|\n",
      "|1893|212906.0|112317.0| 0.6546461966097109|\n",
      "|1894|222922.0|115772.0| 0.6581811310504467|\n",
      "|1895|233630.0|117398.0| 0.6655594425515913|\n",
      "|1896|237920.0|119570.0| 0.6655291057092506|\n",
      "|1897|234202.0|112758.0| 0.6750115287064792|\n",
      "|1898|258770.0|122693.0| 0.6783619905469207|\n",
      "|1899|233023.0|106212.0|  0.686907306144708|\n",
      "+----+--------+--------+-------------------+\n",
      "only showing top 20 rows\n",
      "\n"
     ]
    }
   ],
   "source": [
    "# 4. 남아율(%)컬럼을 추가하고 각년도별 남아수가 차지하는 비율을 보여주시요\n",
    "df.withColumn( '남아율(%)', ( df['boys']/ (df['boys']+df['girls']) ) ).show()"
   ]
  },
  {
   "cell_type": "code",
   "execution_count": 51,
   "metadata": {},
   "outputs": [
    {
     "data": {
      "image/png": "[encoded data removed]",
      "text/plain": [
       "<Figure size 432x288 with 1 Axes>"
      ]
     },
     "metadata": {
      "needs_background": "light"
     },
     "output_type": "display_data"
    }
   ],
   "source": [
    "# 5.\n",
    "import matplotlib.pyplot as plt\n",
    "import matplotlib\n",
    "matplotlib.rcParams['font.family']='Malgun Gothic'\n",
    "matplotlib.rcParams['axes.unicode_minus'] = False\n",
    "\n",
    "aft_2000 = df.where(\" `year` >= 2000 \" ).toPandas()\n",
    "aft_2000 = aft_2000.set_index('year')\n",
    "\n",
    "\n",
    "aft_2000.plot( kind='bar',\n",
    "               title= '2000년도 이후 남아수, 여아수', \n",
    "               rot = 45, \n",
    "           \n",
    "             )\n",
    "\n",
    "plt.xlabel('연도')\n",
    "plt.ylabel('명(수)')\n",
    "\n",
    "plt.show()"
   ]
  },
  {
   "cell_type": "markdown",
   "metadata": {},
   "source": [
    "## (3) 통계값 구하기 \n",
    "### AGG사용 \n",
    "- 딕셔너리 타입으로 주기\n",
    "    - 사용 가능한 함수\n",
    "        - https://rfriend.tistory.com/213\n",
    "- import 할 때 function들을 불러오기"
   ]
  },
  {
   "cell_type": "code",
   "execution_count": 57,
   "metadata": {},
   "outputs": [],
   "source": [
    "import pyspark.sql.functions as F"
   ]
  },
  {
   "cell_type": "code",
   "execution_count": 56,
   "metadata": {},
   "outputs": [
    {
     "name": "stdout",
     "output_type": "stream",
     "text": [
      "+-----------+\n",
      "|남아수 최대|\n",
      "+-----------+\n",
      "|  2044160.0|\n",
      "+-----------+\n",
      "\n"
     ]
    }
   ],
   "source": [
    "df.agg( {\"boys\": \"max\"} ).withColumnRenamed( 'max(boys)','남아수 최대').show()"
   ]
  },
  {
   "cell_type": "markdown",
   "metadata": {},
   "source": [
    "### boys sum()을 구하는 방법"
   ]
  },
  {
   "cell_type": "code",
   "execution_count": 76,
   "metadata": {},
   "outputs": [
    {
     "data": {
      "text/html": [
       "<div>\n",
       "<style scoped>\n",
       "    .dataframe tbody tr th:only-of-type {\n",
       "        vertical-align: middle;\n",
       "    }\n",
       "\n",
       "    .dataframe tbody tr th {\n",
       "        vertical-align: top;\n",
       "    }\n",
       "\n",
       "    .dataframe thead th {\n",
       "        text-align: right;\n",
       "    }\n",
       "</style>\n",
       "<table border=\"1\" class=\"dataframe\">\n",
       "  <thead>\n",
       "    <tr style=\"text-align: right;\">\n",
       "      <th></th>\n",
       "      <th>sum(boys)</th>\n",
       "    </tr>\n",
       "  </thead>\n",
       "  <tbody>\n",
       "    <tr>\n",
       "      <th>0</th>\n",
       "      <td>161802441.0</td>\n",
       "    </tr>\n",
       "  </tbody>\n",
       "</table>\n",
       "</div>"
      ],
      "text/plain": [
       "     sum(boys)\n",
       "0  161802441.0"
      ]
     },
     "execution_count": 76,
     "metadata": {},
     "output_type": "execute_result"
    }
   ],
   "source": [
    "# Sol(1)\n",
    "df.agg( F.sum(df['boys']) ).toPandas() # 결과값은 Pandas"
   ]
  },
  {
   "cell_type": "code",
   "execution_count": 77,
   "metadata": {},
   "outputs": [
    {
     "data": {
      "text/plain": [
       "[Row(sum(boys)=161802441.0)]"
      ]
     },
     "execution_count": 77,
     "metadata": {},
     "output_type": "execute_result"
    }
   ],
   "source": [
    "# Sol(2)\n",
    "df.agg( F.sum(df['boys']) ).collect() # 결과값은 Row "
   ]
  },
  {
   "cell_type": "code",
   "execution_count": 63,
   "metadata": {},
   "outputs": [
    {
     "name": "stdout",
     "output_type": "stream",
     "text": [
      "+------------+\n",
      "|   sum(boys)|\n",
      "+------------+\n",
      "|1.61802441E8|\n",
      "+------------+\n",
      "\n"
     ]
    }
   ],
   "source": [
    "# Sol(3)\n",
    "df.agg( F.sum(df['boys']) ).show() # 결과값은 DataFrame"
   ]
  },
  {
   "cell_type": "code",
   "execution_count": 81,
   "metadata": {},
   "outputs": [
    {
     "data": {
      "text/plain": [
       "161802441.0"
      ]
     },
     "execution_count": 81,
     "metadata": {},
     "output_type": "execute_result"
    }
   ],
   "source": [
    "df.agg( F.sum(df['boys']) ).toPandas().loc[0][0] # sum만 출력"
   ]
  },
  {
   "cell_type": "code",
   "execution_count": 70,
   "metadata": {},
   "outputs": [
    {
     "data": {
      "text/plain": [
       "161802441.0"
      ]
     },
     "execution_count": 70,
     "metadata": {},
     "output_type": "execute_result"
    }
   ],
   "source": [
    "df.agg( F.sum(df['boys']) ).collect()[0]['sum(boys)'] # sum만 출력"
   ]
  },
  {
   "cell_type": "code",
   "execution_count": 89,
   "metadata": {},
   "outputs": [
    {
     "name": "stdout",
     "output_type": "stream",
     "text": [
      "+------------+------------------+\n",
      "|  sum(girls)|         avg(boys)|\n",
      "+------------+------------------+\n",
      "|1.64392696E8|1225776.0681818181|\n",
      "+------------+------------------+\n",
      "\n"
     ]
    }
   ],
   "source": [
    "df.agg( F.sum('girls'), F.mean('boys') ).show()"
   ]
  },
  {
   "cell_type": "code",
   "execution_count": 92,
   "metadata": {},
   "outputs": [
    {
     "name": "stdout",
     "output_type": "stream",
     "text": [
      "+-----------------+-----------------+\n",
      "|     stddev(boys)|    stddev(girls)|\n",
      "+-----------------+-----------------+\n",
      "|645550.2274655179|740002.8662878576|\n",
      "+-----------------+-----------------+\n",
      "\n"
     ]
    }
   ],
   "source": [
    "df.agg( {'girls': 'stddev', 'boys': 'stddev'}).show()"
   ]
  },
  {
   "cell_type": "code",
   "execution_count": 104,
   "metadata": {},
   "outputs": [
    {
     "name": "stdout",
     "output_type": "stream",
     "text": [
      "남아 표준편차 645550.2274655179\n",
      "여아 표준편차 740002.8662878576\n"
     ]
    }
   ],
   "source": [
    "r = df.agg( {'girls': 'stddev', 'boys': 'stddev'}).collect()[0]\n",
    "print( '남아 표준편차', r[0] )\n",
    "print( '여아 표준편차', r[1] )"
   ]
  },
  {
   "cell_type": "code",
   "execution_count": 113,
   "metadata": {},
   "outputs": [
    {
     "name": "stdout",
     "output_type": "stream",
     "text": [
      "+------------+------------------+\n",
      "|   여아 총합|         여아 평균|\n",
      "+------------+------------------+\n",
      "|1.64392696E8|1245399.2121212122|\n",
      "+------------+------------------+\n",
      "\n"
     ]
    }
   ],
   "source": [
    "df.agg( F.sum('girls').alias('여아 총합'), F.mean('girls').alias('여아 평균')).show()"
   ]
  },
  {
   "cell_type": "code",
   "execution_count": 114,
   "metadata": {},
   "outputs": [
    {
     "data": {
      "text/plain": [
       "[Row(여아 총합=164392696.0, 여아 평균=1245399.2121212122)]"
      ]
     },
     "execution_count": 114,
     "metadata": {},
     "output_type": "execute_result"
    }
   ],
   "source": [
    "df.agg( F.sum('girls').alias('여아 총합'), F.mean('girls').alias('여아 평균')).collect()"
   ]
  }
 ],
 "metadata": {
  "kernelspec": {
   "display_name": "Python 3",
   "language": "python",
   "name": "python3"
  },
  "language_info": {
   "codemirror_mode": {
    "name": "ipython",
    "version": 3
   },
   "file_extension": ".py",
   "mimetype": "text/x-python",
   "name": "python",
   "nbconvert_exporter": "python",
   "pygments_lexer": "ipython3",
   "version": "3.7.6"
  }
 },
 "nbformat": 4,
 "nbformat_minor": 4
}
