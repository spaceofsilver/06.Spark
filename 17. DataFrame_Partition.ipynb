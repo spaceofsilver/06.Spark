{
 "cells": [
  {
   "cell_type": "markdown",
   "metadata": {},
   "source": [
    "Jan 11, 2021"
   ]
  },
  {
   "cell_type": "code",
   "execution_count": 1,
   "metadata": {},
   "outputs": [],
   "source": [
    "from pyspark import SparkContext\n",
    "from pyspark.sql import SQLContext, Row\n",
    "import pandas as pd\n",
    "import numpy as np\n",
    "\n",
    "from pyspark.sql.functions import when, udf, col, regexp_extract, regexp_replace,count,sum,avg,round\n",
    "from pyspark.sql.types import DoubleType,IntegerType, StringType\n",
    "\n",
    "# 스파크 통계\n",
    "import pyspark.sql.functions as F"
   ]
  },
  {
   "cell_type": "code",
   "execution_count": 2,
   "metadata": {},
   "outputs": [],
   "source": [
    "sc = SparkContext( 'local' ) \n",
    "sqlCtx = SQLContext( sc )"
   ]
  },
  {
   "cell_type": "code",
   "execution_count": 3,
   "metadata": {},
   "outputs": [],
   "source": [
    "emp = [ (\"Lisa\", \"Sales\", 10000, 35),\n",
    "(\"Evan\", \"Sales\", 32000, 38),\n",
    " (\"Fred\", \"Engineering\", 21000, 28),\n",
    "(\"Alex\", \"Sales\", 30000, 33),\n",
    "(\"Tom\", \"Engineering\", 23000, 33),\n",
    " (\"Jane\", \"Marketing\", 29000, 28),\n",
    "(\"Jeff\", \"Marketing\", 35000, 38),\n",
    " (\"Paul\", \"Engineering\", 29000, 23),\n",
    "(\"Chloe\", \"Engineering\", 23000, 25)]"
   ]
  },
  {
   "cell_type": "code",
   "execution_count": 4,
   "metadata": {},
   "outputs": [
    {
     "name": "stdout",
     "output_type": "stream",
     "text": [
      "+-----+-----------+------+---+\n",
      "| name|       dept|salary|age|\n",
      "+-----+-----------+------+---+\n",
      "| Lisa|      Sales| 10000| 35|\n",
      "| Evan|      Sales| 32000| 38|\n",
      "| Fred|Engineering| 21000| 28|\n",
      "| Alex|      Sales| 30000| 33|\n",
      "|  Tom|Engineering| 23000| 33|\n",
      "| Jane|  Marketing| 29000| 28|\n",
      "| Jeff|  Marketing| 35000| 38|\n",
      "| Paul|Engineering| 29000| 23|\n",
      "|Chloe|Engineering| 23000| 25|\n",
      "+-----+-----------+------+---+\n",
      "\n"
     ]
    }
   ],
   "source": [
    "empDF = sqlCtx.createDataFrame( emp,('name' , 'dept' , 'salary' , 'age' ))\n",
    "empDF.show()"
   ]
  },
  {
   "cell_type": "code",
   "execution_count": 5,
   "metadata": {},
   "outputs": [],
   "source": [
    "empDF.createOrReplaceTempView('employees')"
   ]
  },
  {
   "cell_type": "code",
   "execution_count": 8,
   "metadata": {},
   "outputs": [
    {
     "name": "stdout",
     "output_type": "stream",
     "text": [
      "+-----+-----------+------+---+\n",
      "| name|       dept|salary|age|\n",
      "+-----+-----------+------+---+\n",
      "| Lisa|      Sales| 10000| 35|\n",
      "| Evan|      Sales| 32000| 38|\n",
      "| Fred|Engineering| 21000| 28|\n",
      "| Alex|      Sales| 30000| 33|\n",
      "|  Tom|Engineering| 23000| 33|\n",
      "| Jane|  Marketing| 29000| 28|\n",
      "| Jeff|  Marketing| 35000| 38|\n",
      "| Paul|Engineering| 29000| 23|\n",
      "|Chloe|Engineering| 23000| 25|\n",
      "+-----+-----------+------+---+\n",
      "\n"
     ]
    }
   ],
   "source": [
    "sql = 'select * from employees'\n",
    "sqldf = sqlCtx.sql( sql )\n",
    "sqldf.show()"
   ]
  },
  {
   "cell_type": "code",
   "execution_count": 11,
   "metadata": {},
   "outputs": [
    {
     "name": "stdout",
     "output_type": "stream",
     "text": [
      "+-----------+-----------+\n",
      "|       dept|sum(salary)|\n",
      "+-----------+-----------+\n",
      "|      Sales|      72000|\n",
      "|Engineering|      96000|\n",
      "|  Marketing|      64000|\n",
      "+-----------+-----------+\n",
      "\n"
     ]
    }
   ],
   "source": [
    "## 부서별 급여의 총 합을 구하시오 -> groupBy\n",
    "sqlCtx.sql( 'select dept, sum(salary) from employees group by dept').show()"
   ]
  },
  {
   "cell_type": "markdown",
   "metadata": {},
   "source": [
    "# Partition\n",
    "- GroupBy와 다르다"
   ]
  },
  {
   "cell_type": "code",
   "execution_count": null,
   "metadata": {},
   "outputs": [],
   "source": [
    "## 부서별로 급여가 많은 순위를 구하시오 -> ? \" partition! \""
   ]
  },
  {
   "cell_type": "code",
   "execution_count": 12,
   "metadata": {},
   "outputs": [
    {
     "name": "stdout",
     "output_type": "stream",
     "text": [
      "+-----+-----------+----+\n",
      "| name|       dept|rank|\n",
      "+-----+-----------+----+\n",
      "| Lisa|      Sales|   1|\n",
      "| Alex|      Sales|   2|\n",
      "| Evan|      Sales|   3|\n",
      "| Fred|Engineering|   1|\n",
      "|  Tom|Engineering|   2|\n",
      "|Chloe|Engineering|   2|\n",
      "| Paul|Engineering|   4|\n",
      "| Jane|  Marketing|   1|\n",
      "| Jeff|  Marketing|   2|\n",
      "+-----+-----------+----+\n",
      "\n"
     ]
    }
   ],
   "source": [
    "# sql 표준 구문\n",
    "sql='''\n",
    "     SELECT name, dept, \n",
    "     RANK() OVER (PARTITION BY dept ORDER BY salary) AS rank \n",
    "     FROM employees\n",
    "     '''\n",
    "sqlCtx.sql( sql ).show()"
   ]
  },
  {
   "cell_type": "code",
   "execution_count": 15,
   "metadata": {},
   "outputs": [
    {
     "name": "stdout",
     "output_type": "stream",
     "text": [
      "+-----------+\n",
      "|max(salary)|\n",
      "+-----------+\n",
      "|      35000|\n",
      "+-----------+\n",
      "\n"
     ]
    }
   ],
   "source": [
    "sqlCtx.sql( 'select max(salary) from employees').show()"
   ]
  },
  {
   "cell_type": "code",
   "execution_count": 16,
   "metadata": {},
   "outputs": [
    {
     "name": "stdout",
     "output_type": "stream",
     "text": [
      "+-----------+\n",
      "|max(salary)|\n",
      "+-----------+\n",
      "|      35000|\n",
      "+-----------+\n",
      "\n"
     ]
    }
   ],
   "source": [
    "empDF.selectExpr( 'max(salary)').show()"
   ]
  },
  {
   "cell_type": "code",
   "execution_count": 20,
   "metadata": {},
   "outputs": [
    {
     "name": "stdout",
     "output_type": "stream",
     "text": [
      "+-----+-----------+----+\n",
      "| name|       dept|rank|\n",
      "+-----+-----------+----+\n",
      "| Lisa|      Sales|   1|\n",
      "| Alex|      Sales|   2|\n",
      "| Evan|      Sales|   3|\n",
      "| Fred|Engineering|   1|\n",
      "|  Tom|Engineering|   2|\n",
      "|Chloe|Engineering|   2|\n",
      "| Paul|Engineering|   4|\n",
      "| Jane|  Marketing|   1|\n",
      "| Jeff|  Marketing|   2|\n",
      "+-----+-----------+----+\n",
      "\n"
     ]
    }
   ],
   "source": [
    "empDF.selectExpr('name', \n",
    "                 'dept', \n",
    "                 'RANK() OVER (PARTITION BY dept ORDER BY salary) AS rank ').show()"
   ]
  },
  {
   "cell_type": "code",
   "execution_count": 28,
   "metadata": {},
   "outputs": [
    {
     "name": "stdout",
     "output_type": "stream",
     "text": [
      "+-----+-----------+----------+\n",
      "| name|       dept|salary_max|\n",
      "+-----+-----------+----------+\n",
      "| Lisa|      Sales|     10000|\n",
      "| Alex|      Sales|     30000|\n",
      "| Evan|      Sales|     32000|\n",
      "| Fred|Engineering|     21000|\n",
      "|  Tom|Engineering|     23000|\n",
      "|Chloe|Engineering|     23000|\n",
      "| Paul|Engineering|     29000|\n",
      "| Jane|  Marketing|     29000|\n",
      "| Jeff|  Marketing|     35000|\n",
      "+-----+-----------+----------+\n",
      "\n"
     ]
    }
   ],
   "source": [
    "# sql 표준 구문\n",
    "sql='''\n",
    "     SELECT name, dept, \n",
    "     max(salary) OVER (PARTITION BY dept ORDER BY salary) AS salary_max \n",
    "     FROM employees\n",
    "     '''\n",
    "sqlCtx.sql( sql ).show()"
   ]
  },
  {
   "cell_type": "code",
   "execution_count": null,
   "metadata": {},
   "outputs": [],
   "source": []
  },
  {
   "cell_type": "code",
   "execution_count": null,
   "metadata": {},
   "outputs": [],
   "source": []
  },
  {
   "cell_type": "code",
   "execution_count": null,
   "metadata": {},
   "outputs": [],
   "source": []
  }
 ],
 "metadata": {
  "kernelspec": {
   "display_name": "Python 3",
   "language": "python",
   "name": "python3"
  },
  "language_info": {
   "codemirror_mode": {
    "name": "ipython",
    "version": 3
   },
   "file_extension": ".py",
   "mimetype": "text/x-python",
   "name": "python",
   "nbconvert_exporter": "python",
   "pygments_lexer": "ipython3",
   "version": "3.7.6"
  }
 },
 "nbformat": 4,
 "nbformat_minor": 4
}
