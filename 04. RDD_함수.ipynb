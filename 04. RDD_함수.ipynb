{
 "cells": [
  {
   "cell_type": "code",
   "execution_count": 1,
   "metadata": {},
   "outputs": [],
   "source": [
    "from pyspark import SparkContext"
   ]
  },
  {
   "cell_type": "code",
   "execution_count": 2,
   "metadata": {},
   "outputs": [],
   "source": [
    "sc = SparkContext('local')"
   ]
  },
  {
   "cell_type": "code",
   "execution_count": 3,
   "metadata": {},
   "outputs": [
    {
     "data": {
      "text/plain": [
       "[(1, 2), (3, 4), (5, 6), (1, 7), (3, 4)]"
      ]
     },
     "execution_count": 3,
     "metadata": {},
     "output_type": "execute_result"
    }
   ],
   "source": [
    "dt = [(1,2),(3,4),(5,6),(1,7),(3,4)]\n",
    "nRdd = sc.parallelize(dt)\n",
    "nRdd.collect()"
   ]
  },
  {
   "cell_type": "code",
   "execution_count": 4,
   "metadata": {},
   "outputs": [
    {
     "data": {
      "text/plain": [
       "[(1, 9), (3, 8), (5, 6)]"
      ]
     },
     "execution_count": 4,
     "metadata": {},
     "output_type": "execute_result"
    }
   ],
   "source": [
    "newRdd = nRdd.reduceByKey( lambda a,b: a+b ) # transformation 함수\n",
    "newRdd.collect()"
   ]
  },
  {
   "cell_type": "markdown",
   "metadata": {},
   "source": [
    "# Reduce\n",
    "- action 함수\n",
    "- (a,b) 앞에 있는걸(a) 키로 본다. \n",
    "- 따라서 a를 기준으로 b값들을 더한다<br>\n",
    "\n",
    "# ReduceByKey\n",
    "- transformation 함수"
   ]
  },
  {
   "cell_type": "code",
   "execution_count": 79,
   "metadata": {},
   "outputs": [
    {
     "data": {
      "text/plain": [
       "[1, 2, 3, 4, 5, 6, 1, 7, 3, 4]"
      ]
     },
     "execution_count": 79,
     "metadata": {},
     "output_type": "execute_result"
    }
   ],
   "source": [
    "newRdd1 = nRdd.flatMap( lambda v: v ) # action 함수\n",
    "newRdd1.collect()"
   ]
  },
  {
   "cell_type": "code",
   "execution_count": 80,
   "metadata": {},
   "outputs": [
    {
     "data": {
      "text/plain": [
       "[(1, 1),\n",
       " (2, 1),\n",
       " (3, 1),\n",
       " (4, 1),\n",
       " (5, 1),\n",
       " (6, 1),\n",
       " (1, 1),\n",
       " (7, 1),\n",
       " (3, 1),\n",
       " (4, 1)]"
      ]
     },
     "execution_count": 80,
     "metadata": {},
     "output_type": "execute_result"
    }
   ],
   "source": [
    "newRdd2 = nRdd.flatMap( lambda v:v ).map( lambda v: (v,1) ) # trasnformation 함수\n",
    "newRdd2.collect()"
   ]
  },
  {
   "cell_type": "code",
   "execution_count": 82,
   "metadata": {},
   "outputs": [
    {
     "data": {
      "text/plain": [
       "[(1, 2), (2, 1), (3, 2), (4, 2), (5, 1), (6, 1), (7, 1)]"
      ]
     },
     "execution_count": 82,
     "metadata": {},
     "output_type": "execute_result"
    }
   ],
   "source": [
    "newRdd2.reduceByKey( lambda a,b: a+b ).collect()\n",
    "# transformation 함수"
   ]
  },
  {
   "cell_type": "markdown",
   "metadata": {},
   "source": [
    "### 결과적으로 count할 수 있음"
   ]
  },
  {
   "cell_type": "markdown",
   "metadata": {},
   "source": [
    "# CountByKey()"
   ]
  },
  {
   "cell_type": "code",
   "execution_count": 84,
   "metadata": {},
   "outputs": [
    {
     "data": {
      "text/plain": [
       "defaultdict(int, {1: 2, 2: 1, 3: 2, 4: 2, 5: 1, 6: 1, 7: 1})"
      ]
     },
     "execution_count": 84,
     "metadata": {},
     "output_type": "execute_result"
    }
   ],
   "source": [
    "d = newRdd2.countByKey()\n",
    "d\n",
    "# action 함수 = 결과값은 딕셔너리"
   ]
  },
  {
   "cell_type": "code",
   "execution_count": 96,
   "metadata": {},
   "outputs": [
    {
     "name": "stdout",
     "output_type": "stream",
     "text": [
      "(1, 2)\n",
      "(2, 1)\n",
      "(3, 2)\n",
      "(4, 2)\n",
      "(5, 1)\n",
      "(6, 1)\n",
      "(7, 1)\n"
     ]
    }
   ],
   "source": [
    "for i in d.items():\n",
    "    print(i)"
   ]
  },
  {
   "cell_type": "code",
   "execution_count": 22,
   "metadata": {},
   "outputs": [
    {
     "data": {
      "text/plain": [
       "[(7, 1),\n",
       " (6, 1),\n",
       " (5, 1),\n",
       " (4, 1),\n",
       " (4, 1),\n",
       " (3, 1),\n",
       " (3, 1),\n",
       " (2, 1),\n",
       " (1, 1),\n",
       " (1, 1)]"
      ]
     },
     "execution_count": 22,
     "metadata": {},
     "output_type": "execute_result"
    }
   ],
   "source": [
    "newRdd2.sortByKey(ascending=False).collect() \n",
    "# transformation 함수"
   ]
  },
  {
   "cell_type": "code",
   "execution_count": 24,
   "metadata": {},
   "outputs": [
    {
     "data": {
      "text/plain": [
       "[(1, 2), (3, 4), (5, 6), (1, 7), (3, 4)]"
      ]
     },
     "execution_count": 24,
     "metadata": {},
     "output_type": "execute_result"
    }
   ],
   "source": [
    "nRdd.collect()"
   ]
  },
  {
   "cell_type": "code",
   "execution_count": 26,
   "metadata": {},
   "outputs": [
    {
     "data": {
      "text/plain": [
       "[(1, 2), (3, 4), (3, 4), (5, 6), (1, 7)]"
      ]
     },
     "execution_count": 26,
     "metadata": {},
     "output_type": "execute_result"
    }
   ],
   "source": [
    "nRdd.sortBy( lambda v: v[1]).collect()"
   ]
  },
  {
   "cell_type": "code",
   "execution_count": 28,
   "metadata": {},
   "outputs": [
    {
     "data": {
      "text/plain": [
       "['나는 자랑스런', '태극기 앞에', '조국과 태극기', '몸과 나는']"
      ]
     },
     "execution_count": 28,
     "metadata": {},
     "output_type": "execute_result"
    }
   ],
   "source": [
    "txtRdd = sc.textFile( '../data/data1/aa.txt')\n",
    "txtRdd.collect()"
   ]
  },
  {
   "cell_type": "code",
   "execution_count": 29,
   "metadata": {},
   "outputs": [
    {
     "data": {
      "text/plain": [
       "['나는', '자랑스런', '태극기', '앞에', '조국과', '태극기', '몸과', '나는']"
      ]
     },
     "execution_count": 29,
     "metadata": {},
     "output_type": "execute_result"
    }
   ],
   "source": [
    "txtRdd.flatMap( lambda x: x.split() ).collect()"
   ]
  },
  {
   "cell_type": "code",
   "execution_count": 31,
   "metadata": {},
   "outputs": [
    {
     "data": {
      "text/plain": [
       "[('나는', 1),\n",
       " ('자랑스런', 1),\n",
       " ('태극기', 1),\n",
       " ('앞에', 1),\n",
       " ('조국과', 1),\n",
       " ('태극기', 1),\n",
       " ('몸과', 1),\n",
       " ('나는', 1)]"
      ]
     },
     "execution_count": 31,
     "metadata": {},
     "output_type": "execute_result"
    }
   ],
   "source": [
    "txtRdd.flatMap( lambda x: x.split() ).map( lambda v: (v,1) ).collect()"
   ]
  },
  {
   "cell_type": "code",
   "execution_count": 32,
   "metadata": {},
   "outputs": [
    {
     "data": {
      "text/plain": [
       "defaultdict(int, {'나는': 2, '자랑스런': 1, '태극기': 2, '앞에': 1, '조국과': 1, '몸과': 1})"
      ]
     },
     "execution_count": 32,
     "metadata": {},
     "output_type": "execute_result"
    }
   ],
   "source": [
    "txtRdd.flatMap( lambda x: x.split() ).map( lambda v: (v,1) ).countByKey() # action 함수"
   ]
  },
  {
   "cell_type": "markdown",
   "metadata": {},
   "source": [
    "# word Count"
   ]
  },
  {
   "cell_type": "code",
   "execution_count": 38,
   "metadata": {},
   "outputs": [
    {
     "data": {
      "text/plain": [
       "[('나는', 2), ('자랑스런', 1), ('태극기', 2), ('앞에', 1), ('조국과', 1), ('몸과', 1)]"
      ]
     },
     "execution_count": 38,
     "metadata": {},
     "output_type": "execute_result"
    }
   ],
   "source": [
    "txtRdd.flatMap( lambda x: x.split() ).map( lambda v: (v,1) ).reduceByKey(lambda a,b: a+b ).collect()"
   ]
  },
  {
   "cell_type": "code",
   "execution_count": 64,
   "metadata": {},
   "outputs": [
    {
     "data": {
      "text/plain": [
       "['박범계 법무부 장관 후보자가 2만여㎡(6400여평) 규모의 임야를 공직자 재산신고에서 빠뜨렸다는 지적이 나왔다. 박 후보자는 “보좌진이 재산신고를 하는 과정에서 누락됐으나 고의로 누락할 이유가 전혀 없다. 경위 여하를 불문하고 본인의 불찰이라 여기고 있다”고 해명했다.',\n",
       " '',\n",
       " '유상범 국민의힘 의원이 4일 공개한 공직자 재산신고 내역과 등기부 등본 등을 보면 박 후보자는 7살이었던 지난 1970년 6월 충북 영동군 심천면 약목리의 임야 4만2천476㎡의 지분 절반(6천424평)을 취득했다. 해당 임야는 박 후보자 집안의 선산이다.',\n",
       " '',\n",
       " '박 후보자는 2003년 8월 참여정부 시절 청와대 민정2비서관으로 임명될 당시 해당 임야를 본인 소유로 신고했다. 하지만 2012년 제19대 총선에서 당선된 뒤 3선 국회의원을 지내는 동안에는 신고 내역에 포함하지 않았다.',\n",
       " '',\n",
       " '공직자윤리법 22조는, 고위 공직자가 재산신고를 누락하는 경우 공직자윤리위원회가 해임 또는 징계 의결을 요구할 수 있도록 하고 있다. 선거 후보자가 선거관리위원회에 재산신고를 누락한 채 선전문서를 통해 공표했을 땐 공직선거법상 허위사실공표죄가 성립된다. 그러나 선거법 공소시효는 6개월이므로 박 후보자에게는 해당하지 않는다.',\n",
       " '',\n",
       " '유상범 의원은 “이미 재산등록이 이뤄졌던 임야를 2012년 이후 지속적으로 신고에서 누락했다는 점에서 고의성이 다분하다”며 “조수진·김홍걸 의원 등이 재산 누락 혐의로 기소되거나 재판을 받는 중인 것을 감안한다면, 박 후보자 건은 공소시효가 지난해 10월 이미 지나 처벌이 불가능하다고는 해도 심각한 도덕적 흠결이 존재한다”고 비판했다.',\n",
       " '',\n",
       " '이에 박 후보자 인사청문회 준비단은 입장문을 내어 “2012년 첫 국회의원 당선 시 보좌진이 재산신고를 하는 과정에서 누락됐으나, 후보자는 이번 장관 후보자 인사검증을 위한 재산관계 확인 과정에서 그동안 재산등록이 누락됐다는 사실을 인식하게 됐다”고 밝혔다. 이어 “2003년 청와대 민정2비서관 임용 당시 후보자가 직접 재산신고를 할 때는 재산 목록에 포함시켰을 뿐만 아니라, 현재 공시지가 기준 2091만원으로 고의적으로 그 신고를 누락할 이유가 전혀 없다”고 해명했다. 그러면서 “후보자 고조부부터 부모님까지 조상 산소가 있는 선산으로, 7세 때부터 지분이 취득된 상태라 평소 처분할 수 있는 재산이라고 인식하지 못한 탓에 빚어진 일”이라며 “경위 여하를 불문하고 본인 불찰이라 여기고 있다”고 덧붙였다.']"
      ]
     },
     "execution_count": 64,
     "metadata": {},
     "output_type": "execute_result"
    }
   ],
   "source": [
    "txtRdd2 = sc.textFile( '../data/data1/news.txt')\n",
    "txtRdd2.collect()"
   ]
  },
  {
   "cell_type": "markdown",
   "metadata": {},
   "source": [
    "## transformation 함수로"
   ]
  },
  {
   "cell_type": "code",
   "execution_count": 71,
   "metadata": {},
   "outputs": [
    {
     "data": {
      "text/plain": [
       "[('박', 7), ('재산신고를', 5), ('후보자는', 4), ('후보자', 4), ('후보자가', 3)]"
      ]
     },
     "execution_count": 71,
     "metadata": {},
     "output_type": "execute_result"
    }
   ],
   "source": [
    "txtRdd2.flatMap( lambda x: x.split() ).\\\n",
    "                map( lambda x: (x,1) ).\\\n",
    "                reduceByKey(lambda a,b: a+b ).\\\n",
    "                sortBy(lambda v: v[1], ascending=False ).take(5)"
   ]
  },
  {
   "cell_type": "markdown",
   "metadata": {},
   "source": [
    "## action함수로"
   ]
  },
  {
   "cell_type": "code",
   "execution_count": 78,
   "metadata": {},
   "outputs": [
    {
     "data": {
      "text/plain": [
       "defaultdict(int,\n",
       "            {'박범계': 1,\n",
       "             '법무부': 1,\n",
       "             '장관': 2,\n",
       "             '후보자가': 3,\n",
       "             '2만여㎡(6400여평)': 1,\n",
       "             '규모의': 1,\n",
       "             '임야를': 3,\n",
       "             '공직자': 2,\n",
       "             '재산신고에서': 1,\n",
       "             '빠뜨렸다는': 1,\n",
       "             '지적이': 1,\n",
       "             '나왔다.': 1,\n",
       "             '박': 7,\n",
       "             '후보자는': 4,\n",
       "             '“보좌진이': 1,\n",
       "             '재산신고를': 5,\n",
       "             '하는': 2,\n",
       "             '과정에서': 3,\n",
       "             '누락됐으나': 1,\n",
       "             '고의로': 1,\n",
       "             '누락할': 2,\n",
       "             '이유가': 2,\n",
       "             '전혀': 2,\n",
       "             '없다.': 1,\n",
       "             '경위': 1,\n",
       "             '여하를': 2,\n",
       "             '불문하고': 2,\n",
       "             '본인의': 1,\n",
       "             '불찰이라': 2,\n",
       "             '여기고': 2,\n",
       "             '있다”고': 2,\n",
       "             '해명했다.': 2,\n",
       "             '유상범': 2,\n",
       "             '국민의힘': 1,\n",
       "             '의원이': 1,\n",
       "             '4일': 1,\n",
       "             '공개한': 1,\n",
       "             '재산신고': 1,\n",
       "             '내역과': 1,\n",
       "             '등기부': 1,\n",
       "             '등본': 1,\n",
       "             '등을': 1,\n",
       "             '보면': 1,\n",
       "             '7살이었던': 1,\n",
       "             '지난': 1,\n",
       "             '1970년': 1,\n",
       "             '6월': 1,\n",
       "             '충북': 1,\n",
       "             '영동군': 1,\n",
       "             '심천면': 1,\n",
       "             '약목리의': 1,\n",
       "             '임야': 1,\n",
       "             '4만2천476㎡의': 1,\n",
       "             '지분': 1,\n",
       "             '절반(6천424평)을': 1,\n",
       "             '취득했다.': 1,\n",
       "             '해당': 2,\n",
       "             '임야는': 1,\n",
       "             '후보자': 4,\n",
       "             '집안의': 1,\n",
       "             '선산이다.': 1,\n",
       "             '2003년': 1,\n",
       "             '8월': 1,\n",
       "             '참여정부': 1,\n",
       "             '시절': 1,\n",
       "             '청와대': 2,\n",
       "             '민정2비서관으로': 1,\n",
       "             '임명될': 1,\n",
       "             '당시': 2,\n",
       "             '본인': 2,\n",
       "             '소유로': 1,\n",
       "             '신고했다.': 1,\n",
       "             '하지만': 1,\n",
       "             '2012년': 2,\n",
       "             '제19대': 1,\n",
       "             '총선에서': 1,\n",
       "             '당선된': 1,\n",
       "             '뒤': 1,\n",
       "             '3선': 1,\n",
       "             '국회의원을': 1,\n",
       "             '지내는': 1,\n",
       "             '동안에는': 1,\n",
       "             '신고': 1,\n",
       "             '내역에': 1,\n",
       "             '포함하지': 1,\n",
       "             '않았다.': 1,\n",
       "             '공직자윤리법': 1,\n",
       "             '22조는,': 1,\n",
       "             '고위': 1,\n",
       "             '공직자가': 1,\n",
       "             '누락하는': 1,\n",
       "             '경우': 1,\n",
       "             '공직자윤리위원회가': 1,\n",
       "             '해임': 1,\n",
       "             '또는': 1,\n",
       "             '징계': 1,\n",
       "             '의결을': 1,\n",
       "             '요구할': 1,\n",
       "             '수': 2,\n",
       "             '있도록': 1,\n",
       "             '하고': 1,\n",
       "             '있다.': 1,\n",
       "             '선거': 1,\n",
       "             '선거관리위원회에': 1,\n",
       "             '누락한': 1,\n",
       "             '채': 1,\n",
       "             '선전문서를': 1,\n",
       "             '통해': 1,\n",
       "             '공표했을': 1,\n",
       "             '땐': 1,\n",
       "             '공직선거법상': 1,\n",
       "             '허위사실공표죄가': 1,\n",
       "             '성립된다.': 1,\n",
       "             '그러나': 1,\n",
       "             '선거법': 1,\n",
       "             '공소시효는': 1,\n",
       "             '6개월이므로': 1,\n",
       "             '후보자에게는': 1,\n",
       "             '해당하지': 1,\n",
       "             '않는다.': 1,\n",
       "             '의원은': 1,\n",
       "             '“이미': 1,\n",
       "             '재산등록이': 2,\n",
       "             '이뤄졌던': 1,\n",
       "             '이후': 1,\n",
       "             '지속적으로': 1,\n",
       "             '신고에서': 1,\n",
       "             '누락했다는': 1,\n",
       "             '점에서': 1,\n",
       "             '고의성이': 1,\n",
       "             '다분하다”며': 1,\n",
       "             '“조수진·김홍걸': 1,\n",
       "             '의원': 1,\n",
       "             '등이': 1,\n",
       "             '재산': 2,\n",
       "             '누락': 1,\n",
       "             '혐의로': 1,\n",
       "             '기소되거나': 1,\n",
       "             '재판을': 1,\n",
       "             '받는': 1,\n",
       "             '중인': 1,\n",
       "             '것을': 1,\n",
       "             '감안한다면,': 1,\n",
       "             '건은': 1,\n",
       "             '공소시효가': 1,\n",
       "             '지난해': 1,\n",
       "             '10월': 1,\n",
       "             '이미': 1,\n",
       "             '지나': 1,\n",
       "             '처벌이': 1,\n",
       "             '불가능하다고는': 1,\n",
       "             '해도': 1,\n",
       "             '심각한': 1,\n",
       "             '도덕적': 1,\n",
       "             '흠결이': 1,\n",
       "             '존재한다”고': 1,\n",
       "             '비판했다.': 1,\n",
       "             '이에': 1,\n",
       "             '인사청문회': 1,\n",
       "             '준비단은': 1,\n",
       "             '입장문을': 1,\n",
       "             '내어': 1,\n",
       "             '“2012년': 1,\n",
       "             '첫': 1,\n",
       "             '국회의원': 1,\n",
       "             '당선': 1,\n",
       "             '시': 1,\n",
       "             '보좌진이': 1,\n",
       "             '누락됐으나,': 1,\n",
       "             '이번': 1,\n",
       "             '인사검증을': 1,\n",
       "             '위한': 1,\n",
       "             '재산관계': 1,\n",
       "             '확인': 1,\n",
       "             '그동안': 1,\n",
       "             '누락됐다는': 1,\n",
       "             '사실을': 1,\n",
       "             '인식하게': 1,\n",
       "             '됐다”고': 1,\n",
       "             '밝혔다.': 1,\n",
       "             '이어': 1,\n",
       "             '“2003년': 1,\n",
       "             '민정2비서관': 1,\n",
       "             '임용': 1,\n",
       "             '직접': 1,\n",
       "             '할': 1,\n",
       "             '때는': 1,\n",
       "             '목록에': 1,\n",
       "             '포함시켰을': 1,\n",
       "             '뿐만': 1,\n",
       "             '아니라,': 1,\n",
       "             '현재': 1,\n",
       "             '공시지가': 1,\n",
       "             '기준': 1,\n",
       "             '2091만원으로': 1,\n",
       "             '고의적으로': 1,\n",
       "             '그': 1,\n",
       "             '신고를': 1,\n",
       "             '없다”고': 1,\n",
       "             '그러면서': 1,\n",
       "             '“후보자': 1,\n",
       "             '고조부부터': 1,\n",
       "             '부모님까지': 1,\n",
       "             '조상': 1,\n",
       "             '산소가': 1,\n",
       "             '있는': 2,\n",
       "             '선산으로,': 1,\n",
       "             '7세': 1,\n",
       "             '때부터': 1,\n",
       "             '지분이': 1,\n",
       "             '취득된': 1,\n",
       "             '상태라': 1,\n",
       "             '평소': 1,\n",
       "             '처분할': 1,\n",
       "             '재산이라고': 1,\n",
       "             '인식하지': 1,\n",
       "             '못한': 1,\n",
       "             '탓에': 1,\n",
       "             '빚어진': 1,\n",
       "             '일”이라며': 1,\n",
       "             '“경위': 1,\n",
       "             '덧붙였다.': 1})"
      ]
     },
     "execution_count": 78,
     "metadata": {},
     "output_type": "execute_result"
    }
   ],
   "source": [
    "txtRdd2.flatMap(lambda v: v.split()).map(lambda v: (v,1)).countByKey()"
   ]
  }
 ],
 "metadata": {
  "kernelspec": {
   "display_name": "Python 3",
   "language": "python",
   "name": "python3"
  },
  "language_info": {
   "codemirror_mode": {
    "name": "ipython",
    "version": 3
   },
   "file_extension": ".py",
   "mimetype": "text/x-python",
   "name": "python",
   "nbconvert_exporter": "python",
   "pygments_lexer": "ipython3",
   "version": "3.7.6"
  }
 },
 "nbformat": 4,
 "nbformat_minor": 4
}
