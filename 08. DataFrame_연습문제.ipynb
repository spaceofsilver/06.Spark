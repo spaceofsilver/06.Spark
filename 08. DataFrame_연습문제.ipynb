{
 "cells": [
  {
   "cell_type": "code",
   "execution_count": 1,
   "metadata": {},
   "outputs": [],
   "source": [
    "from pyspark import SparkContext\n",
    "from pyspark.sql import SQLContext, Row\n",
    "import pandas as pd\n",
    "import numpy as np"
   ]
  },
  {
   "cell_type": "code",
   "execution_count": 2,
   "metadata": {},
   "outputs": [],
   "source": [
    "sc = SparkContext( 'local' )\n",
    "sqlCtx = SQLContext( sc )"
   ]
  },
  {
   "cell_type": "markdown",
   "metadata": {},
   "source": [
    "# CSV 읽기\n",
    "- 바로 **데이터 프레임** 형태로 변환\n",
    "- RDD로 변환 후 데이터 프레임으로 변환할 필요가 없음\n",
    "\n",
    "- inferSchema = True\n",
    "    - infers the input schema **automatically** from data."
   ]
  },
  {
   "cell_type": "code",
   "execution_count": 10,
   "metadata": {},
   "outputs": [
    {
     "name": "stdout",
     "output_type": "stream",
     "text": [
      "+------+----+-------------+------+------+------+\n",
      "|기관명|소계|2013년도 이전|2014년|2015년|2016년|\n",
      "+------+----+-------------+------+------+------+\n",
      "|강남구|2780|         1292|   430|   584|   932|\n",
      "|강동구| 773|          379|    99|   155|   377|\n",
      "|강북구| 748|          369|   120|   138|   204|\n",
      "|강서구| 884|          388|   258|   184|    81|\n",
      "|관악구|1496|          846|   260|   390|   613|\n",
      "+------+----+-------------+------+------+------+\n",
      "only showing top 5 rows\n",
      "\n"
     ]
    }
   ],
   "source": [
    "cctv_df = sqlCtx.read.csv(path   = '../data/data1/CCTV_in_Seoul.csv',\n",
    "                          header = True,\n",
    "                          inferSchema = True)\n",
    "cctv_df.show(5)"
   ]
  },
  {
   "cell_type": "code",
   "execution_count": 11,
   "metadata": {},
   "outputs": [
    {
     "name": "stdout",
     "output_type": "stream",
     "text": [
      "root\n",
      " |-- 기관명: string (nullable = true)\n",
      " |-- 소계: integer (nullable = true)\n",
      " |-- 2013년도 이전: integer (nullable = true)\n",
      " |-- 2014년: integer (nullable = true)\n",
      " |-- 2015년: integer (nullable = true)\n",
      " |-- 2016년: integer (nullable = true)\n",
      "\n"
     ]
    }
   ],
   "source": [
    "cctv_df.printSchema()"
   ]
  },
  {
   "cell_type": "markdown",
   "metadata": {},
   "source": [
    "## Groupby\n",
    "- 한글 컬럼은 `줘야 함"
   ]
  },
  {
   "cell_type": "code",
   "execution_count": 13,
   "metadata": {},
   "outputs": [
    {
     "name": "stdout",
     "output_type": "stream",
     "text": [
      "+-----+----+-----+----+----+\n",
      "| 학년|과목| 결과|중간|기말|\n",
      "+-----+----+-----+----+----+\n",
      "|1학년|국어| 좋음|  80|  90|\n",
      "|1학년|국어| 나쁨|  50|  40|\n",
      "|1학년|국어| 나쁨|  20|  50|\n",
      "|1학년|수학| 좋음|  83|  95|\n",
      "|1학년|수학| 좋음|  93|  86|\n",
      "+-----+----+-----+----+----+\n",
      "only showing top 5 rows\n",
      "\n"
     ]
    }
   ],
   "source": [
    "grade_df = sqlCtx.read.csv(path='../data/grade.csv',\n",
    "                          header=True,\n",
    "                         inferSchema=True)\n",
    "grade_df.show(5)"
   ]
  },
  {
   "cell_type": "code",
   "execution_count": 23,
   "metadata": {},
   "outputs": [],
   "source": [
    "grade_df.createOrReplaceTempView( 'grade' ) # 데이터 프레임에 이름 설정"
   ]
  },
  {
   "cell_type": "code",
   "execution_count": 33,
   "metadata": {},
   "outputs": [
    {
     "name": "stdout",
     "output_type": "stream",
     "text": [
      "+-----------------+\n",
      "|        avg(중간)|\n",
      "+-----------------+\n",
      "|68.66666666666667|\n",
      "+-----------------+\n",
      "\n"
     ]
    }
   ],
   "source": [
    "sqlCtx.sql(\"select avg(`중간`) from grade\" ).show()"
   ]
  },
  {
   "cell_type": "code",
   "execution_count": 38,
   "metadata": {},
   "outputs": [
    {
     "name": "stdout",
     "output_type": "stream",
     "text": [
      "+-----+---------+\n",
      "| 학년|중간 평균|\n",
      "+-----+---------+\n",
      "|1학년|     65.2|\n",
      "|2학년|     73.0|\n",
      "+-----+---------+\n",
      "\n"
     ]
    }
   ],
   "source": [
    "sqlCtx.sql(\"select `학년`, avg(`중간`) as `중간 평균` from grade group by `학년` order by `학년` \" ).show()"
   ]
  },
  {
   "cell_type": "code",
   "execution_count": null,
   "metadata": {},
   "outputs": [],
   "source": [
    "RDD 의 transfomation, action 을 이용하여 \n",
    "아래 1,2번을 구하시요.\n",
    "========================\n",
    "\n",
    "1. k.txt(data1폴더아래) 에 있는 단어의\n",
    "갯수를 구하시요.\n",
    "\n",
    "2. births.txt(data폴더아래) 파일을 이용하여 구하시요\n",
    "1) 남아수의 합과 평균을 구하시요\n",
    "2) 여아수의 합과 평균을 구하시요\n",
    "3) 남아수가 높은 탑 5를 구하시요\n",
    "4) 전체 남아수의 비율을 구하시요.\n",
    "5) 여아수를 10등분 했을때 각계급의 수를\n",
    "구하시요\n",
    "\n",
    "========================\n",
    "spark sql 을 이용하여 아래를 구하시요.\n",
    "\n",
    "cctv 문제\n",
    "1. 기관명이 '강'글자가 포함된  데이터를\n",
    "가져오시요\n",
    "2. 기관명, cctv증가율 을 출력하시요.\n",
    "증가율:  (14+15+16)/(2013년이전 )\n",
    "3. 증가율이 가장높은 top 5를 보여주시요\n",
    "4. 기관이라는 컬럼을 만들고\n",
    "기관명에서 마지막 '구'라는 글자를 제한 \n",
    "글자로 데이터를 구성하시요(예)강남,강동,강북....\n",
    "5. 2015년도 cctv 총합을 구하시요.\n",
    "6. 2014년도 2015년도 cctv데이터에 대한 \n",
    "바차트를 그리시요(x축 기관명임)\n",
    "7. cctv가 가장많은 기관명과 갯수를 구하시요\n",
    "8. 현황이라는 컬럼을 추가하고 cctv총갯수가\n",
    "1500개 이상이면 '매우많음' 1000개이상이면 '많음' 나머지\n",
    "보통으로 표시하시요\n",
    " \n",
    "grade 문제\n",
    "=====================\n",
    "1. 학년별 과목별 중간,기말 총합과 평균을 구하시요\n",
    "2. 학년별 중간고사 평균이 70점이상인 값을 구하시요."
   ]
  },
  {
   "cell_type": "code",
   "execution_count": null,
   "metadata": {},
   "outputs": [],
   "source": [
    "RDD 의 transfomation, action 을 이용하여 \n",
    "아래 1,2번을 구하시요.\n",
    "========================\n",
    "\n",
    "1. k.txt(data1폴더아래) 에 있는 단어의\n",
    "갯수를 구하시요.\n",
    "\n",
    "2. births.txt(data폴더아래) 파일을 이용하여 구하시요\n",
    "1) 남아수의 합과 평균을 구하시요\n",
    "2) 여아수의 합과 평균을 구하시요\n",
    "3) 남아수가 높은 탑 5를 구하시요\n",
    "4) 전체 남아수의 비율을 구하시요.\n",
    "5) 여아수를 10등분 했을때 각계급의 수를\n",
    "구하시요"
   ]
  },
  {
   "cell_type": "code",
   "execution_count": 40,
   "metadata": {},
   "outputs": [],
   "source": [
    "rdd = sc.textFile('../data/data1/k.txt')\n",
    "# rdd.collect()"
   ]
  },
  {
   "cell_type": "markdown",
   "metadata": {},
   "source": [
    "## rdd문제 1"
   ]
  },
  {
   "cell_type": "code",
   "execution_count": 113,
   "metadata": {},
   "outputs": [
    {
     "data": {
      "text/plain": [
       "[('원내대표는', 7),\n",
       " ('질문에', 7),\n",
       " ('것은', 5),\n",
       " ('여야', 4),\n",
       " ('하는', 4),\n",
       " ('말했다.', 4),\n",
       " ('3당', 3),\n",
       " ('위해', 3),\n",
       " ('문', 3),\n",
       " ('이인영', 3)]"
      ]
     },
     "execution_count": 113,
     "metadata": {},
     "output_type": "execute_result"
    }
   ],
   "source": [
    "rdd.flatMap(lambda x: x.split()).\\\n",
    "    map( lambda x:(x, 1) ).\\\n",
    "    reduceByKey(lambda a,b:a+b).\\\n",
    "    sortBy(lambda v: v[1], ascending=False ).\\\n",
    "    take(10)"
   ]
  },
  {
   "cell_type": "markdown",
   "metadata": {},
   "source": [
    "## rdd문제 2"
   ]
  },
  {
   "cell_type": "code",
   "execution_count": null,
   "metadata": {},
   "outputs": [],
   "source": [
    "2. births.txt(data폴더아래) 파일을 이용하여 구하시요\n",
    "1) 남아수의 합과 평균을 구하시요\n",
    "2) 여아수의 합과 평균을 구하시요\n",
    "3) 남아수가 높은 탑 5를 구하시요\n",
    "4) 전체 남아수의 비율을 구하시요.\n",
    "5) 여아수를 10등분 했을때 각계급의 수를\n",
    "구하시요"
   ]
  },
  {
   "cell_type": "code",
   "execution_count": 169,
   "metadata": {},
   "outputs": [
    {
     "data": {
      "text/plain": [
       "['1880, 90993, 110491',\n",
       " '1881, 91954, 100745',\n",
       " '1882, 107850, 113688',\n",
       " '1883, 112321, 104629',\n",
       " '1884, 129022, 114445',\n",
       " '1885, 133055, 107800',\n",
       " '1886, 144535, 110784',\n",
       " '1887, 145982, 101414',\n",
       " '1888, 178627, 120853',\n",
       " '1889, 178366, 110584']"
      ]
     },
     "execution_count": 169,
     "metadata": {},
     "output_type": "execute_result"
    }
   ],
   "source": [
    "rdd2 = sc.textFile('../data/births.txt')\n",
    "# 연도 남아 여아\n",
    "rdd2.take(10)"
   ]
  },
  {
   "cell_type": "code",
   "execution_count": 170,
   "metadata": {},
   "outputs": [
    {
     "data": {
      "text/plain": [
       "(161802441, 1225776.07)"
      ]
     },
     "execution_count": 170,
     "metadata": {},
     "output_type": "execute_result"
    }
   ],
   "source": [
    "# 1) 남아수의 합과 평균을 구하시요\n",
    "boys_rdd = rdd2.map( lambda x: x.split(',')).map( lambda x: int(x[1]) )\n",
    "boys_rdd.sum(), round( boys_rdd.mean(), 2 )"
   ]
  },
  {
   "cell_type": "code",
   "execution_count": 171,
   "metadata": {},
   "outputs": [
    {
     "data": {
      "text/plain": [
       "(164392696, 1245399.21)"
      ]
     },
     "execution_count": 171,
     "metadata": {},
     "output_type": "execute_result"
    }
   ],
   "source": [
    "# 2) 여아수의 합과 평균을 구하시요\n",
    "girls_rdd = rdd2.map( lambda x: x.split(',')).map( lambda x: int(x[2]) )\n",
    "girls_rdd.sum(), round( girls_rdd.mean(), 2 )"
   ]
  },
  {
   "cell_type": "code",
   "execution_count": 114,
   "metadata": {},
   "outputs": [
    {
     "data": {
      "text/plain": [
       "[('1957', 2044160),\n",
       " ('1959', 2023044),\n",
       " ('1960', 2022093),\n",
       " ('1961', 2017316),\n",
       " ('1958', 2010884)]"
      ]
     },
     "execution_count": 114,
     "metadata": {},
     "output_type": "execute_result"
    }
   ],
   "source": [
    "# 3) 남아수가 높은 탑 5를 구하시요\n",
    "rdd2.map( lambda x: x.split(',')).\\\n",
    "        map( lambda x: ( x[0], int( x[1]) ) ).\\\n",
    "        sortBy(lambda x: x[1], ascending=False ).take(5)"
   ]
  },
  {
   "cell_type": "code",
   "execution_count": 302,
   "metadata": {},
   "outputs": [
    {
     "data": {
      "text/plain": [
       "[('1901', 0.692),\n",
       " ('1906', 0.689),\n",
       " ('1905', 0.688),\n",
       " ('1899', 0.687),\n",
       " ('1903', 0.687),\n",
       " ('1907', 0.685),\n",
       " ('1908', 0.684),\n",
       " ('1902', 0.683),\n",
       " ('1904', 0.682),\n",
       " ('1909', 0.679)]"
      ]
     },
     "execution_count": 302,
     "metadata": {},
     "output_type": "execute_result"
    }
   ],
   "source": [
    "# 4) 전체 남아수의 비율을 구하시요.\n",
    "\n",
    "# 남아수 비율이 가장 높았던 해\n",
    "rdd2.map( lambda x: x.split(',')).\\\n",
    "        map( lambda x: ( x[0], int(x[1]), int(x[2]) ) ).\\\n",
    "        map( lambda x: (x[0], round( x[1] / (x[1]+x[2]), 3)) ).sortBy(lambda x: x[1] , ascending=False).take(10)"
   ]
  },
  {
   "cell_type": "code",
   "execution_count": 304,
   "metadata": {},
   "outputs": [
    {
     "data": {
      "text/plain": [
       "[('1880', 0.452),\n",
       " ('1881', 0.477),\n",
       " ('1882', 0.487),\n",
       " ('1883', 0.518),\n",
       " ('1884', 0.53),\n",
       " ('1885', 0.552),\n",
       " ('1886', 0.566),\n",
       " ('1887', 0.59),\n",
       " ('1888', 0.596),\n",
       " ('1889', 0.617),\n",
       " ('1890', 0.632),\n",
       " ('1891', 0.647),\n",
       " ('1892', 0.635),\n",
       " ('1893', 0.655),\n",
       " ('1894', 0.658),\n",
       " ('1895', 0.666),\n",
       " ('1896', 0.666),\n",
       " ('1897', 0.675),\n",
       " ('1898', 0.678),\n",
       " ('1899', 0.687),\n",
       " ('1900', 0.666),\n",
       " ('1901', 0.692),\n",
       " ('1902', 0.683),\n",
       " ('1903', 0.687),\n",
       " ('1904', 0.682),\n",
       " ('1905', 0.688),\n",
       " ('1906', 0.689),\n",
       " ('1907', 0.685),\n",
       " ('1908', 0.684),\n",
       " ('1909', 0.679),\n",
       " ('1910', 0.671),\n",
       " ('1911', 0.649),\n",
       " ('1912', 0.565),\n",
       " ('1913', 0.549),\n",
       " ('1914', 0.538),\n",
       " ('1915', 0.537),\n",
       " ('1916', 0.54),\n",
       " ('1917', 0.539),\n",
       " ('1918', 0.533),\n",
       " ('1919', 0.536),\n",
       " ('1920', 0.53),\n",
       " ('1921', 0.528),\n",
       " ('1922', 0.525),\n",
       " ('1923', 0.524),\n",
       " ('1924', 0.524),\n",
       " ('1925', 0.522),\n",
       " ('1926', 0.516),\n",
       " ('1927', 0.514),\n",
       " ('1928', 0.51),\n",
       " ('1929', 0.509),\n",
       " ('1930', 0.506),\n",
       " ('1931', 0.506),\n",
       " ('1932', 0.505),\n",
       " ('1933', 0.504),\n",
       " ('1934', 0.503),\n",
       " ('1935', 0.502),\n",
       " ('1936', 0.501),\n",
       " ('1937', 0.499),\n",
       " ('1938', 0.499),\n",
       " ('1939', 0.498),\n",
       " ('1940', 0.497),\n",
       " ('1941', 0.496),\n",
       " ('1942', 0.494),\n",
       " ('1943', 0.494),\n",
       " ('1944', 0.493),\n",
       " ('1945', 0.493),\n",
       " ('1946', 0.492),\n",
       " ('1947', 0.492),\n",
       " ('1948', 0.492),\n",
       " ('1949', 0.491),\n",
       " ('1950', 0.489),\n",
       " ('1951', 0.489),\n",
       " ('1952', 0.488),\n",
       " ('1953', 0.488),\n",
       " ('1954', 0.488),\n",
       " ('1955', 0.487),\n",
       " ('1956', 0.487),\n",
       " ('1957', 0.487),\n",
       " ('1958', 0.487),\n",
       " ('1959', 0.487),\n",
       " ('1960', 0.487),\n",
       " ('1961', 0.487),\n",
       " ('1962', 0.487),\n",
       " ('1963', 0.487),\n",
       " ('1964', 0.487),\n",
       " ('1965', 0.487),\n",
       " ('1966', 0.487),\n",
       " ('1967', 0.486),\n",
       " ('1968', 0.485),\n",
       " ('1969', 0.485),\n",
       " ('1970', 0.485),\n",
       " ('1971', 0.485),\n",
       " ('1972', 0.484),\n",
       " ('1973', 0.483),\n",
       " ('1974', 0.483),\n",
       " ('1975', 0.483),\n",
       " ('1976', 0.483),\n",
       " ('1977', 0.483),\n",
       " ('1978', 0.483),\n",
       " ('1979', 0.482),\n",
       " ('1980', 0.482),\n",
       " ('1981', 0.482),\n",
       " ('1982', 0.483),\n",
       " ('1983', 0.482),\n",
       " ('1984', 0.483),\n",
       " ('1985', 0.482),\n",
       " ('1986', 0.482),\n",
       " ('1987', 0.482),\n",
       " ('1988', 0.482),\n",
       " ('1989', 0.48),\n",
       " ('1990', 0.48),\n",
       " ('1991', 0.481),\n",
       " ('1992', 0.48),\n",
       " ('1993', 0.48),\n",
       " ('1994', 0.48),\n",
       " ('1995', 0.48),\n",
       " ('1996', 0.481),\n",
       " ('1997', 0.48),\n",
       " ('1998', 0.48),\n",
       " ('1999', 0.48),\n",
       " ('2000', 0.48),\n",
       " ('2001', 0.481),\n",
       " ('2002', 0.481),\n",
       " ('2003', 0.481),\n",
       " ('2004', 0.481),\n",
       " ('2005', 0.481),\n",
       " ('2006', 0.481),\n",
       " ('2007', 0.481),\n",
       " ('2008', 0.481),\n",
       " ('2009', 0.481),\n",
       " ('2010', 0.481),\n",
       " ('2011', 0.481)]"
      ]
     },
     "execution_count": 304,
     "metadata": {},
     "output_type": "execute_result"
    }
   ],
   "source": [
    "rdd2.map( lambda x: x.split(',')).\\\n",
    "        map( lambda x: ( x[0], int(x[1]), int(x[2]) ) ).\\\n",
    "        map( lambda x: (x[0], round( x[1] / (x[1]+x[2]), 3)) ).collect()"
   ]
  },
  {
   "cell_type": "code",
   "execution_count": 103,
   "metadata": {},
   "outputs": [
    {
     "data": {
      "text/plain": [
       "[100745.0,\n",
       " 306257.1,\n",
       " 511769.2,\n",
       " 717281.3,\n",
       " 922793.4,\n",
       " 1128305.5,\n",
       " 1333817.6,\n",
       " 1539329.7,\n",
       " 1744841.8,\n",
       " 1950353.9000000001,\n",
       " 2155866]"
      ]
     },
     "execution_count": 103,
     "metadata": {},
     "output_type": "execute_result"
    }
   ],
   "source": [
    "# 5) 여아수를 10등분 했을때 각계급의 수를 구하시요\n",
    "a,b = rdd2.map( lambda x: x.split(',')).\\\n",
    "        map( lambda x: int(x[2]) ).histogram( 10 ) \n",
    "# b # 도수\n",
    "a  # 계급"
   ]
  },
  {
   "cell_type": "code",
   "execution_count": null,
   "metadata": {},
   "outputs": [],
   "source": [
    "# rdd 문제 1\n",
    "rdd = sc.textFile('../data/data1/k.txt')\n",
    "rdd.flatMap(lambda x: x.split()).\\\n",
    "    map( lambda x:(x, 1) ).\\\n",
    "    reduceByKey(lambda a,b:a+b).\\\n",
    "    sortBy(lambda v: v[1], ascending=False ).\\\n",
    "    take(10) # 단어 높은 빈도순 10개 추출\n",
    "\n",
    "# rdd 문제 2\n",
    "rdd2 = sc.textFile('../data/births.txt')\n",
    "\n",
    "# 1) 남아수의 합과 평균을 구하시요\n",
    "boys_rdd = rdd2.map( lambda x: x.split(',')).map( lambda x: int(x[1]) )\n",
    "boys_rdd.sum(), round( boys_rdd.mean(), 2 )\n",
    "\n",
    "# 2) 여아수의 합과 평균을 구하시요\n",
    "girls_rdd = rdd2.map( lambda x: x.split(',')).map( lambda x: int(x[2]) )\n",
    "girls_rdd.sum(), round( girls_rdd.mean(), 2 )\n",
    "\n",
    "# 3) 남아수가 높은 탑 5를 구하시요\n",
    "rdd2.map( lambda x: x.split(',')).\\\n",
    "        map( lambda x: ( x[0], int( x[1]) ) ).\\\n",
    "        sortBy( lambda x: x[1], ascending=False ).take(5)\n",
    "\n",
    "# 4) 전체 남아수의 비율을 구하시요.\n",
    "rdd2.map( lambda x: x.split(',')).\\\n",
    "        map( lambda x: ( x[0], int(x[1]), int(x[2]) ) ).\\\n",
    "        map( lambda x: (x[:], round( x[1] / (x[1]+x[2]), 3)) ).collect() # 연도, 남아수, 여아수, 남아율\n",
    "\n",
    "# 5) 여아수를 10등분 했을때 각계급의 수를 구하시요\n",
    "a,b = rdd2.map( lambda x: x.split(',')).\\\n",
    "        map( lambda x: int(x[2]) ).histogram( 10 ) \n",
    "# b # 도수\n",
    "a  # 계급"
   ]
  },
  {
   "cell_type": "markdown",
   "metadata": {},
   "source": [
    "## Spark sql"
   ]
  },
  {
   "cell_type": "code",
   "execution_count": 117,
   "metadata": {},
   "outputs": [
    {
     "name": "stdout",
     "output_type": "stream",
     "text": [
      "+------+----+-------------+------+------+------+\n",
      "|기관명|소계|2013년도 이전|2014년|2015년|2016년|\n",
      "+------+----+-------------+------+------+------+\n",
      "|강남구|2780|         1292|   430|   584|   932|\n",
      "|강동구| 773|          379|    99|   155|   377|\n",
      "|강북구| 748|          369|   120|   138|   204|\n",
      "|강서구| 884|          388|   258|   184|    81|\n",
      "|관악구|1496|          846|   260|   390|   613|\n",
      "+------+----+-------------+------+------+------+\n",
      "only showing top 5 rows\n",
      "\n"
     ]
    }
   ],
   "source": [
    "cctv_df = sqlCtx.read.csv(path   = '../data/data1/CCTV_in_Seoul.csv',\n",
    "                          header = True,\n",
    "                          inferSchema = True)\n",
    "cctv_df.show(5)\n",
    "cctv_df.createOrReplaceTempView( 'cctv_df' )"
   ]
  },
  {
   "cell_type": "markdown",
   "metadata": {},
   "source": [
    "# 1.\n",
    "- 기관명이 '강'글자가 포함된  데이터를 가져오시요"
   ]
  },
  {
   "cell_type": "code",
   "execution_count": 257,
   "metadata": {},
   "outputs": [
    {
     "name": "stdout",
     "output_type": "stream",
     "text": [
      "+------+----+-------------+------+------+------+\n",
      "|기관명|소계|2013년도 이전|2014년|2015년|2016년|\n",
      "+------+----+-------------+------+------+------+\n",
      "|강남구|2780|         1292|   430|   584|   932|\n",
      "|강동구| 773|          379|    99|   155|   377|\n",
      "|강북구| 748|          369|   120|   138|   204|\n",
      "|강서구| 884|          388|   258|   184|    81|\n",
      "+------+----+-------------+------+------+------+\n",
      "\n"
     ]
    }
   ],
   "source": [
    "# solution 1\n",
    "sqlCtx.sql( \"select * from cctv_df where `기관명` like '%강%' \" ).show()"
   ]
  },
  {
   "cell_type": "code",
   "execution_count": 258,
   "metadata": {},
   "outputs": [
    {
     "name": "stdout",
     "output_type": "stream",
     "text": [
      "+------+----+-------------+------+------+------+\n",
      "|기관명|소계|2013년도 이전|2014년|2015년|2016년|\n",
      "+------+----+-------------+------+------+------+\n",
      "|강남구|2780|         1292|   430|   584|   932|\n",
      "|강동구| 773|          379|    99|   155|   377|\n",
      "|강북구| 748|          369|   120|   138|   204|\n",
      "|강서구| 884|          388|   258|   184|    81|\n",
      "+------+----+-------------+------+------+------+\n",
      "\n"
     ]
    }
   ],
   "source": [
    "# solution 2 -> Hive ql 정규식 사용\n",
    "sqlCtx.sql( \"select * from cctv_df where `기관명` rlike '강' \" ).show()"
   ]
  },
  {
   "cell_type": "code",
   "execution_count": 259,
   "metadata": {},
   "outputs": [
    {
     "data": {
      "text/plain": [
       "['기관명', '소계', '2013년도 이전', '2014년', '2015년', '2016년']"
      ]
     },
     "execution_count": 259,
     "metadata": {},
     "output_type": "execute_result"
    }
   ],
   "source": [
    "cctv_df.columns"
   ]
  },
  {
   "cell_type": "markdown",
   "metadata": {},
   "source": [
    "# 2. \n",
    "- 기관명, cctv증가율 을 출력하시요.\n",
    "- 증가율:  (14+15+16)/(2013년이전 )"
   ]
  },
  {
   "cell_type": "code",
   "execution_count": 281,
   "metadata": {},
   "outputs": [
    {
     "name": "stdout",
     "output_type": "stream",
     "text": [
      "+--------+-------+\n",
      "|  기관명| 증가율|\n",
      "+--------+-------+\n",
      "|  강남구|1014.72|\n",
      "|  강동구| 254.99|\n",
      "|  강북구| 258.55|\n",
      "|  강서구| 442.21|\n",
      "|  관악구| 650.72|\n",
      "|  광진구|  131.3|\n",
      "|  구로구| 419.28|\n",
      "|  금천구| 320.53|\n",
      "|  노원구| 508.95|\n",
      "|  도봉구| 202.62|\n",
      "|동대문구| 221.54|\n",
      "|  동작구| 444.58|\n",
      "|  마포구| 288.21|\n",
      "|서대문구| 118.35|\n",
      "|  서초구| 493.28|\n",
      "|  성동구| 332.36|\n",
      "|  성북구|  438.2|\n",
      "|  송파구|  89.88|\n",
      "|  양천구| 172.25|\n",
      "|영등포구| 409.75|\n",
      "+--------+-------+\n",
      "only showing top 20 rows\n",
      "\n"
     ]
    }
   ],
   "source": [
    "sqlCtx.sql('''\n",
    "            select \n",
    "                `기관명`,\n",
    "                round( (`2014년`+`2015년`+`2016년`/`2013년도 이전`), 2 ) as `증가율`\n",
    "            from \n",
    "                cctv_df\n",
    "            ''' ).show()"
   ]
  },
  {
   "cell_type": "markdown",
   "metadata": {},
   "source": [
    "# 3. \n",
    "- 증가율이 가장높은 top 5를 보여주시요"
   ]
  },
  {
   "cell_type": "code",
   "execution_count": 283,
   "metadata": {},
   "outputs": [
    {
     "name": "stdout",
     "output_type": "stream",
     "text": [
      "+------+-------+\n",
      "|기관명| 증가율|\n",
      "+------+-------+\n",
      "|강남구|1014.72|\n",
      "|관악구| 650.72|\n",
      "|종로구| 526.36|\n",
      "|노원구| 508.95|\n",
      "|은평구| 502.41|\n",
      "+------+-------+\n",
      "\n"
     ]
    }
   ],
   "source": [
    "sqlCtx.sql('''\n",
    "            select \n",
    "                `기관명`,\n",
    "                round( (`2014년`+`2015년`+`2016년`/`2013년도 이전`), 2 ) as `증가율`\n",
    "            from \n",
    "                cctv_df\n",
    "            order by \n",
    "                `증가율` desc\n",
    "            limit 5\n",
    "            ''' ).show()"
   ]
  },
  {
   "cell_type": "markdown",
   "metadata": {},
   "source": [
    "# 4. \n",
    "기관이라는 컬럼을 만들고\n",
    "기관명에서 마지막 '구'라는 글자를 제한 \n",
    "글자로 데이터를 구성하시요(예)강남,강동,강북...."
   ]
  },
  {
   "cell_type": "code",
   "execution_count": 287,
   "metadata": {},
   "outputs": [
    {
     "name": "stdout",
     "output_type": "stream",
     "text": [
      "+------+--------+----+-------------+------+------+------+\n",
      "|  기관|  기관명|소계|2013년도 이전|2014년|2015년|2016년|\n",
      "+------+--------+----+-------------+------+------+------+\n",
      "|  강남|  강남구|2780|         1292|   430|   584|   932|\n",
      "|  강동|  강동구| 773|          379|    99|   155|   377|\n",
      "|  강북|  강북구| 748|          369|   120|   138|   204|\n",
      "|  강서|  강서구| 884|          388|   258|   184|    81|\n",
      "|  관악|  관악구|1496|          846|   260|   390|   613|\n",
      "|  광진|  광진구| 707|          573|    78|    53|   174|\n",
      "|  구로|  구로구|1561|         1142|   173|   246|   323|\n",
      "|  금천|  금천구|1015|          674|    51|   269|   354|\n",
      "|  노원|  노원구|1265|          542|    57|   451|   516|\n",
      "|  도봉|  도봉구| 485|          238|   159|    42|   386|\n",
      "|동대문|동대문구|1294|         1070|    23|   198|   579|\n",
      "|  동작|  동작구|1091|          544|   341|   103|   314|\n",
      "|  마포|  마포구| 574|          314|   118|   169|   379|\n",
      "|서대문|서대문구| 962|          844|    50|    68|   292|\n",
      "|  서초|  서초구|1930|         1406|   157|   336|   398|\n",
      "|  성동|  성동구|1062|          730|    91|   241|   265|\n",
      "|  성북|  성북구|1464|         1009|    78|   360|   204|\n",
      "|  송파|  송파구| 618|          529|    21|    68|   463|\n",
      "|  양천|  양천구|2034|         1843|   142|    30|   467|\n",
      "|영등포|영등포구| 904|          495|   214|   195|   373|\n",
      "+------+--------+----+-------------+------+------+------+\n",
      "only showing top 20 rows\n",
      "\n"
     ]
    }
   ],
   "source": [
    "# 4번\n",
    "cctv_df = sqlCtx.read.csv(path   = '../data/data1/CCTV_in_Seoul.csv',\n",
    "                          header = True,\n",
    "                          inferSchema = True)\n",
    "\n",
    "cctv_df.createOrReplaceTempView( 'cctv_df' )\n",
    "\n",
    "sqlCtx.sql( '''\n",
    "            select \n",
    "                regexp_replace( `기관명`, '구$', '' ) as `기관` ,\n",
    "                * \n",
    "            from \n",
    "                cctv_df\n",
    "            ''').show()"
   ]
  },
  {
   "cell_type": "markdown",
   "metadata": {},
   "source": [
    "# 5. \n",
    "2015년도 cctv 총합을 구하시요."
   ]
  },
  {
   "cell_type": "code",
   "execution_count": 151,
   "metadata": {},
   "outputs": [
    {
     "name": "stdout",
     "output_type": "stream",
     "text": [
      "+----------------+\n",
      "|2015년 cctv 총합|\n",
      "+----------------+\n",
      "|            5130|\n",
      "+----------------+\n",
      "\n"
     ]
    }
   ],
   "source": [
    "sqlCtx.sql(\"select sum(`2015년`) as `2015년 cctv 총합` from cctv_df\").show()"
   ]
  },
  {
   "cell_type": "markdown",
   "metadata": {},
   "source": [
    "# 6.\n",
    "2014년도 2015년도 cctv데이터에 대한 바차트를 그리시요(x축 기관명임)"
   ]
  },
  {
   "cell_type": "code",
   "execution_count": 150,
   "metadata": {},
   "outputs": [
    {
     "data": {
      "image/png": "[encoded data removed]",
      "text/plain": [
       "<Figure size 720x432 with 1 Axes>"
      ]
     },
     "metadata": {
      "needs_background": "light"
     },
     "output_type": "display_data"
    }
   ],
   "source": [
    "sql6_df = sqlCtx.sql(\"select `기관명`, `2014년`, `2015년`  from cctv_df \").toPandas()\n",
    "\n",
    "import matplotlib.pyplot as plt\n",
    "import matplotlib\n",
    "matplotlib.rcParams['font.family']='Malgun Gothic'\n",
    "matplotlib.rcParams['axes.unicode_minus'] = False\n",
    "\n",
    "plt.figure( figsize = (10,6) )\n",
    "plt.xticks( rotation = 45  )\n",
    "\n",
    "plt.xlabel( '기관명' )\n",
    "plt.ylabel( 'cctv 대수')\n",
    "plt.title( '2014년도 2015년도 기관별 cctv 대수' )\n",
    "plt.plot(  sql6_df['기관명'], sql6_df['2014년'] )\n",
    "plt.plot(  sql6_df['기관명'], sql6_df['2015년'] )\n",
    "\n",
    "plt.legend( ['2014년도','2015년도'] )\n",
    "plt.show()"
   ]
  },
  {
   "cell_type": "markdown",
   "metadata": {},
   "source": [
    "# 7. \n",
    "cctv가 가장많은 기관명과 갯수를 구하시요"
   ]
  },
  {
   "cell_type": "code",
   "execution_count": 286,
   "metadata": {},
   "outputs": [
    {
     "name": "stdout",
     "output_type": "stream",
     "text": [
      "+------+----+-------------+------+------+------+\n",
      "|기관명|소계|2013년도 이전|2014년|2015년|2016년|\n",
      "+------+----+-------------+------+------+------+\n",
      "|강남구|2780|         1292|   430|   584|   932|\n",
      "+------+----+-------------+------+------+------+\n",
      "\n"
     ]
    }
   ],
   "source": [
    "sqlCtx.sql( '''\n",
    "            select \n",
    "                *\n",
    "            from \n",
    "                cctv_df\n",
    "            where \n",
    "                `소계` == (select max(`소계`) from cctv_df )\n",
    "            ''').show()"
   ]
  },
  {
   "cell_type": "markdown",
   "metadata": {},
   "source": [
    "# 8.\n",
    "현황이라는 컬럼을 추가하고 cctv총갯수가\n",
    "1500개 이상이면 '매우많음' 1000개이상이면 '많음' 나머지\n",
    "보통으로 표시하시요"
   ]
  },
  {
   "cell_type": "code",
   "execution_count": 179,
   "metadata": {},
   "outputs": [
    {
     "name": "stdout",
     "output_type": "stream",
     "text": [
      "+--------+----+-------------+------+------+------+-------------+\n",
      "|  기관명|소계|2013년도 이전|2014년|2015년|2016년|cctv대수 정도|\n",
      "+--------+----+-------------+------+------+------+-------------+\n",
      "|  강남구|2780|         1292|   430|   584|   932|    매우 많음|\n",
      "|  강동구| 773|          379|    99|   155|   377|         보통|\n",
      "|  강북구| 748|          369|   120|   138|   204|         보통|\n",
      "|  강서구| 884|          388|   258|   184|    81|         보통|\n",
      "|  관악구|1496|          846|   260|   390|   613|         많음|\n",
      "|  광진구| 707|          573|    78|    53|   174|         보통|\n",
      "|  구로구|1561|         1142|   173|   246|   323|    매우 많음|\n",
      "|  금천구|1015|          674|    51|   269|   354|         많음|\n",
      "|  노원구|1265|          542|    57|   451|   516|         많음|\n",
      "|  도봉구| 485|          238|   159|    42|   386|         보통|\n",
      "|동대문구|1294|         1070|    23|   198|   579|         많음|\n",
      "|  동작구|1091|          544|   341|   103|   314|         많음|\n",
      "|  마포구| 574|          314|   118|   169|   379|         보통|\n",
      "|서대문구| 962|          844|    50|    68|   292|         보통|\n",
      "|  서초구|1930|         1406|   157|   336|   398|    매우 많음|\n",
      "|  성동구|1062|          730|    91|   241|   265|         많음|\n",
      "|  성북구|1464|         1009|    78|   360|   204|         많음|\n",
      "|  송파구| 618|          529|    21|    68|   463|         보통|\n",
      "|  양천구|2034|         1843|   142|    30|   467|    매우 많음|\n",
      "|영등포구| 904|          495|   214|   195|   373|         보통|\n",
      "+--------+----+-------------+------+------+------+-------------+\n",
      "only showing top 20 rows\n",
      "\n"
     ]
    }
   ],
   "source": [
    "# cctv_df.show()\n",
    "sqlCtx.sql( '''\n",
    "            select *, \n",
    "            case\n",
    "                when `소계` >= 1500 then '매우 많음'\n",
    "                when `소계` >= 1000 then '많음'\n",
    "                else '보통'\n",
    "            end as `cctv대수 정도`\n",
    "            from cctv_df\n",
    "            ''').show()"
   ]
  },
  {
   "cell_type": "markdown",
   "metadata": {},
   "source": [
    "# grade 문제"
   ]
  },
  {
   "cell_type": "markdown",
   "metadata": {},
   "source": [
    "- 1. 학년별 과목별 중간,기말 총합과 평균을 구하시요\n",
    "- 2. 학년별 중간고사 평균이 70점이상인 값을 구하시요."
   ]
  },
  {
   "cell_type": "code",
   "execution_count": 180,
   "metadata": {},
   "outputs": [
    {
     "name": "stdout",
     "output_type": "stream",
     "text": [
      "+-----+----+-----+----+----+\n",
      "| 학년|과목| 결과|중간|기말|\n",
      "+-----+----+-----+----+----+\n",
      "|1학년|국어| 좋음|  80|  90|\n",
      "|1학년|국어| 나쁨|  50|  40|\n",
      "|1학년|국어| 나쁨|  20|  50|\n",
      "|1학년|수학| 좋음|  83|  95|\n",
      "|1학년|수학| 좋음|  93|  86|\n",
      "+-----+----+-----+----+----+\n",
      "only showing top 5 rows\n",
      "\n"
     ]
    }
   ],
   "source": [
    "grade_df = sqlCtx.read.csv(path='../data/grade.csv',\n",
    "                          header=True,\n",
    "                         inferSchema=True)\n",
    "grade_df.createOrReplaceTempView( 'grade' ) # 데이터 프레임에 이름 설정"
   ]
  },
  {
   "cell_type": "code",
   "execution_count": 212,
   "metadata": {},
   "outputs": [
    {
     "name": "stdout",
     "output_type": "stream",
     "text": [
      "root\n",
      " |-- 학년: string (nullable = true)\n",
      " |-- 과목: string (nullable = true)\n",
      " |-- 결과: string (nullable = true)\n",
      " |-- 중간: integer (nullable = true)\n",
      " |-- 기말: integer (nullable = true)\n",
      "\n"
     ]
    }
   ],
   "source": [
    "grade_df.printSchema()"
   ]
  },
  {
   "cell_type": "code",
   "execution_count": 290,
   "metadata": {},
   "outputs": [
    {
     "name": "stdout",
     "output_type": "stream",
     "text": [
      "+-----+----+-------------+-------------+-------------+-------------+\n",
      "| 학년|과목|중간고사 총합|기말고사 총합|중간고사 평균|기말고사 평균|\n",
      "+-----+----+-------------+-------------+-------------+-------------+\n",
      "|1학년|국어|          150|          150|         50.0|         50.0|\n",
      "|1학년|수학|          176|          176|         88.0|         88.0|\n",
      "|2학년|국어|          139|          139|         69.5|         69.5|\n",
      "|2학년|수학|          153|          153|         76.5|         76.5|\n",
      "+-----+----+-------------+-------------+-------------+-------------+\n",
      "\n"
     ]
    }
   ],
   "source": [
    "# 1번\n",
    "sqlCtx.sql( '''\n",
    "            select \n",
    "                `학년`, \n",
    "                `과목`, \n",
    "                sum(`중간`) as `중간고사 총합`, \n",
    "                sum(`중간`) as `기말고사 총합`,\n",
    "                avg(`중간`) as `중간고사 평균`, \n",
    "                avg(`중간`) as `기말고사 평균`\n",
    "            from \n",
    "                grade \n",
    "            group by \n",
    "                `학년`, `과목` \n",
    "            order by \n",
    "                `학년`, `과목`\n",
    "            ''').show()"
   ]
  },
  {
   "cell_type": "code",
   "execution_count": 288,
   "metadata": {},
   "outputs": [
    {
     "name": "stdout",
     "output_type": "stream",
     "text": [
      "+-----+---------+\n",
      "| 학년|중간 평균|\n",
      "+-----+---------+\n",
      "|2학년|     73.0|\n",
      "+-----+---------+\n",
      "\n"
     ]
    }
   ],
   "source": [
    "#  2. 학년별 중간고사 평균이 70점이상인 값을 구하시요.\n",
    "sqlCtx.sql('''\n",
    "        select `학년`,\n",
    "                avg(`중간`) as `중간 평균`   \n",
    "        from \n",
    "            grade\n",
    "        group by \n",
    "            `학년` \n",
    "        having \n",
    "            `중간 평균` >= 70\n",
    "        ''' ).show()"
   ]
  }
 ],
 "metadata": {
  "kernelspec": {
   "display_name": "Python 3",
   "language": "python",
   "name": "python3"
  },
  "language_info": {
   "codemirror_mode": {
    "name": "ipython",
    "version": 3
   },
   "file_extension": ".py",
   "mimetype": "text/x-python",
   "name": "python",
   "nbconvert_exporter": "python",
   "pygments_lexer": "ipython3",
   "version": "3.7.6"
  }
 },
 "nbformat": 4,
 "nbformat_minor": 4
}
