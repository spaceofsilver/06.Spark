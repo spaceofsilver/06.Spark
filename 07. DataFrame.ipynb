{
 "cells": [
  {
   "cell_type": "code",
   "execution_count": 1,
   "metadata": {},
   "outputs": [],
   "source": [
    "from pyspark import SparkContext\n",
    "from pyspark.sql import SQLContext, Row\n",
    "import pandas as pd\n",
    "import numpy as np"
   ]
  },
  {
   "cell_type": "code",
   "execution_count": 2,
   "metadata": {},
   "outputs": [],
   "source": [
    "sc = SparkContext( 'local' )\n",
    "sqlCtx = SQLContext( sc )"
   ]
  },
  {
   "cell_type": "code",
   "execution_count": 3,
   "metadata": {},
   "outputs": [],
   "source": [
    "emp =[('홍길동',1),('이순신',2),\n",
    "      ('임꺽정',3),('김철수',3),('김철수1',5)]\n",
    "dept = [('개발',1), ('연구',2),\n",
    "        ('영업',3),('기획',4) ]\n"
   ]
  },
  {
   "cell_type": "code",
   "execution_count": 6,
   "metadata": {},
   "outputs": [
    {
     "data": {
      "text/plain": [
       "[('홍길동', 1), ('이순신', 2), ('임꺽정', 3), ('김철수', 3), ('김철수1', 5)]"
      ]
     },
     "execution_count": 6,
     "metadata": {},
     "output_type": "execute_result"
    }
   ],
   "source": [
    "empRdd = sc.parallelize( emp )\n",
    "empRdd.collect()"
   ]
  },
  {
   "cell_type": "markdown",
   "metadata": {},
   "source": [
    "# DataFrame\n",
    "- 분산 데이터 프레임\n",
    "- MapReduce에는 없는 형태\n",
    "- Spark에서 추가된 형태"
   ]
  },
  {
   "cell_type": "code",
   "execution_count": 8,
   "metadata": {},
   "outputs": [
    {
     "data": {
      "text/plain": [
       "DataFrame[_1: string, _2: bigint]"
      ]
     },
     "execution_count": 8,
     "metadata": {},
     "output_type": "execute_result"
    }
   ],
   "source": [
    "# (1) RDD를 분산 데이터프레임으로  만들기\n",
    "empDF = empRdd.toDF() # RDD를 데이터 프레임으로 만드는 함수\n",
    "empDF"
   ]
  },
  {
   "cell_type": "code",
   "execution_count": 9,
   "metadata": {},
   "outputs": [
    {
     "name": "stdout",
     "output_type": "stream",
     "text": [
      "+-------+---+\n",
      "|     _1| _2|\n",
      "+-------+---+\n",
      "| 홍길동|  1|\n",
      "| 이순신|  2|\n",
      "| 임꺽정|  3|\n",
      "| 김철수|  3|\n",
      "|김철수1|  5|\n",
      "+-------+---+\n",
      "\n"
     ]
    }
   ],
   "source": [
    "empDF.show()"
   ]
  },
  {
   "cell_type": "code",
   "execution_count": 11,
   "metadata": {},
   "outputs": [
    {
     "name": "stdout",
     "output_type": "stream",
     "text": [
      "+-------+---+\n",
      "|     _1| _2|\n",
      "+-------+---+\n",
      "| 홍길동|  1|\n",
      "| 이순신|  2|\n",
      "| 임꺽정|  3|\n",
      "| 김철수|  3|\n",
      "|김철수1|  5|\n",
      "+-------+---+\n",
      "\n"
     ]
    }
   ],
   "source": [
    "# (2) SQLContext의 멤버함수로 데이터 프레임 만들기\n",
    "empDF1 = sqlCtx.createDataFrame( emp )\n",
    "empDF1.show() # 단순히 찍어주는 것( print )"
   ]
  },
  {
   "cell_type": "markdown",
   "metadata": {},
   "source": [
    "# 판다스 데이터 프레임으로 변환\n",
    "- df.toPandas( ) \n",
    "    - **RDD.collect( )와 같은 개념!**\n",
    "    - 분산되어 저장된 데이터 프레임의 데이터를 하나의 판다스 데이터프레임으로 만들어 주는 것\n",
    "    - 따라서 함부로 사용하면 안 됨\n",
    "        - 충분히 **필터링** 하고 사용, 아니라면 spark데이터 프레임으로 분석"
   ]
  },
  {
   "cell_type": "code",
   "execution_count": 24,
   "metadata": {},
   "outputs": [
    {
     "data": {
      "text/html": [
       "<div>\n",
       "<style scoped>\n",
       "    .dataframe tbody tr th:only-of-type {\n",
       "        vertical-align: middle;\n",
       "    }\n",
       "\n",
       "    .dataframe tbody tr th {\n",
       "        vertical-align: top;\n",
       "    }\n",
       "\n",
       "    .dataframe thead th {\n",
       "        text-align: right;\n",
       "    }\n",
       "</style>\n",
       "<table border=\"1\" class=\"dataframe\">\n",
       "  <thead>\n",
       "    <tr style=\"text-align: right;\">\n",
       "      <th></th>\n",
       "      <th>_1</th>\n",
       "      <th>_2</th>\n",
       "    </tr>\n",
       "  </thead>\n",
       "  <tbody>\n",
       "    <tr>\n",
       "      <th>0</th>\n",
       "      <td>홍길동</td>\n",
       "      <td>1</td>\n",
       "    </tr>\n",
       "    <tr>\n",
       "      <th>1</th>\n",
       "      <td>이순신</td>\n",
       "      <td>2</td>\n",
       "    </tr>\n",
       "    <tr>\n",
       "      <th>2</th>\n",
       "      <td>임꺽정</td>\n",
       "      <td>3</td>\n",
       "    </tr>\n",
       "    <tr>\n",
       "      <th>3</th>\n",
       "      <td>김철수</td>\n",
       "      <td>3</td>\n",
       "    </tr>\n",
       "    <tr>\n",
       "      <th>4</th>\n",
       "      <td>김철수1</td>\n",
       "      <td>5</td>\n",
       "    </tr>\n",
       "  </tbody>\n",
       "</table>\n",
       "</div>"
      ],
      "text/plain": [
       "     _1  _2\n",
       "0   홍길동   1\n",
       "1   이순신   2\n",
       "2   임꺽정   3\n",
       "3   김철수   3\n",
       "4  김철수1   5"
      ]
     },
     "execution_count": 24,
     "metadata": {},
     "output_type": "execute_result"
    }
   ],
   "source": [
    "df= empDF1.toPandas() # RDD.collect()와 같은 개념\n",
    "df"
   ]
  },
  {
   "cell_type": "markdown",
   "metadata": {},
   "source": [
    "# 컬럼명 지정"
   ]
  },
  {
   "cell_type": "code",
   "execution_count": 15,
   "metadata": {},
   "outputs": [
    {
     "name": "stdout",
     "output_type": "stream",
     "text": [
      "+-------+------+\n",
      "|   name|deptid|\n",
      "+-------+------+\n",
      "| 홍길동|     1|\n",
      "| 이순신|     2|\n",
      "| 임꺽정|     3|\n",
      "| 김철수|     3|\n",
      "|김철수1|     5|\n",
      "+-------+------+\n",
      "\n"
     ]
    }
   ],
   "source": [
    "empDF2 = sqlCtx.createDataFrame( emp, ['name','deptid'] ) # 컬럼명을 설정하는 것\n",
    "empDF2.show()"
   ]
  },
  {
   "cell_type": "markdown",
   "metadata": {},
   "source": [
    "# 스키마 확인\n",
    "- df.printSchema()\n",
    "- padas의 df.info()와 같음"
   ]
  },
  {
   "cell_type": "code",
   "execution_count": 17,
   "metadata": {},
   "outputs": [
    {
     "name": "stdout",
     "output_type": "stream",
     "text": [
      "root\n",
      " |-- name: string (nullable = true)\n",
      " |-- deptid: long (nullable = true)\n",
      "\n"
     ]
    }
   ],
   "source": [
    "empDF2.printSchema() "
   ]
  },
  {
   "cell_type": "markdown",
   "metadata": {},
   "source": [
    "# SparkSQL\n",
    "- **HIVE**(하둡 에코 시스템, sql 이용해 데이터 분석)의 SQL 문법을 따름\n",
    "- HIVE ql 함수\n",
    "    - https://rfriend.tistory.com/213\n",
    "    - https://docs.microsoft.com/ko-kr/azure/hdinsight/hadoop/hdinsight-use-hive\n",
    "- Spark SQL 구문 라이브러리\n",
    "    - https://spark.apache.org/docs/latest/api/sql/index.html <br>\n",
    "<br>     \n",
    "- Spark SQL을 사용하기 위해선 분산 **데이터 프레임에 이름**을 부여해야함\n",
    "    - df.createOrReplaceTempView( '이름' )"
   ]
  },
  {
   "cell_type": "code",
   "execution_count": 18,
   "metadata": {},
   "outputs": [],
   "source": [
    "# **분산데이터 프레임에 이름을 부여해야함**\n",
    "empDF2.createOrReplaceTempView( 'my' ) "
   ]
  },
  {
   "cell_type": "code",
   "execution_count": 21,
   "metadata": {},
   "outputs": [
    {
     "name": "stdout",
     "output_type": "stream",
     "text": [
      "+-------+------+\n",
      "|   name|deptid|\n",
      "+-------+------+\n",
      "| 홍길동|     1|\n",
      "| 이순신|     2|\n",
      "| 임꺽정|     3|\n",
      "| 김철수|     3|\n",
      "|김철수1|     5|\n",
      "+-------+------+\n",
      "\n"
     ]
    }
   ],
   "source": [
    "sql = 'select * from my'\n",
    "sqlDF = sqlCtx.sql( sql )\n",
    "sqlDF.show() # spark 데이터 프레임을 반환"
   ]
  },
  {
   "cell_type": "code",
   "execution_count": 23,
   "metadata": {},
   "outputs": [
    {
     "name": "stdout",
     "output_type": "stream",
     "text": [
      "+-------+\n",
      "|   name|\n",
      "+-------+\n",
      "| 홍길동|\n",
      "| 이순신|\n",
      "| 임꺽정|\n",
      "| 김철수|\n",
      "|김철수1|\n",
      "+-------+\n",
      "\n"
     ]
    }
   ],
   "source": [
    "sqlCtx.sql( 'select name from my' ).show()"
   ]
  },
  {
   "cell_type": "code",
   "execution_count": 26,
   "metadata": {},
   "outputs": [
    {
     "name": "stdout",
     "output_type": "stream",
     "text": [
      "+-------+\n",
      "|   name|\n",
      "+-------+\n",
      "| 이순신|\n",
      "| 임꺽정|\n",
      "| 김철수|\n",
      "|김철수1|\n",
      "+-------+\n",
      "\n"
     ]
    }
   ],
   "source": [
    "sqlCtx.sql( 'select name from my where name != \"홍길동\" ' ).show()"
   ]
  },
  {
   "cell_type": "code",
   "execution_count": 28,
   "metadata": {},
   "outputs": [
    {
     "name": "stdout",
     "output_type": "stream",
     "text": [
      "+-------+------+\n",
      "|   name|deptid|\n",
      "+-------+------+\n",
      "| 임꺽정|     3|\n",
      "| 김철수|     3|\n",
      "|김철수1|     5|\n",
      "+-------+------+\n",
      "\n"
     ]
    }
   ],
   "source": [
    "sqlCtx.sql( 'select * from my where deptid >= 3 ' ).show()"
   ]
  },
  {
   "cell_type": "markdown",
   "metadata": {},
   "source": [
    "## 데이터가 충분히 필터링 됐다면, 판다스 데이터프레임으로 변환"
   ]
  },
  {
   "cell_type": "code",
   "execution_count": 31,
   "metadata": {},
   "outputs": [
    {
     "data": {
      "text/html": [
       "<div>\n",
       "<style scoped>\n",
       "    .dataframe tbody tr th:only-of-type {\n",
       "        vertical-align: middle;\n",
       "    }\n",
       "\n",
       "    .dataframe tbody tr th {\n",
       "        vertical-align: top;\n",
       "    }\n",
       "\n",
       "    .dataframe thead th {\n",
       "        text-align: right;\n",
       "    }\n",
       "</style>\n",
       "<table border=\"1\" class=\"dataframe\">\n",
       "  <thead>\n",
       "    <tr style=\"text-align: right;\">\n",
       "      <th></th>\n",
       "      <th>name</th>\n",
       "      <th>deptid</th>\n",
       "    </tr>\n",
       "  </thead>\n",
       "  <tbody>\n",
       "    <tr>\n",
       "      <th>0</th>\n",
       "      <td>이순신</td>\n",
       "      <td>2</td>\n",
       "    </tr>\n",
       "    <tr>\n",
       "      <th>1</th>\n",
       "      <td>임꺽정</td>\n",
       "      <td>3</td>\n",
       "    </tr>\n",
       "    <tr>\n",
       "      <th>2</th>\n",
       "      <td>김철수</td>\n",
       "      <td>3</td>\n",
       "    </tr>\n",
       "  </tbody>\n",
       "</table>\n",
       "</div>"
      ],
      "text/plain": [
       "  name  deptid\n",
       "0  이순신       2\n",
       "1  임꺽정       3\n",
       "2  김철수       3"
      ]
     },
     "execution_count": 31,
     "metadata": {},
     "output_type": "execute_result"
    }
   ],
   "source": [
    "sqlCtx.sql( 'select * from my where deptid == 2 or deptid == 3 ' ).toPandas()"
   ]
  },
  {
   "cell_type": "code",
   "execution_count": 35,
   "metadata": {},
   "outputs": [
    {
     "name": "stdout",
     "output_type": "stream",
     "text": [
      "+------+------+\n",
      "|  name|deptid|\n",
      "+------+------+\n",
      "|홍길동|     1|\n",
      "|이순신|     2|\n",
      "+------+------+\n",
      "\n"
     ]
    }
   ],
   "source": [
    "sqlCtx.sql( 'select * from my where deptid in (1,2) ' ).show()"
   ]
  },
  {
   "cell_type": "code",
   "execution_count": 36,
   "metadata": {},
   "outputs": [
    {
     "name": "stdout",
     "output_type": "stream",
     "text": [
      "+------+------+\n",
      "|  name|deptid|\n",
      "+------+------+\n",
      "|이순신|     2|\n",
      "|임꺽정|     3|\n",
      "|김철수|     3|\n",
      "+------+------+\n",
      "\n"
     ]
    }
   ],
   "source": [
    "sqlCtx.sql( 'select * from my where deptid >= 2 and deptid <= 4 ' ).show()"
   ]
  },
  {
   "cell_type": "code",
   "execution_count": 39,
   "metadata": {},
   "outputs": [
    {
     "name": "stdout",
     "output_type": "stream",
     "text": [
      "+------+------+\n",
      "|  name|deptid|\n",
      "+------+------+\n",
      "|이순신|     2|\n",
      "|임꺽정|     3|\n",
      "|김철수|     3|\n",
      "+------+------+\n",
      "\n"
     ]
    }
   ],
   "source": [
    "sqlCtx.sql( 'select * from my where deptid between 2 and 4' ).show()"
   ]
  },
  {
   "cell_type": "code",
   "execution_count": 40,
   "metadata": {},
   "outputs": [
    {
     "name": "stdout",
     "output_type": "stream",
     "text": [
      "+------+------+\n",
      "|  name|deptid|\n",
      "+------+------+\n",
      "|이순신|     2|\n",
      "+------+------+\n",
      "\n"
     ]
    }
   ],
   "source": [
    "sqlCtx.sql( 'select * from my where name == \"이순신\" ' ).show()"
   ]
  },
  {
   "cell_type": "code",
   "execution_count": 41,
   "metadata": {},
   "outputs": [
    {
     "name": "stdout",
     "output_type": "stream",
     "text": [
      "+-------+------+\n",
      "|   name|deptid|\n",
      "+-------+------+\n",
      "| 김철수|     3|\n",
      "|김철수1|     5|\n",
      "+-------+------+\n",
      "\n"
     ]
    }
   ],
   "source": [
    "sqlCtx.sql( 'select * from my where name like \"%김%\" ' ).show()"
   ]
  },
  {
   "cell_type": "code",
   "execution_count": 49,
   "metadata": {},
   "outputs": [
    {
     "name": "stdout",
     "output_type": "stream",
     "text": [
      "+-------+------+\n",
      "|   name|deptid|\n",
      "+-------+------+\n",
      "| 홍길동|     1|\n",
      "| 임꺽정|     3|\n",
      "| 이순신|     2|\n",
      "|김철수1|     5|\n",
      "| 김철수|     3|\n",
      "+-------+------+\n",
      "\n"
     ]
    }
   ],
   "source": [
    "sqlCtx.sql( 'select * from my order by name desc ' ).show()"
   ]
  },
  {
   "cell_type": "code",
   "execution_count": 54,
   "metadata": {},
   "outputs": [
    {
     "name": "stdout",
     "output_type": "stream",
     "text": [
      "+------+------+\n",
      "|  name|deptid|\n",
      "+------+------+\n",
      "|홍길동|     1|\n",
      "|임꺽정|     3|\n",
      "+------+------+\n",
      "\n"
     ]
    }
   ],
   "source": [
    "sqlCtx.sql( 'select * from my order by name desc limit 2' ).show()"
   ]
  },
  {
   "cell_type": "markdown",
   "metadata": {},
   "source": [
    "## 집계관련 함수\n",
    "- max, min, avg, sum, count"
   ]
  },
  {
   "cell_type": "code",
   "execution_count": 56,
   "metadata": {},
   "outputs": [
    {
     "name": "stdout",
     "output_type": "stream",
     "text": [
      "+--------+\n",
      "|count(1)|\n",
      "+--------+\n",
      "|       5|\n",
      "+--------+\n",
      "\n"
     ]
    }
   ],
   "source": [
    "sqlCtx.sql( 'select count(*) from my' ).show()"
   ]
  },
  {
   "cell_type": "code",
   "execution_count": 57,
   "metadata": {},
   "outputs": [
    {
     "name": "stdout",
     "output_type": "stream",
     "text": [
      "+-----------+\n",
      "|max(deptid)|\n",
      "+-----------+\n",
      "|          5|\n",
      "+-----------+\n",
      "\n"
     ]
    }
   ],
   "source": [
    "sqlCtx.sql( 'select max(deptid) from my' ).show()"
   ]
  },
  {
   "cell_type": "code",
   "execution_count": 66,
   "metadata": {},
   "outputs": [
    {
     "data": {
      "text/html": [
       "<div>\n",
       "<style scoped>\n",
       "    .dataframe tbody tr th:only-of-type {\n",
       "        vertical-align: middle;\n",
       "    }\n",
       "\n",
       "    .dataframe tbody tr th {\n",
       "        vertical-align: top;\n",
       "    }\n",
       "\n",
       "    .dataframe thead th {\n",
       "        text-align: right;\n",
       "    }\n",
       "</style>\n",
       "<table border=\"1\" class=\"dataframe\">\n",
       "  <thead>\n",
       "    <tr style=\"text-align: right;\">\n",
       "      <th></th>\n",
       "      <th>sum(deptid)</th>\n",
       "      <th>avg(deptid)</th>\n",
       "      <th>avg(deptid)</th>\n",
       "    </tr>\n",
       "  </thead>\n",
       "  <tbody>\n",
       "    <tr>\n",
       "      <th>0</th>\n",
       "      <td>14</td>\n",
       "      <td>2.8</td>\n",
       "      <td>2.8</td>\n",
       "    </tr>\n",
       "  </tbody>\n",
       "</table>\n",
       "</div>"
      ],
      "text/plain": [
       "   sum(deptid)  avg(deptid)  avg(deptid)\n",
       "0           14          2.8          2.8"
      ]
     },
     "execution_count": 66,
     "metadata": {},
     "output_type": "execute_result"
    }
   ],
   "source": [
    "sqlCtx.sql( 'select sum(deptid), avg(deptid), mean(deptid) from my' ).toPandas()"
   ]
  },
  {
   "cell_type": "code",
   "execution_count": 69,
   "metadata": {},
   "outputs": [
    {
     "name": "stdout",
     "output_type": "stream",
     "text": [
      "+--------+\n",
      "|count(1)|\n",
      "+--------+\n",
      "|       5|\n",
      "+--------+\n",
      "\n"
     ]
    }
   ],
   "source": [
    "# 전체 row의 개수( 결측치를 제외하고 )\n",
    "sqlCtx.sql( 'select count(*) from my' ).show()"
   ]
  },
  {
   "cell_type": "code",
   "execution_count": 71,
   "metadata": {},
   "outputs": [
    {
     "name": "stdout",
     "output_type": "stream",
     "text": [
      "+-----------+-----------+\n",
      "|avg(deptid)|sum(deptid)|\n",
      "+-----------+-----------+\n",
      "|        2.8|         14|\n",
      "+-----------+-----------+\n",
      "\n"
     ]
    }
   ],
   "source": [
    "sqlCtx.sql( 'select mean(deptid), sum(deptid) from my' ).show()"
   ]
  },
  {
   "cell_type": "markdown",
   "metadata": {},
   "source": [
    "## 연산\n",
    "- element wise\n",
    "    - 요소별 연산"
   ]
  },
  {
   "cell_type": "code",
   "execution_count": 73,
   "metadata": {},
   "outputs": [
    {
     "name": "stdout",
     "output_type": "stream",
     "text": [
      "+------+\n",
      "|deptid|\n",
      "+------+\n",
      "|     1|\n",
      "|     2|\n",
      "|     3|\n",
      "|     3|\n",
      "|     5|\n",
      "+------+\n",
      "\n"
     ]
    }
   ],
   "source": [
    "sqlCtx.sql( 'select deptid from my' ).show()"
   ]
  },
  {
   "cell_type": "code",
   "execution_count": 78,
   "metadata": {},
   "outputs": [
    {
     "name": "stdout",
     "output_type": "stream",
     "text": [
      "+----+\n",
      "|yaaa|\n",
      "+----+\n",
      "|   2|\n",
      "|   4|\n",
      "|   6|\n",
      "|   6|\n",
      "|  10|\n",
      "+----+\n",
      "\n"
     ]
    }
   ],
   "source": [
    "sqlCtx.sql( \"select deptid*2 as yaaa from my\" ).show()"
   ]
  },
  {
   "cell_type": "markdown",
   "metadata": {},
   "source": [
    "## sql으로 정규식 사용\n",
    "- db마다 별도의 정규식 존재\n",
    "- hive ql을 이용해보겠다"
   ]
  },
  {
   "cell_type": "code",
   "execution_count": 43,
   "metadata": {},
   "outputs": [
    {
     "name": "stdout",
     "output_type": "stream",
     "text": [
      "+-------+------+\n",
      "|   name|deptid|\n",
      "+-------+------+\n",
      "| 김철수|     3|\n",
      "|김철수1|     5|\n",
      "+-------+------+\n",
      "\n"
     ]
    }
   ],
   "source": [
    "sqlCtx.sql( 'select * from my where name rlike \"^김\" ' ).show() # 김으로 시작하는 단어"
   ]
  },
  {
   "cell_type": "code",
   "execution_count": 46,
   "metadata": {},
   "outputs": [
    {
     "name": "stdout",
     "output_type": "stream",
     "text": [
      "+------+------+\n",
      "|  name|deptid|\n",
      "+------+------+\n",
      "|김철수|     3|\n",
      "+------+------+\n",
      "\n"
     ]
    }
   ],
   "source": [
    "sqlCtx.sql( 'select * from my where name rlike \"수$\" ' ).show() # 수로 끝나는 단어"
   ]
  },
  {
   "cell_type": "code",
   "execution_count": 47,
   "metadata": {},
   "outputs": [
    {
     "name": "stdout",
     "output_type": "stream",
     "text": [
      "+-------+------+\n",
      "|   name|deptid|\n",
      "+-------+------+\n",
      "| 임꺽정|     3|\n",
      "| 김철수|     3|\n",
      "|김철수1|     5|\n",
      "+-------+------+\n",
      "\n"
     ]
    }
   ],
   "source": [
    "sqlCtx.sql( 'select * from my where name rlike \"[김|정]\" ' ).show() # 김or정이 있는 단어"
   ]
  },
  {
   "cell_type": "markdown",
   "metadata": {},
   "source": [
    "## 연습문제"
   ]
  },
  {
   "cell_type": "markdown",
   "metadata": {},
   "source": [
    "- 0. name salary 컬럼명을 가지는 데이터프레임을 만드시요.\n",
    "- 1. 급여가 가장높은 name과 salary를 출력하시요\n",
    "- 2. name, salary, tax 를 출력하시요 (tax는 급여에서 세금 3.3을 제한값)\n",
    "- 3. name 에 '철'이 포함된  name,salary 를 출력하시요\n",
    "- 4. salary top 5 인 name, salary 출력하시요\n",
    "- 5. salary  2000  과 4000 사이의 데이터를 출력하시요"
   ]
  },
  {
   "cell_type": "code",
   "execution_count": 117,
   "metadata": {},
   "outputs": [
    {
     "name": "stdout",
     "output_type": "stream",
     "text": [
      "+------+------+\n",
      "|  name|salary|\n",
      "+------+------+\n",
      "|홍길동|  1000|\n",
      "|이순신|  2000|\n",
      "|임꺽정|  3000|\n",
      "|김철수|  4000|\n",
      "|  이황|  5000|\n",
      "|  이이|  6000|\n",
      "+------+------+\n",
      "\n"
     ]
    }
   ],
   "source": [
    "data1 = ['홍길동,1000','이순신,2000','임꺽정,3000',\n",
    "         '김철수,4000','이황,5000','이이,6000']\n",
    "\n",
    "# RDD로 변경\n",
    "rdd = sc.parallelize( data1 )\n",
    "\n",
    "# 리스트에 튜플 형태로 변경\n",
    "rdd2 = rdd.map( lambda v: v.split(',') ).map( lambda v: (v[0], int(v[1]) ) )\n",
    "\n",
    "# 데이터 프레임으로 변경5\n",
    "df = rdd2.toDF()\n",
    "# df.show()\n",
    "\n",
    "# 컬럼명 지정\n",
    "df = sqlCtx.createDataFrame( rdd2, ['name','salary'] ) # 컬럼명을 설정하는 것\n",
    "df.show()\n",
    "\n",
    "# 데이터 프레임 이름 지정\n",
    "df.createOrReplaceTempView( 'df' ) "
   ]
  },
  {
   "cell_type": "code",
   "execution_count": 119,
   "metadata": {},
   "outputs": [
    {
     "name": "stdout",
     "output_type": "stream",
     "text": [
      "root\n",
      " |-- name: string (nullable = true)\n",
      " |-- salary: long (nullable = true)\n",
      "\n"
     ]
    }
   ],
   "source": [
    "df.printSchema()"
   ]
  },
  {
   "cell_type": "code",
   "execution_count": null,
   "metadata": {},
   "outputs": [],
   "source": [
    "## 풀이 정리 ##\n",
    "\n",
    "# 1번\n",
    "sql = \" select max(salary) from df\"\n",
    "sqlDF = sqlCtx.sql( sql )\n",
    "sqlDF.show() # max값 구하기 = 6000\n",
    "\n",
    "sql = \" select * from df where salary == 6000 \"\n",
    "sqlDF = sqlCtx.sql( sql )\n",
    "sqlDF.show()\n",
    "\n",
    "# 2번 \n",
    "sql = 'select name, salary, salary*(1-0.033) as tax from df'\n",
    "sqlDF = sqlCtx.sql( sql )\n",
    "sqlDF.show()\n",
    "\n",
    "# 3번\n",
    "sql = \" select name, salary from df where name like '%철%' \"\n",
    "sqlDF = sqlCtx.sql( sql )\n",
    "sqlDF.show()\n",
    "\n",
    "# 4번\n",
    "sql = \" select name, salary from df order by salary desc limit 5\"\n",
    "sqlDF = sqlCtx.sql( sql )ㅈ\n",
    "sqlDF.show()\n",
    "\n",
    "# 5번\n",
    "sql = \" select name, salary from df where salary between 2000 and 4000\"\n",
    "sqlDF = sqlCtx.sql( sql )\n",
    "sqlDF.show()"
   ]
  },
  {
   "cell_type": "markdown",
   "metadata": {},
   "source": [
    "### 1. 급여가 가장높은 name과 salary를 출력하시요\n",
    "- subquerry 사용\n",
    "- order by desc 후 limt 1\n",
    "- 직접 구하고 그 값과 같은 값을 출력"
   ]
  },
  {
   "cell_type": "code",
   "execution_count": 142,
   "metadata": {},
   "outputs": [
    {
     "name": "stdout",
     "output_type": "stream",
     "text": [
      "+----+------+\n",
      "|name|salary|\n",
      "+----+------+\n",
      "|이이|  6000|\n",
      "+----+------+\n",
      "\n"
     ]
    }
   ],
   "source": [
    "sql = \" select * from df where salary == ( select max(salary) from df )\"\n",
    "sqlDF = sqlCtx.sql( sql )\n",
    "sqlDF.show()"
   ]
  },
  {
   "cell_type": "code",
   "execution_count": 145,
   "metadata": {},
   "outputs": [
    {
     "name": "stdout",
     "output_type": "stream",
     "text": [
      "+----+------+\n",
      "|name|salary|\n",
      "+----+------+\n",
      "|이이|  6000|\n",
      "+----+------+\n",
      "\n"
     ]
    }
   ],
   "source": [
    "sql = \" select * from df order by salary desc limit 1\"\n",
    "sqlDF = sqlCtx.sql( sql )\n",
    "sqlDF.show()"
   ]
  },
  {
   "cell_type": "code",
   "execution_count": 137,
   "metadata": {},
   "outputs": [
    {
     "name": "stdout",
     "output_type": "stream",
     "text": [
      "+-----------+\n",
      "|max(salary)|\n",
      "+-----------+\n",
      "|       6000|\n",
      "+-----------+\n",
      "\n"
     ]
    }
   ],
   "source": [
    "sql = \" select max(salary) from df\"\n",
    "sqlDF = sqlCtx.sql( sql )\n",
    "sqlDF.show()"
   ]
  },
  {
   "cell_type": "code",
   "execution_count": 141,
   "metadata": {},
   "outputs": [
    {
     "name": "stdout",
     "output_type": "stream",
     "text": [
      "+----+------+\n",
      "|name|salary|\n",
      "+----+------+\n",
      "|이이|  6000|\n",
      "+----+------+\n",
      "\n"
     ]
    }
   ],
   "source": [
    "sql = \" select * from df where salary == 6000 \"\n",
    "sqlDF = sqlCtx.sql( sql )\n",
    "sqlDF.show()"
   ]
  },
  {
   "cell_type": "markdown",
   "metadata": {},
   "source": [
    "### 2. name, salary, tax 를 출력하시요 (tax는 급여에서 세금 3.3%을 제한값)"
   ]
  },
  {
   "cell_type": "code",
   "execution_count": 120,
   "metadata": {},
   "outputs": [
    {
     "name": "stdout",
     "output_type": "stream",
     "text": [
      "+------+------+--------+\n",
      "|  name|salary|     tax|\n",
      "+------+------+--------+\n",
      "|홍길동|  1000| 967.000|\n",
      "|이순신|  2000|1934.000|\n",
      "|임꺽정|  3000|2901.000|\n",
      "|김철수|  4000|3868.000|\n",
      "|  이황|  5000|4835.000|\n",
      "|  이이|  6000|5802.000|\n",
      "+------+------+--------+\n",
      "\n"
     ]
    }
   ],
   "source": [
    "sql = 'select name, salary, salary*(1-0.033) as tax from df'\n",
    "sqlDF = sqlCtx.sql( sql )\n",
    "sqlDF.show()"
   ]
  },
  {
   "cell_type": "markdown",
   "metadata": {},
   "source": [
    "### 3. name 에 '철'이 포함된  name,salary 를 출력하시요"
   ]
  },
  {
   "cell_type": "code",
   "execution_count": 121,
   "metadata": {},
   "outputs": [
    {
     "name": "stdout",
     "output_type": "stream",
     "text": [
      "+------+------+\n",
      "|  name|salary|\n",
      "+------+------+\n",
      "|김철수|  4000|\n",
      "+------+------+\n",
      "\n"
     ]
    }
   ],
   "source": [
    "sql = \" select name, salary from df where name like '%철%' \"\n",
    "sqlDF = sqlCtx.sql( sql )\n",
    "sqlDF.show()"
   ]
  },
  {
   "cell_type": "markdown",
   "metadata": {},
   "source": [
    "### 4. salary top 5 인 name, salary 출력하시요"
   ]
  },
  {
   "cell_type": "code",
   "execution_count": 123,
   "metadata": {},
   "outputs": [
    {
     "name": "stdout",
     "output_type": "stream",
     "text": [
      "+------+------+\n",
      "|  name|salary|\n",
      "+------+------+\n",
      "|  이이|  6000|\n",
      "|  이황|  5000|\n",
      "|김철수|  4000|\n",
      "|임꺽정|  3000|\n",
      "|이순신|  2000|\n",
      "+------+------+\n",
      "\n"
     ]
    }
   ],
   "source": [
    "sql = \" select name, salary from df order by salary desc limit 5\"\n",
    "sqlDF = sqlCtx.sql( sql )\n",
    "sqlDF.show()"
   ]
  },
  {
   "cell_type": "markdown",
   "metadata": {},
   "source": [
    "### 5. salary  2000  과 4000 사이의 데이터를 출력하시요"
   ]
  },
  {
   "cell_type": "code",
   "execution_count": 124,
   "metadata": {},
   "outputs": [
    {
     "name": "stdout",
     "output_type": "stream",
     "text": [
      "+------+------+\n",
      "|  name|salary|\n",
      "+------+------+\n",
      "|이순신|  2000|\n",
      "|임꺽정|  3000|\n",
      "|김철수|  4000|\n",
      "+------+------+\n",
      "\n"
     ]
    }
   ],
   "source": [
    "sql = \" select name, salary from df where salary between 2000 and 4000\"\n",
    "sqlDF = sqlCtx.sql( sql )\n",
    "sqlDF.show()"
   ]
  },
  {
   "cell_type": "markdown",
   "metadata": {},
   "source": [
    "# 서브쿼리"
   ]
  },
  {
   "cell_type": "code",
   "execution_count": 155,
   "metadata": {},
   "outputs": [
    {
     "name": "stdout",
     "output_type": "stream",
     "text": [
      "+------+------+\n",
      "|  name|salary|\n",
      "+------+------+\n",
      "|홍길동|  1000|\n",
      "|이순신|  2000|\n",
      "|임꺽정|  3000|\n",
      "|김철수|  4000|\n",
      "|  이황|  5000|\n",
      "|  이이|  6000|\n",
      "+------+------+\n",
      "\n"
     ]
    }
   ],
   "source": [
    "data1 = ['홍길동,1000','이순신,2000','임꺽정,3000',\n",
    "         '김철수,4000','이황,5000','이이,6000']\n",
    "\n",
    "# RDD로 변경\n",
    "rdd = sc.parallelize( data1 )\n",
    "\n",
    "# 리스트에 튜플 형태로 변경\n",
    "rdd2 = rdd.map( lambda v: v.split(',') ).map( lambda v: (v[0], int(v[1]) ) )\n",
    "\n",
    "# 데이터 프레임으로 변경\n",
    "df = sqlCtx.createDataFrame( rdd2 , ['name','salary'] ) # 컬럼명을 설정\n",
    "\n",
    "# 데이터 프레임 이름 지정\n",
    "df.createOrReplaceTempView( 'emp' ) \n",
    "\n",
    "df.show()"
   ]
  },
  {
   "cell_type": "code",
   "execution_count": 157,
   "metadata": {},
   "outputs": [
    {
     "name": "stdout",
     "output_type": "stream",
     "text": [
      "+------+------+\n",
      "|  name|salary|\n",
      "+------+------+\n",
      "|홍길동|  1000|\n",
      "|이순신|  2000|\n",
      "|임꺽정|  3000|\n",
      "|김철수|  4000|\n",
      "|  이황|  5000|\n",
      "|  이이|  6000|\n",
      "+------+------+\n",
      "\n"
     ]
    }
   ],
   "source": [
    "sqlCtx.sql( 'select * from emp').show()"
   ]
  },
  {
   "cell_type": "markdown",
   "metadata": {},
   "source": [
    "- limit로 추출하면 중복된 데이터 필터링을 못한다\n",
    "- 따라서 서브쿼리를 이용해서 max(salary) 값 구한다"
   ]
  },
  {
   "cell_type": "code",
   "execution_count": 168,
   "metadata": {},
   "outputs": [
    {
     "name": "stdout",
     "output_type": "stream",
     "text": [
      "+----+------+\n",
      "|name|salary|\n",
      "+----+------+\n",
      "|이이|  6000|\n",
      "+----+------+\n",
      "\n"
     ]
    }
   ],
   "source": [
    "sqlCtx.sql( 'select * from emp where salary == (select max(salary) from emp)').show()"
   ]
  },
  {
   "cell_type": "markdown",
   "metadata": {},
   "source": [
    "# 조건별(표준)\n",
    "- case when then\n",
    "- **콤마** 꼭 필요\n",
    "            select * , \n",
    "            case\n",
    "                when 조건 then 표현\n",
    "                when 조건 then 표현\n",
    "                ...\n",
    "            end as '어떤 컬럼명으로 출력할건지'\n",
    "            from DataFrame\n",
    "    \n"
   ]
  },
  {
   "cell_type": "code",
   "execution_count": 165,
   "metadata": {},
   "outputs": [
    {
     "name": "stdout",
     "output_type": "stream",
     "text": [
      "+------+------+----+\n",
      "|  name|salary| sal|\n",
      "+------+------+----+\n",
      "|홍길동|  1000|적음|\n",
      "|이순신|  2000|보통|\n",
      "|임꺽정|  3000|보통|\n",
      "|김철수|  4000|많음|\n",
      "|  이황|  5000|많음|\n",
      "|  이이|  6000|많음|\n",
      "+------+------+----+\n",
      "\n"
     ]
    }
   ],
   "source": [
    "sqlCtx.sql( '''\n",
    "               select name, salary,\n",
    "               case\n",
    "                   when salary >= 4000 then '많음'\n",
    "                   when salary >= 2000 then '보통'\n",
    "                   else '적음'\n",
    "               end as sal\n",
    "               from emp\n",
    "           '''\n",
    "          ).show()"
   ]
  },
  {
   "cell_type": "markdown",
   "metadata": {},
   "source": [
    "# HIve ql 함수\n",
    "- HIVE ql 함수\n",
    "    - https://rfriend.tistory.com/213\n",
    "    - https://docs.microsoft.com/ko-kr/azure/hdinsight/hadoop/hdinsight-use-hive\n",
    "    \n",
    "- spark sql : hive ql 의 sql문법과 함수를 따른다\n",
    "    - 표준 sql\n",
    "        - https://www.w3schools.com/sql/\n",
    "    - spark sql 함수 \n",
    "        - https://rfriend.tistory.com/213\n",
    "        - https://spark.apache.org/docs/latest/api/sql/index.html\n"
   ]
  },
  {
   "cell_type": "markdown",
   "metadata": {},
   "source": [
    "### round()"
   ]
  },
  {
   "cell_type": "code",
   "execution_count": 174,
   "metadata": {},
   "outputs": [
    {
     "name": "stdout",
     "output_type": "stream",
     "text": [
      "+------+------+-------+\n",
      "|  name|salary|    tax|\n",
      "+------+------+-------+\n",
      "|홍길동|  1000| 967.00|\n",
      "|이순신|  2000|1934.00|\n",
      "|임꺽정|  3000|2901.00|\n",
      "|김철수|  4000|3868.00|\n",
      "|  이황|  5000|4835.00|\n",
      "|  이이|  6000|5802.00|\n",
      "+------+------+-------+\n",
      "\n"
     ]
    }
   ],
   "source": [
    "sqlCtx.sql( 'select name, salary ,round(salary*(1-0.033), 2) as tax from emp').show()"
   ]
  },
  {
   "cell_type": "markdown",
   "metadata": {},
   "source": [
    "### substr()"
   ]
  },
  {
   "cell_type": "code",
   "execution_count": 179,
   "metadata": {},
   "outputs": [
    {
     "name": "stdout",
     "output_type": "stream",
     "text": [
      "+----+------+------+\n",
      "|name|salary|   tax|\n",
      "+----+------+------+\n",
      "|길동|  1000| 967.0|\n",
      "|순신|  2000|1934.0|\n",
      "|꺽정|  3000|2901.0|\n",
      "|철수|  4000|3868.0|\n",
      "|  황|  5000|4835.0|\n",
      "|  이|  6000|5802.0|\n",
      "+----+------+------+\n",
      "\n"
     ]
    }
   ],
   "source": [
    "sqlCtx.sql( 'select substr( name,2) as name, salary ,round(salary*(1-0.033), 1) as tax from emp').show()"
   ]
  },
  {
   "cell_type": "markdown",
   "metadata": {},
   "source": [
    "### stddev_samp()\n",
    "- 표준편차"
   ]
  },
  {
   "cell_type": "code",
   "execution_count": 184,
   "metadata": {},
   "outputs": [
    {
     "name": "stdout",
     "output_type": "stream",
     "text": [
      "+-------------------+\n",
      "|standard_deviataion|\n",
      "+-------------------+\n",
      "| 1870.8286933869706|\n",
      "+-------------------+\n",
      "\n"
     ]
    }
   ],
   "source": [
    "sqlCtx.sql( 'select stddev_samp(salary) as standard_deviataion from emp').show()"
   ]
  },
  {
   "cell_type": "markdown",
   "metadata": {},
   "source": [
    "### percentile()"
   ]
  },
  {
   "cell_type": "code",
   "execution_count": 194,
   "metadata": {
    "scrolled": false
   },
   "outputs": [
    {
     "name": "stdout",
     "output_type": "stream",
     "text": [
      "+------+------+\n",
      "|  q0_5| q0_75|\n",
      "+------+------+\n",
      "|3500.0|4750.0|\n",
      "+------+------+\n",
      "\n"
     ]
    }
   ],
   "source": [
    "sqlCtx.sql( 'select percentile(salary, 0.5) as q0_5 , percentile(salary, 0.75) as q0_75 from emp').show()"
   ]
  }
 ],
 "metadata": {
  "kernelspec": {
   "display_name": "Python 3",
   "language": "python",
   "name": "python3"
  },
  "language_info": {
   "codemirror_mode": {
    "name": "ipython",
    "version": 3
   },
   "file_extension": ".py",
   "mimetype": "text/x-python",
   "name": "python",
   "nbconvert_exporter": "python",
   "pygments_lexer": "ipython3",
   "version": "3.7.6"
  }
 },
 "nbformat": 4,
 "nbformat_minor": 4
}
