{
 "cells": [
  {
   "cell_type": "markdown",
   "metadata": {},
   "source": [
    "Jan 13 ,Wen, 2021 "
   ]
  },
  {
   "cell_type": "markdown",
   "metadata": {},
   "source": [
    "<누구나 파이썬 통계분석>"
   ]
  },
  {
   "cell_type": "markdown",
   "metadata": {},
   "source": [
    "## 통계관련 라이브러리\n",
    "- statsmodels\n",
    "- scipy"
   ]
  },
  {
   "cell_type": "markdown",
   "metadata": {
    "school_cell_uuid": "104f18d9c66d47e69ba9940e75d41777"
   },
   "source": [
    "## 사이파이를 이용한 확률분포"
   ]
  },
  {
   "cell_type": "markdown",
   "metadata": {
    "school_cell_uuid": "4267cbde23f44c3391fd7b361dee2488"
   },
   "source": [
    "사이파이(SciPy)는 수치해석기능을 제공하는 파이썬 패키지다. 여러 서브패키지로 구성되어 있는데 그중 stats 서브패키지는 확률분포 분석을 위한 다양한 기능을 제공한다. 다음 코드로 임포트한다."
   ]
  },
  {
   "cell_type": "code",
   "execution_count": 1,
   "metadata": {},
   "outputs": [],
   "source": [
    "import scipy as sp\n",
    "import scipy.stats"
   ]
  },
  {
   "cell_type": "markdown",
   "metadata": {
    "school_cell_uuid": "f7c77645e3ec4b019cdb2b6a6e6a49d8"
   },
   "source": [
    "### 확률분포 클래스"
   ]
  },
  {
   "cell_type": "markdown",
   "metadata": {
    "school_cell_uuid": "010e204faf9045a88a57a50c5e5adcd7"
   },
   "source": [
    "사이파이에서 확률분포 기능을 사용하려면 우선 해당 확률분포에 대한 확률분포 클래스 객체를 생성한 후에 이 객체의 메서드를 호출해야 한다.\n",
    "\n",
    "확률분포 객체를 생성하는 명령에는 다음과 같은 것들이 있다. \n",
    "\n",
    " \n",
    "| 종류 | 명령 | 확률분포 |\n",
    "|-|-|-|\n",
    "| 이산 | `bernoulli` | 베르누이분포 |\n",
    "| 이산 | `binom` |  이항분포 |\n",
    "| 이산 | `multinomial` |  다항분포 |\n",
    "| 연속 | `uniform` | 균일분포 |\n",
    "| 연속 | `norm` | 정규분포 |\n",
    "| 연속 | `beta` | 베타분포 |\n",
    "| 연속 | `gamma` | 감마분포 |\n",
    "| 연속 | `t` | 스튜던트 t분포 |\n",
    "| 연속 | `chi2` | 카이 제곱분포 |\n",
    "| 연속 | `f` | F분포 |\n",
    "| 연속 | `dirichlet` | 디리클리분포 |\n",
    "| 연속 | `multivariate_normal` | 다변수 정규분포 |\n",
    "\n",
    "\n",
    "이 명령들은 모두 stats 서브패키지에 포함되어 있다. 예를 들어 정규분포 객체는 다음과 같이 생성한다."
   ]
  },
  {
   "cell_type": "code",
   "execution_count": 2,
   "metadata": {
    "school_cell_uuid": "0d32d4419aca4c7d96c8b8e171e0895b"
   },
   "outputs": [],
   "source": [
    "rv = sp.stats.norm()"
   ]
  },
  {
   "cell_type": "markdown",
   "metadata": {
    "school_cell_uuid": "52d2498142b748f39ee24980e136d015"
   },
   "source": [
    "### 모수 지정"
   ]
  },
  {
   "cell_type": "markdown",
   "metadata": {
    "school_cell_uuid": "d1d7a2a0a2ea480988c357a678867363"
   },
   "source": [
    "확률분포 객체를 생성할 때는 분포의 형상을 구체적으로 지정하는 **모수(parameter)**를 인수로 주어야 한다. 각 확률분포마다 설정할 모수가 다르므로 자세한 설명은 사이파이 문서를 참조한다. 하지만 대부분 다음과 같은 모수를 공통적으로 가진다.\n",
    "\n",
    "| 인수(모수) 이름 | 의미 |\n",
    "|-|-|\n",
    "| `loc` | 일반적으로 분포의 기댓값 |\n",
    "| `scale` |  일반적으로 분포의 표준편차 | "
   ]
  },
  {
   "cell_type": "markdown",
   "metadata": {
    "school_cell_uuid": "1cce186095444bf1bf964bb8a38b752e"
   },
   "source": [
    "예를 들어 기댓값이 1이고 표준 편차가 2인 정규분포 객체는 다음과 같이 생성한다."
   ]
  },
  {
   "cell_type": "code",
   "execution_count": 3,
   "metadata": {
    "school_cell_uuid": "e264ca4f289d4d97889912cd2a28b694"
   },
   "outputs": [],
   "source": [
    "rv = sp.stats.norm(loc=1, scale=2)"
   ]
  },
  {
   "cell_type": "markdown",
   "metadata": {
    "school_cell_uuid": "90cf5d04e23c4c68a912fad17121e948"
   },
   "source": [
    "### 확률분포 메서드"
   ]
  },
  {
   "cell_type": "markdown",
   "metadata": {
    "school_cell_uuid": "3a17ab09190d49d8b9af1859b364c5fa"
   },
   "source": [
    "확률분포 객체가 가지는 메서드는 다음과 같다.\n",
    "\n",
    "\n",
    "| 메서드 | 기능 |\n",
    "|-|-|\n",
    "| `pmf` | 확률질량함수(probability mass function) |\n",
    "| `pdf` | 확률밀도함수(probability density function) |\n",
    "| `cdf` | 누적분포함수(cumulative distribution function)  |\n",
    "| `ppf` | 누적분포함수의 역함수(inverse cumulative distribution function)  |\n",
    "| `sf` | 생존함수(survival function) = 1 - 누적분포함수  |\n",
    "| `isf` | 생존함수의 역함수(inverse survival function)  |\n",
    "| `rvs` | 랜덤 표본 생성(random variable sampling)    |\n",
    "\n",
    "\n",
    "각 메서드 사용법은 다음과 같다."
   ]
  }
 ],
 "metadata": {
  "kernelspec": {
   "display_name": "Python 3",
   "language": "python",
   "name": "python3"
  },
  "language_info": {
   "codemirror_mode": {
    "name": "ipython",
    "version": 3
   },
   "file_extension": ".py",
   "mimetype": "text/x-python",
   "name": "python",
   "nbconvert_exporter": "python",
   "pygments_lexer": "ipython3",
   "version": "3.7.6"
  },
  "toc": {
   "base_numbering": 1,
   "nav_menu": {},
   "number_sections": false,
   "sideBar": true,
   "skip_h1_title": false,
   "title_cell": "Table of Contents",
   "title_sidebar": "Contents",
   "toc_cell": false,
   "toc_position": {},
   "toc_section_display": true,
   "toc_window_display": false
  }
 },
 "nbformat": 4,
 "nbformat_minor": 1
}
