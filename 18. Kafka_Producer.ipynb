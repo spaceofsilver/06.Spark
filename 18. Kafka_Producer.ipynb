{
 "cells": [
  {
   "cell_type": "markdown",
   "metadata": {},
   "source": [
    "Jan 12 2021 (Tue)"
   ]
  },
  {
   "cell_type": "markdown",
   "metadata": {},
   "source": [
    "# Kafka 서버 start\n",
    "- 원래 리눅스용!\n",
    "    - kakfa설치 위치를 **root경로**로 주기\n",
    "    - 경로가 길어지면 인식을 못하는 경우가 있음<br>\n",
    "<br>\n",
    "    - kafka_2.12-2.7.0\n",
    "        - zookeeper : 카프카 서버 관리(중재)\n",
    "            - bin\\windows\\\n",
    "            - zookeeper-server-start.bat zookeeper.properties\n",
    "        - kafka : 실시간 통신\n",
    "            - bin\\windows\\\n",
    "            - kafka-server-start.bat server.properties"
   ]
  },
  {
   "cell_type": "code",
   "execution_count": null,
   "metadata": {},
   "outputs": [],
   "source": [
    "!pip install kafka-python"
   ]
  },
  {
   "cell_type": "markdown",
   "metadata": {},
   "source": [
    "# 통신\n",
    "- octet( byte )기준 통신\n",
    "- 통신의 기본단위 옥텟<br>\n",
    "<br>\n",
    "- app <----**시리얼 통신**(send, receive)---> **장비**( 헤드셋, 스피커, ... )\n",
    "    \n",
    "- app <----**소켓 통신**----> 서버"
   ]
  },
  {
   "cell_type": "code",
   "execution_count": null,
   "metadata": {},
   "outputs": [],
   "source": [
    "s = 'hello'  # 문자열( 문자 하나 사이즈 2 byte ) -> 통신은 1 byte단위임\n",
    "b = b'hello' # 따라서 b를 붙여서 바이트로 바꿔줌\n",
    "# or\n",
    "s1 = s.encode()\n",
    "print( type(b), type(s1) )\n",
    "print( b[0] ) # 아스키코드값(104)\n",
    "\n",
    "# send ( str -> byte로 변환 )\n",
    "# receive ( bytes -> str으로 변환)\n",
    "b1 = b.decode()\n",
    "print(type(b1))"
   ]
  },
  {
   "cell_type": "code",
   "execution_count": null,
   "metadata": {},
   "outputs": [],
   "source": [
    "from kafka import KafkaProducer\n",
    "import time"
   ]
  },
  {
   "cell_type": "markdown",
   "metadata": {},
   "source": [
    "# producer\n",
    "- **bootstrap_servers** -> 디폴트 서버 9092\n",
    "- send시 보내는 값\n",
    "    - **topic, key, value**\n",
    "    - 이때 key는 바이트 타입이어야 한다\n",
    "        - encode()\n",
    "        - b'text'"
   ]
  },
  {
   "cell_type": "code",
   "execution_count": null,
   "metadata": {},
   "outputs": [],
   "source": [
    "producer= KafkaProducer(bootstrap_servers=['localhost:9092'],\n",
    "                       api_version=(0,10) )\n",
    "\n",
    "# sample이라는 토픽(주제)로 키값과 밸류값을 보낸다.\n",
    "producer.send('sample',key=b'one', value=b'one data')\n",
    "producer.send('sample',key=b'two', value=b'two data')\n",
    "producer.send('sample',key=b'three', value=b'three data')\n",
    "producer.flush()\n",
    "print(\"success\")\n",
    "time.sleep(3)# 3초간 대기 (X)"
   ]
  }
 ],
 "metadata": {
  "kernelspec": {
   "display_name": "Python 3",
   "language": "python",
   "name": "python3"
  },
  "language_info": {
   "codemirror_mode": {
    "name": "ipython",
    "version": 3
   },
   "file_extension": ".py",
   "mimetype": "text/x-python",
   "name": "python",
   "nbconvert_exporter": "python",
   "pygments_lexer": "ipython3",
   "version": "3.7.6"
  }
 },
 "nbformat": 4,
 "nbformat_minor": 4
}
