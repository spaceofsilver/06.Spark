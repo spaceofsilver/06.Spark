{
 "cells": [
  {
   "cell_type": "markdown",
   "metadata": {},
   "source": [
    "Jan 11, 2021"
   ]
  },
  {
   "cell_type": "code",
   "execution_count": 5,
   "metadata": {},
   "outputs": [],
   "source": [
    "from pyspark import SparkContext\n",
    "from pyspark.sql import SQLContext, Row\n",
    "import pandas as pd\n",
    "import numpy as np\n",
    "\n",
    "from pyspark.sql.functions import when, udf, col, regexp_extract, regexp_replace\n",
    "from pyspark.sql.types import DoubleType,IntegerType, StringType\n",
    "\n",
    "# 스파크 통계\n",
    "import pyspark.sql.functions as F"
   ]
  },
  {
   "cell_type": "code",
   "execution_count": 2,
   "metadata": {},
   "outputs": [],
   "source": [
    "sc = SparkContext( 'local' ) \n",
    "sqlCtx = SQLContext( sc )"
   ]
  },
  {
   "cell_type": "code",
   "execution_count": 3,
   "metadata": {
    "scrolled": true
   },
   "outputs": [
    {
     "name": "stdout",
     "output_type": "stream",
     "text": [
      "+----+--------------------+\n",
      "|  ID|               Notes|\n",
      "+----+--------------------+\n",
      "|2345|     Checked by John|\n",
      "|2398|   Verified by Stacy|\n",
      "|2328|Verified by Srini...|\n",
      "|3983|Double Checked on...|\n",
      "+----+--------------------+\n",
      "\n"
     ]
    }
   ],
   "source": [
    "data =  [('2345', 'Checked by John'),\n",
    "('2398','Verified by Stacy'),\n",
    "('2328','Verified by Srinivas than some random text'),        \n",
    "('3983','Double Checked on 2/23/17 by Marsha')]\n",
    "df = sc.parallelize(data).toDF(['ID','Notes'] ) # RDD 형성 후 toDF( )로 DataFrame 형성\n",
    "df.show()"
   ]
  },
  {
   "cell_type": "markdown",
   "metadata": {},
   "source": [
    "# 문자열 정규식\n",
    "- rlike\n",
    "- repexp_extract\n",
    "- rexexp_replace"
   ]
  },
  {
   "cell_type": "markdown",
   "metadata": {},
   "source": [
    "# rlike\n",
    "- where절과 함께\n",
    "- 데이터 검색"
   ]
  },
  {
   "cell_type": "code",
   "execution_count": 4,
   "metadata": {},
   "outputs": [
    {
     "name": "stdout",
     "output_type": "stream",
     "text": [
      "+----+---------------+\n",
      "|  ID|          Notes|\n",
      "+----+---------------+\n",
      "|2345|Checked by John|\n",
      "+----+---------------+\n",
      "\n"
     ]
    }
   ],
   "source": [
    "df.where( df['Notes'].rlike('John') ).show()"
   ]
  },
  {
   "cell_type": "markdown",
   "metadata": {},
   "source": [
    "# regexp_extract\n",
    "- withColumn절과 함께\n",
    "- 데이터 추출"
   ]
  },
  {
   "cell_type": "code",
   "execution_count": 6,
   "metadata": {},
   "outputs": [
    {
     "name": "stdout",
     "output_type": "stream",
     "text": [
      "+----+--------------------+-----------+\n",
      "|  ID|               Notes|      fname|\n",
      "+----+--------------------+-----------+\n",
      "|2345|     Checked by John|    by John|\n",
      "|2398|   Verified by Stacy|   by Stacy|\n",
      "|2328|Verified by Srini...|by Srinivas|\n",
      "|3983|Double Checked on...|  by Marsha|\n",
      "+----+--------------------+-----------+\n",
      "\n"
     ]
    }
   ],
   "source": [
    "# withColumn( ) : 컬럼이 있으면 수정 없으면 추가\n",
    "# [] : []안의 문자열 집합 중 하나\n",
    "# + : 1회 이상 반복\n",
    "# 0 : groupnumber = 0은 그룹 넘버를 지정하지 않겠다\n",
    "df.withColumn( 'fname', regexp_extract(df['Notes'], 'by [a-zA-Z]+', 0) ).show()"
   ]
  },
  {
   "cell_type": "markdown",
   "metadata": {},
   "source": [
    "## 그룹 지정"
   ]
  },
  {
   "cell_type": "code",
   "execution_count": 8,
   "metadata": {},
   "outputs": [
    {
     "name": "stdout",
     "output_type": "stream",
     "text": [
      "+----+--------------------+--------+\n",
      "|  ID|               Notes|   fname|\n",
      "+----+--------------------+--------+\n",
      "|2345|     Checked by John|    John|\n",
      "|2398|   Verified by Stacy|   Stacy|\n",
      "|2328|Verified by Srini...|Srinivas|\n",
      "|3983|Double Checked on...|  Marsha|\n",
      "+----+--------------------+--------+\n",
      "\n"
     ]
    }
   ],
   "source": [
    "# ( ): 그룹 지정\n",
    "# (), () : 1번 그룹 2번 그룹\n",
    "# 2개의 그룹 중 1번 그룹만 추출, 2번 그룹만 추출\n",
    "df.withColumn( 'fname', regexp_extract(df['Notes'], '(by) ([a-zA-Z]+)', 2) ).show()"
   ]
  },
  {
   "cell_type": "code",
   "execution_count": 12,
   "metadata": {},
   "outputs": [
    {
     "name": "stdout",
     "output_type": "stream",
     "text": [
      "+----+--------------------+--------------------+\n",
      "|  ID|               Notes|               fname|\n",
      "+----+--------------------+--------------------+\n",
      "|2345|     Checked by John|     Checked by John|\n",
      "|2398|   Verified by Stacy|   Verified by Stacy|\n",
      "|2328|Verified by Srini...|Verified by Srinivas|\n",
      "|3983|Double Checked on...|   2/23/17 by Marsha|\n",
      "+----+--------------------+--------------------+\n",
      "\n"
     ]
    }
   ],
   "source": [
    "# [a-zA-Z0-9_]+: 영소대문자 or 0-9 or _ 가 1회이상 반복\n",
    "df.withColumn( 'fname', regexp_extract(df['Notes'], '([a-zA-Z0-9_/]+) by ([a-zA-Z]+)', 0) ).show()"
   ]
  },
  {
   "cell_type": "code",
   "execution_count": 15,
   "metadata": {},
   "outputs": [
    {
     "name": "stdout",
     "output_type": "stream",
     "text": [
      "+----+--------------------+--------------------+\n",
      "|  ID|               Notes|               fname|\n",
      "+----+--------------------+--------------------+\n",
      "|2345|     Checked by John|     Checked by John|\n",
      "|2398|   Verified by Stacy|   Verified by Stacy|\n",
      "|2328|Verified by Srini...|Verified by Srinivas|\n",
      "|3983|Double Checked on...|   2/23/17 by Marsha|\n",
      "+----+--------------------+--------------------+\n",
      "\n"
     ]
    }
   ],
   "source": [
    "# \\w : [a-zA-Z0-9_]\n",
    "# [\\w/]+ : [a-zA-Z0-9_/]\n",
    "df.withColumn( 'fname', regexp_extract(df['Notes'], '([\\w/]+) by ([a-zA-Z]+)', 0) ).show()"
   ]
  },
  {
   "cell_type": "markdown",
   "metadata": {},
   "source": [
    "# regexp_replace"
   ]
  },
  {
   "cell_type": "code",
   "execution_count": 19,
   "metadata": {},
   "outputs": [
    {
     "name": "stdout",
     "output_type": "stream",
     "text": [
      "+----+--------------------+--------------------+\n",
      "|  ID|               Notes|               fname|\n",
      "+----+--------------------+--------------------+\n",
      "|2345|     Checked by John|    Checked and John|\n",
      "|2398|   Verified by Stacy|  Verified and Stacy|\n",
      "|2328|Verified by Srini...|Verified and Srin...|\n",
      "|3983|Double Checked on...|Double Checked on...|\n",
      "+----+--------------------+--------------------+\n",
      "\n"
     ]
    }
   ],
   "source": [
    "df.withColumn( 'fname', regexp_replace(df['Notes'], 'by', 'and') ).show()"
   ]
  },
  {
   "cell_type": "code",
   "execution_count": 20,
   "metadata": {},
   "outputs": [
    {
     "name": "stdout",
     "output_type": "stream",
     "text": [
      "+----+--------------------+--------------------+\n",
      "|  ID|               Notes|               fname|\n",
      "+----+--------------------+--------------------+\n",
      "|2345|     Checked by John|         Checked and|\n",
      "|2398|   Verified by Stacy|        Verified and|\n",
      "|2328|Verified by Srini...|Verified and than...|\n",
      "|3983|Double Checked on...|Double Checked on...|\n",
      "+----+--------------------+--------------------+\n",
      "\n"
     ]
    }
   ],
   "source": [
    "df.withColumn( 'fname', regexp_replace(df['Notes'], 'by [a-zA-Z]+', 'and') ).show()"
   ]
  }
 ],
 "metadata": {
  "kernelspec": {
   "display_name": "Python 3",
   "language": "python",
   "name": "python3"
  },
  "language_info": {
   "codemirror_mode": {
    "name": "ipython",
    "version": 3
   },
   "file_extension": ".py",
   "mimetype": "text/x-python",
   "name": "python",
   "nbconvert_exporter": "python",
   "pygments_lexer": "ipython3",
   "version": "3.7.6"
  }
 },
 "nbformat": 4,
 "nbformat_minor": 4
}
