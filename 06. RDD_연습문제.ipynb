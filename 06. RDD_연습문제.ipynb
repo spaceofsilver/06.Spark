{
 "cells": [
  {
   "cell_type": "code",
   "execution_count": 1,
   "metadata": {},
   "outputs": [],
   "source": [
    "from pyspark import SparkContext"
   ]
  },
  {
   "cell_type": "code",
   "execution_count": 2,
   "metadata": {},
   "outputs": [],
   "source": [
    "sc = SparkContext('local')"
   ]
  },
  {
   "cell_type": "code",
   "execution_count": 5,
   "metadata": {},
   "outputs": [
    {
     "data": {
      "text/plain": [
       "['year,height,weight,grade,gender,gradecode,gendercode',\n",
       " '2017,152.5,47.9,elementary,man,2,1',\n",
       " '2017,153.2,46.6,elementary,woman,2,0',\n",
       " '2017,170.6,63.8,middle,man,0,1',\n",
       " '2017,160.4,54.2,middle,woman,0,0',\n",
       " '2017,173.9,72.3,high,man,1,1',\n",
       " '2017,160.9,57.7,high,woman,1,0']"
      ]
     },
     "execution_count": 5,
     "metadata": {},
     "output_type": "execute_result"
    }
   ],
   "source": [
    "weightRdd = sc.textFile( '../data/data1/weight.csv')\n",
    "weightRdd.collect()"
   ]
  },
  {
   "cell_type": "code",
   "execution_count": 8,
   "metadata": {},
   "outputs": [
    {
     "data": {
      "text/plain": [
       "[['year', 'height', 'weight', 'grade', 'gender', 'gradecode', 'gendercode'],\n",
       " ['2017', '152.5', '47.9', 'elementary', 'man', '2', '1'],\n",
       " ['2017', '153.2', '46.6', 'elementary', 'woman', '2', '0'],\n",
       " ['2017', '170.6', '63.8', 'middle', 'man', '0', '1'],\n",
       " ['2017', '160.4', '54.2', 'middle', 'woman', '0', '0'],\n",
       " ['2017', '173.9', '72.3', 'high', 'man', '1', '1'],\n",
       " ['2017', '160.9', '57.7', 'high', 'woman', '1', '0']]"
      ]
     },
     "execution_count": 8,
     "metadata": {},
     "output_type": "execute_result"
    }
   ],
   "source": [
    "wRdd = weightRdd.map( lambda v: v.split(','))\n",
    "wRdd.collect()"
   ]
  },
  {
   "cell_type": "code",
   "execution_count": 49,
   "metadata": {},
   "outputs": [
    {
     "data": {
      "text/plain": [
       "[['2017', '152.5', '47.9', 'elementary', 'man', '2', '1'],\n",
       " ['2017', '153.2', '46.6', 'elementary', 'woman', '2', '0'],\n",
       " ['2017', '170.6', '63.8', 'middle', 'man', '0', '1'],\n",
       " ['2017', '160.4', '54.2', 'middle', 'woman', '0', '0'],\n",
       " ['2017', '173.9', '72.3', 'high', 'man', '1', '1'],\n",
       " ['2017', '160.9', '57.7', 'high', 'woman', '1', '0']]"
      ]
     },
     "execution_count": 49,
     "metadata": {},
     "output_type": "execute_result"
    }
   ],
   "source": [
    "wRdd1 = wRdd.filter( lambda v: v[0]=='2017' ) # 각 리스트에서 0번 째 값이 2017인 것만 출력( True만 출력 )\n",
    "wRdd1.collect()"
   ]
  },
  {
   "cell_type": "markdown",
   "metadata": {},
   "source": [
    "## 연습문제\n",
    "- 1.전체 키의 합과 평균을 구하시오\n",
    "- 2.다음과 같이 변경하시오(학년별 갯수)\n",
    "- [('elementary', 2), ('middle', 2), ('high', 2)]\n"
   ]
  },
  {
   "cell_type": "code",
   "execution_count": 63,
   "metadata": {},
   "outputs": [
    {
     "data": {
      "text/plain": [
       "971.5"
      ]
     },
     "execution_count": 63,
     "metadata": {},
     "output_type": "execute_result"
    }
   ],
   "source": [
    "# 1. 키의 합\n",
    "round( wRdd1.map( lambda v: v[1] ).map( lambda v: float( v ) ).sum() , 2 )"
   ]
  },
  {
   "cell_type": "code",
   "execution_count": 64,
   "metadata": {},
   "outputs": [
    {
     "data": {
      "text/plain": [
       "161.92"
      ]
     },
     "execution_count": 64,
     "metadata": {},
     "output_type": "execute_result"
    }
   ],
   "source": [
    "# 1. 키의 평균\n",
    "round( wRdd1.map( lambda v: v[1] ).map( lambda v: float( v ) ).mean() , 2 )"
   ]
  },
  {
   "cell_type": "code",
   "execution_count": 61,
   "metadata": {},
   "outputs": [
    {
     "data": {
      "text/plain": [
       "[('elementary', 2), ('middle', 2), ('high', 2)]"
      ]
     },
     "execution_count": 61,
     "metadata": {},
     "output_type": "execute_result"
    }
   ],
   "source": [
    "# 2. \n",
    "wRdd1.map( lambda v: (v[3] , 1) ).reduceByKey(lambda a,b: a+b ).collect() "
   ]
  },
  {
   "cell_type": "code",
   "execution_count": 67,
   "metadata": {},
   "outputs": [
    {
     "data": {
      "text/plain": [
       "2"
      ]
     },
     "execution_count": 67,
     "metadata": {},
     "output_type": "execute_result"
    }
   ],
   "source": [
    "# 딕셔너리 형태로 출력하기( action 함수 )\n",
    "wRdd1.map( lambda v: (v[3] , 1) ).countByKey()['elementary']"
   ]
  },
  {
   "cell_type": "code",
   "execution_count": null,
   "metadata": {},
   "outputs": [],
   "source": [
    "3.몸무게가 높은 순으로 정렬하시오\n",
    "4. elementary(초등학생) 데이터를 구하시요\n",
    "5. 몸무게가 60 이상인 데이터를 구하시요\n"
   ]
  },
  {
   "cell_type": "code",
   "execution_count": 73,
   "metadata": {},
   "outputs": [
    {
     "data": {
      "text/plain": [
       "[['2017', '173.9', '72.3', 'high', 'man', '1', '1'],\n",
       " ['2017', '170.6', '63.8', 'middle', 'man', '0', '1'],\n",
       " ['2017', '160.9', '57.7', 'high', 'woman', '1', '0'],\n",
       " ['2017', '160.4', '54.2', 'middle', 'woman', '0', '0'],\n",
       " ['2017', '152.5', '47.9', 'elementary', 'man', '2', '1'],\n",
       " ['2017', '153.2', '46.6', 'elementary', 'woman', '2', '0']]"
      ]
     },
     "execution_count": 73,
     "metadata": {},
     "output_type": "execute_result"
    }
   ],
   "source": [
    "wRdd1.sortBy( lambda x: x[2], ascending=False ).collect()"
   ]
  },
  {
   "cell_type": "code",
   "execution_count": 78,
   "metadata": {},
   "outputs": [
    {
     "data": {
      "text/plain": [
       "[['2017', '152.5', '47.9', 'elementary', 'man', '2', '1'],\n",
       " ['2017', '153.2', '46.6', 'elementary', 'woman', '2', '0']]"
      ]
     },
     "execution_count": 78,
     "metadata": {},
     "output_type": "execute_result"
    }
   ],
   "source": [
    "wRdd1.filter( lambda x: x[3] == 'elementary').collect()"
   ]
  },
  {
   "cell_type": "code",
   "execution_count": 81,
   "metadata": {},
   "outputs": [
    {
     "data": {
      "text/plain": [
       "[['2017', '170.6', '63.8', 'middle', 'man', '0', '1'],\n",
       " ['2017', '173.9', '72.3', 'high', 'man', '1', '1']]"
      ]
     },
     "execution_count": 81,
     "metadata": {},
     "output_type": "execute_result"
    }
   ],
   "source": [
    "wRdd1.filter( lambda x: float( x[2] ) >=  60 ).collect()"
   ]
  }
 ],
 "metadata": {
  "kernelspec": {
   "display_name": "Python 3",
   "language": "python",
   "name": "python3"
  },
  "language_info": {
   "codemirror_mode": {
    "name": "ipython",
    "version": 3
   },
   "file_extension": ".py",
   "mimetype": "text/x-python",
   "name": "python",
   "nbconvert_exporter": "python",
   "pygments_lexer": "ipython3",
   "version": "3.7.6"
  }
 },
 "nbformat": 4,
 "nbformat_minor": 4
}
