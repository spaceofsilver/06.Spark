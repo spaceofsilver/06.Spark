{
 "cells": [
  {
   "cell_type": "markdown",
   "metadata": {},
   "source": [
    "Jan 13 ,Wen, 2021 "
   ]
  },
  {
   "cell_type": "code",
   "execution_count": 1,
   "metadata": {},
   "outputs": [
    {
     "name": "stderr",
     "output_type": "stream",
     "text": [
      "C:\\Users\\master4\\anaconda3\\lib\\importlib\\_bootstrap.py:219: RuntimeWarning: numpy.ufunc size changed, may indicate binary incompatibility. Expected 192 from C header, got 216 from PyObject\n",
      "  return f(*args, **kwds)\n"
     ]
    }
   ],
   "source": [
    "Jan 13 ,Wen, 2021 from pyspark.sql import  SQLContext \n",
    "from pyspark import SparkContext\n",
    "from pyspark.ml.classification import LogisticRegression\n",
    "from pyspark.ml.feature import VectorAssembler\n",
    "import matplotlib.pyplot as plt\n",
    "import matplotlib\n",
    "import pandas as pd\n",
    "matplotlib.rcParams['font.family'] = 'Malgun Gothic'\n",
    "matplotlib.rcParams['axes.unicode_minus'] = False"
   ]
  },
  {
   "cell_type": "code",
   "execution_count": 2,
   "metadata": {},
   "outputs": [],
   "source": [
    "sc = SparkContext('local')\n",
    "sqlctx = SQLContext(sc)"
   ]
  },
  {
   "cell_type": "markdown",
   "metadata": {},
   "source": [
    "# 로지스틱 회귀\n",
    "- **분류**\n",
    "- 이산형 변수여야 함\n",
    "\n",
    "# 타이타닉 데이터\n",
    "- 생존 여부를 예측\n",
    "- feature\n",
    "    - Age Family_Size Sex_index Pclass"
   ]
  },
  {
   "cell_type": "code",
   "execution_count": 3,
   "metadata": {},
   "outputs": [
    {
     "name": "stdout",
     "output_type": "stream",
     "text": [
      "+--------+------+----+-----+-----+-------+-----------+-----+---------+--------------+-------------+\n",
      "|Survived|Pclass| Age|SibSp|Parch|   Fare|Family_Size|Alone|Sex_index|Embarked_index|Initial_index|\n",
      "+--------+------+----+-----+-----+-------+-----------+-----+---------+--------------+-------------+\n",
      "|       0|     3|22.0|    1|    0|   7.25|          1|    0|      0.0|           0.0|          0.0|\n",
      "|       1|     1|38.0|    1|    0|71.2833|          1|    0|      1.0|           1.0|          2.0|\n",
      "|       1|     3|26.0|    0|    0|  7.925|          0|    1|      1.0|           0.0|          1.0|\n",
      "|       1|     1|35.0|    1|    0|   53.1|          1|    0|      1.0|           0.0|          2.0|\n",
      "|       0|     3|35.0|    0|    0|   8.05|          0|    1|      0.0|           0.0|          0.0|\n",
      "|       0|     3|33.0|    0|    0| 8.4583|          0|    1|      0.0|           2.0|          0.0|\n",
      "|       0|     1|54.0|    0|    0|51.8625|          0|    1|      0.0|           0.0|          0.0|\n",
      "|       0|     3| 2.0|    3|    1| 21.075|          4|    0|      0.0|           0.0|          3.0|\n",
      "|       1|     3|27.0|    0|    2|11.1333|          2|    0|      1.0|           0.0|          2.0|\n",
      "|       1|     2|14.0|    1|    0|30.0708|          1|    0|      1.0|           1.0|          2.0|\n",
      "|       1|     3| 4.0|    1|    1|   16.7|          2|    0|      1.0|           0.0|          1.0|\n",
      "|       1|     1|58.0|    0|    0|  26.55|          0|    1|      1.0|           0.0|          1.0|\n",
      "|       0|     3|20.0|    0|    0|   8.05|          0|    1|      0.0|           0.0|          0.0|\n",
      "|       0|     3|39.0|    1|    5| 31.275|          6|    0|      0.0|           0.0|          0.0|\n",
      "|       0|     3|14.0|    0|    0| 7.8542|          0|    1|      1.0|           0.0|          1.0|\n",
      "|       1|     2|55.0|    0|    0|   16.0|          0|    1|      1.0|           0.0|          2.0|\n",
      "|       0|     3| 2.0|    4|    1| 29.125|          5|    0|      0.0|           2.0|          3.0|\n",
      "|       1|     2|33.0|    0|    0|   13.0|          0|    1|      0.0|           0.0|          0.0|\n",
      "|       0|     3|31.0|    1|    0|   18.0|          1|    0|      1.0|           0.0|          2.0|\n",
      "|       1|     3|36.0|    0|    0|  7.225|          0|    1|      1.0|           1.0|          2.0|\n",
      "+--------+------+----+-----+-----+-------+-----------+-----+---------+--------------+-------------+\n",
      "only showing top 20 rows\n",
      "\n"
     ]
    }
   ],
   "source": [
    "titanic_df = sqlctx.read.csv('../data/data1/titanic1.csv', header=True, inferSchema=True)\n",
    "titanic_df.show(5)"
   ]
  },
  {
   "cell_type": "code",
   "execution_count": 9,
   "metadata": {},
   "outputs": [
    {
     "name": "stdout",
     "output_type": "stream",
     "text": [
      "+--------+------------------+\n",
      "|Survived|          features|\n",
      "+--------+------------------+\n",
      "|       0|[3.0,22.0,0.0,1.0]|\n",
      "|       1|[1.0,38.0,1.0,1.0]|\n",
      "|       1|[3.0,26.0,1.0,0.0]|\n",
      "|       1|[1.0,35.0,1.0,1.0]|\n",
      "|       0|[3.0,35.0,0.0,0.0]|\n",
      "|       0|[3.0,33.0,0.0,0.0]|\n",
      "|       0|[1.0,54.0,0.0,0.0]|\n",
      "|       0| [3.0,2.0,0.0,4.0]|\n",
      "|       1|[3.0,27.0,1.0,2.0]|\n",
      "|       1|[2.0,14.0,1.0,1.0]|\n",
      "|       1| [3.0,4.0,1.0,2.0]|\n",
      "|       1|[1.0,58.0,1.0,0.0]|\n",
      "|       0|[3.0,20.0,0.0,0.0]|\n",
      "|       0|[3.0,39.0,0.0,6.0]|\n",
      "|       0|[3.0,14.0,1.0,0.0]|\n",
      "|       1|[2.0,55.0,1.0,0.0]|\n",
      "|       0| [3.0,2.0,0.0,5.0]|\n",
      "|       1|[2.0,33.0,0.0,0.0]|\n",
      "|       0|[3.0,31.0,1.0,1.0]|\n",
      "|       1|[3.0,36.0,1.0,0.0]|\n",
      "+--------+------------------+\n",
      "only showing top 20 rows\n",
      "\n"
     ]
    }
   ],
   "source": [
    "f = VectorAssembler( inputCols=['Pclass', 'Age' ,'Sex_index', 'Family_Size'] ,outputCol='features' ) \n",
    "v_df = f.transform( titanic_df )\n",
    "v_df = v_df.select('Survived','features')\n",
    "v_df.show()"
   ]
  },
  {
   "cell_type": "code",
   "execution_count": 24,
   "metadata": {},
   "outputs": [
    {
     "data": {
      "text/plain": [
       "(710, 181)"
      ]
     },
     "execution_count": 24,
     "metadata": {},
     "output_type": "execute_result"
    }
   ],
   "source": [
    "train_df, test_df = v_df.randomSplit( [0.8,0.2] ) # 7:3\n",
    "train_df.count() , test_df.count()"
   ]
  },
  {
   "cell_type": "code",
   "execution_count": 26,
   "metadata": {},
   "outputs": [],
   "source": [
    "lr = LogisticRegression( featuresCol= 'features',\n",
    "                        labelCol = 'Survived',\n",
    "                        maxIter = 100                       \n",
    "                           )\n",
    "lr_model = lr.fit( train_df ) # 학습 시키기"
   ]
  },
  {
   "cell_type": "code",
   "execution_count": 32,
   "metadata": {},
   "outputs": [
    {
     "data": {
      "text/plain": [
       "DenseVector([-1.1188, -0.0402, 2.8246, -0.3167])"
      ]
     },
     "execution_count": 32,
     "metadata": {},
     "output_type": "execute_result"
    }
   ],
   "source": [
    "lr_model.coefficients"
   ]
  },
  {
   "cell_type": "code",
   "execution_count": 33,
   "metadata": {},
   "outputs": [
    {
     "data": {
      "text/plain": [
       "2.4740304307836007"
      ]
     },
     "execution_count": 33,
     "metadata": {},
     "output_type": "execute_result"
    }
   ],
   "source": [
    "lr_model.intercept"
   ]
  },
  {
   "cell_type": "code",
   "execution_count": 46,
   "metadata": {},
   "outputs": [
    {
     "data": {
      "text/plain": [
       "LogisticRegressionModel: uid = LogisticRegression_b48c740c2da6, numClasses = 2, numFeatures = 4"
      ]
     },
     "execution_count": 46,
     "metadata": {},
     "output_type": "execute_result"
    }
   ],
   "source": [
    "lr_model"
   ]
  },
  {
   "cell_type": "markdown",
   "metadata": {},
   "source": [
    "# probability"
   ]
  },
  {
   "cell_type": "code",
   "execution_count": 45,
   "metadata": {},
   "outputs": [
    {
     "data": {
      "text/html": [
       "<div>\n",
       "<style scoped>\n",
       "    .dataframe tbody tr th:only-of-type {\n",
       "        vertical-align: middle;\n",
       "    }\n",
       "\n",
       "    .dataframe tbody tr th {\n",
       "        vertical-align: top;\n",
       "    }\n",
       "\n",
       "    .dataframe thead th {\n",
       "        text-align: right;\n",
       "    }\n",
       "</style>\n",
       "<table border=\"1\" class=\"dataframe\">\n",
       "  <thead>\n",
       "    <tr style=\"text-align: right;\">\n",
       "      <th></th>\n",
       "      <th>probability</th>\n",
       "    </tr>\n",
       "  </thead>\n",
       "  <tbody>\n",
       "    <tr>\n",
       "      <th>0</th>\n",
       "      <td>[0.3842687030258891, 0.6157312969741109]</td>\n",
       "    </tr>\n",
       "    <tr>\n",
       "      <th>1</th>\n",
       "      <td>[0.5897069548279652, 0.4102930451720349]</td>\n",
       "    </tr>\n",
       "    <tr>\n",
       "      <th>2</th>\n",
       "      <td>[0.5315626853501401, 0.4684373146498599]</td>\n",
       "    </tr>\n",
       "    <tr>\n",
       "      <th>3</th>\n",
       "      <td>[0.4926076721746986, 0.5073923278253014]</td>\n",
       "    </tr>\n",
       "    <tr>\n",
       "      <th>4</th>\n",
       "      <td>[0.4926076721746986, 0.5073923278253014]</td>\n",
       "    </tr>\n",
       "    <tr>\n",
       "      <th>...</th>\n",
       "      <td>...</td>\n",
       "    </tr>\n",
       "    <tr>\n",
       "      <th>176</th>\n",
       "      <td>[0.8772808549005682, 0.1227191450994319]</td>\n",
       "    </tr>\n",
       "    <tr>\n",
       "      <th>177</th>\n",
       "      <td>[0.8973196281705009, 0.10268037182949896]</td>\n",
       "    </tr>\n",
       "    <tr>\n",
       "      <th>178</th>\n",
       "      <td>[0.378463461727147, 0.6215365382728529]</td>\n",
       "    </tr>\n",
       "    <tr>\n",
       "      <th>179</th>\n",
       "      <td>[0.4552711451928462, 0.5447288548071537]</td>\n",
       "    </tr>\n",
       "    <tr>\n",
       "      <th>180</th>\n",
       "      <td>[0.8152288461234662, 0.1847711538765338]</td>\n",
       "    </tr>\n",
       "  </tbody>\n",
       "</table>\n",
       "<p>181 rows × 1 columns</p>\n",
       "</div>"
      ],
      "text/plain": [
       "                                   probability\n",
       "0     [0.3842687030258891, 0.6157312969741109]\n",
       "1     [0.5897069548279652, 0.4102930451720349]\n",
       "2     [0.5315626853501401, 0.4684373146498599]\n",
       "3     [0.4926076721746986, 0.5073923278253014]\n",
       "4     [0.4926076721746986, 0.5073923278253014]\n",
       "..                                         ...\n",
       "176   [0.8772808549005682, 0.1227191450994319]\n",
       "177  [0.8973196281705009, 0.10268037182949896]\n",
       "178    [0.378463461727147, 0.6215365382728529]\n",
       "179   [0.4552711451928462, 0.5447288548071537]\n",
       "180   [0.8152288461234662, 0.1847711538765338]\n",
       "\n",
       "[181 rows x 1 columns]"
      ]
     },
     "execution_count": 45,
     "metadata": {},
     "output_type": "execute_result"
    }
   ],
   "source": [
    "pd = lr_predict.select('probability').toPandas()\n",
    "pd # 0으로 분류될 확률, 1으로 분류될 확률"
   ]
  },
  {
   "cell_type": "markdown",
   "metadata": {},
   "source": [
    "# prediction"
   ]
  },
  {
   "cell_type": "code",
   "execution_count": 34,
   "metadata": {},
   "outputs": [
    {
     "name": "stdout",
     "output_type": "stream",
     "text": [
      "+--------+------------------+--------------------+--------------------+----------+\n",
      "|Survived|          features|       rawPrediction|         probability|prediction|\n",
      "+--------+------------------+--------------------+--------------------+----------+\n",
      "|       0|[1.0,22.0,0.0,0.0]|[-0.4714686068151...|[0.38426870302588...|       1.0|\n",
      "|       0|[1.0,27.0,0.0,2.0]|[0.36275407806547...|[0.58970695482796...|       0.0|\n",
      "|       0|[1.0,29.0,0.0,1.0]|[0.12641883865996...|[0.53156268535014...|       0.0|\n",
      "|       0|[1.0,33.0,0.0,0.0]|[-0.0295714660633...|[0.49260767217469...|       1.0|\n",
      "|       0|[1.0,33.0,0.0,0.0]|[-0.0295714660633...|[0.49260767217469...|       1.0|\n",
      "|       0|[1.0,40.0,0.0,0.0]|[0.25163580532410...|[0.56257908729249...|       0.0|\n",
      "|       0|[1.0,49.0,0.0,2.0]|[1.24654835956905...|[0.77670179385308...|       0.0|\n",
      "|       0|[1.0,50.0,0.0,1.0]|[0.97004065282247...|[0.72512760068550...|       0.0|\n",
      "|       0|[1.0,50.0,1.0,0.0]|[-2.1711957080292...|[0.10236710987306...|       1.0|\n",
      "|       0|[1.0,52.0,0.0,2.0]|[1.36706576159226...|[0.79690566952376...|       0.0|\n",
      "|       0|[1.0,56.0,0.0,0.0]|[0.89439528278125...|[0.70979637117106...|       0.0|\n",
      "|       0|[1.0,61.0,0.0,0.0]|[1.09525761948661...|[0.74937047215443...|       0.0|\n",
      "|       0|[1.0,64.0,0.0,5.0]|[2.79917589194807...|[0.94263127460594...|       0.0|\n",
      "|       0|[1.0,65.0,0.0,0.0]|[1.25594748885089...|[0.77832770178196...|       0.0|\n",
      "|       0|[1.0,65.0,0.0,1.0]|[1.57262766293854...|[0.82815787981546...|       0.0|\n",
      "|       0|[1.0,71.0,0.0,0.0]|[1.49698229289732...|[0.81712396448134...|       0.0|\n",
      "|       0|[2.0,16.0,0.0,0.0]|[0.40626413160322...|[0.60019175030731...|       0.0|\n",
      "|       0|[2.0,16.0,0.0,0.0]|[0.40626413160322...|[0.60019175030731...|       0.0|\n",
      "|       0|[2.0,18.0,0.0,0.0]|[0.48660906628537...|[0.61930729031234...|       0.0|\n",
      "|       0|[2.0,19.0,0.0,0.0]|[0.52678153362644...|[0.62873214347490...|       0.0|\n",
      "+--------+------------------+--------------------+--------------------+----------+\n",
      "only showing top 20 rows\n",
      "\n"
     ]
    }
   ],
   "source": [
    "lr_predict = lr_model.transform( test_df ) # transformation : 연산함수\n",
    "lr_predict.show()\n",
    "# 0.5보다 크면 0으로 예측하고, 0.5보다 작으면 1으로 예측"
   ]
  },
  {
   "cell_type": "code",
   "execution_count": 37,
   "metadata": {},
   "outputs": [
    {
     "data": {
      "text/plain": [
       "149"
      ]
     },
     "execution_count": 37,
     "metadata": {},
     "output_type": "execute_result"
    }
   ],
   "source": [
    "lr_predict.where( lr_predict['Survived'] == lr_predict['prediction']).count()"
   ]
  },
  {
   "cell_type": "code",
   "execution_count": 47,
   "metadata": {},
   "outputs": [
    {
     "data": {
      "text/plain": [
       "181"
      ]
     },
     "execution_count": 47,
     "metadata": {},
     "output_type": "execute_result"
    }
   ],
   "source": [
    "lr_predict.count()"
   ]
  },
  {
   "cell_type": "code",
   "execution_count": 42,
   "metadata": {},
   "outputs": [
    {
     "name": "stdout",
     "output_type": "stream",
     "text": [
      "정확도 0.8232044198895028\n"
     ]
    }
   ],
   "source": [
    "print( '정확도', lr_predict.where( lr_predict['Survived'] == lr_predict['prediction']).count()/lr_predict.count())"
   ]
  }
 ],
 "metadata": {
  "kernelspec": {
   "display_name": "Python 3",
   "language": "python",
   "name": "python3"
  },
  "language_info": {
   "codemirror_mode": {
    "name": "ipython",
    "version": 3
   },
   "file_extension": ".py",
   "mimetype": "text/x-python",
   "name": "python",
   "nbconvert_exporter": "python",
   "pygments_lexer": "ipython3",
   "version": "3.7.6"
  }
 },
 "nbformat": 4,
 "nbformat_minor": 4
}
