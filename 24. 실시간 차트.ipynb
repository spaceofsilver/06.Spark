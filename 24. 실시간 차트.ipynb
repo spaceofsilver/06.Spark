{
 "cells": [
  {
   "cell_type": "markdown",
   "metadata": {},
   "source": [
    "Jan 12 2021 (Tue)"
   ]
  },
  {
   "cell_type": "markdown",
   "metadata": {},
   "source": [
    "# 실시간 차트 그리는 법\n",
    "- 3초에 한번씩 확인하고 데이터 추가 생성\n",
    "- 주피터에서는 안 됨\n",
    "- prompt에서 python 파일 읽어야 됨"
   ]
  },
  {
   "cell_type": "code",
   "execution_count": 5,
   "metadata": {},
   "outputs": [
    {
     "name": "stdout",
     "output_type": "stream",
     "text": [
      "---------\n"
     ]
    },
    {
     "data": {
      "image/png": "[encoded data removed]",
      "text/plain": [
       "<Figure size 432x288 with 1 Axes>"
      ]
     },
     "metadata": {},
     "output_type": "display_data"
    }
   ],
   "source": [
    "import matplotlib.pyplot as plt\n",
    "import matplotlib.animation as animation\n",
    "from matplotlib import style\n",
    "\n",
    "style.use('fivethirtyeight')\n",
    "fig = plt.figure()\n",
    "ax1 = fig.add_subplot(1,1,1)\n",
    "\n",
    "def animate(i):\n",
    "    graph_data = open(r'C:\\Users\\master4\\Documents\\eunseo\\aa.txt').read()\n",
    "    lines = graph_data.split('\\n')\n",
    "    xs=[]\n",
    "    ys=[]\n",
    "    for line in lines:\n",
    "        if len(line) > 1:\n",
    "            x,y= line.split(',')\n",
    "            xs.append(x)\n",
    "            ys.append(y)\n",
    "\n",
    "    print(\"---------\")\n",
    "    ax1.clear()\n",
    "    ax1.plot(xs,ys)\n",
    "\n",
    "ani = animation.FuncAnimation(fig, animate, interval=3000)\n",
    "plt.show()\n",
    "\n"
   ]
  },
  {
   "cell_type": "code",
   "execution_count": null,
   "metadata": {},
   "outputs": [],
   "source": []
  }
 ],
 "metadata": {
  "kernelspec": {
   "display_name": "Python 3",
   "language": "python",
   "name": "python3"
  },
  "language_info": {
   "codemirror_mode": {
    "name": "ipython",
    "version": 3
   },
   "file_extension": ".py",
   "mimetype": "text/x-python",
   "name": "python",
   "nbconvert_exporter": "python",
   "pygments_lexer": "ipython3",
   "version": "3.7.6"
  }
 },
 "nbformat": 4,
 "nbformat_minor": 4
}
